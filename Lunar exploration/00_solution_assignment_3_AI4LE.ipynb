{
  "metadata": {
    "kernelspec": {
      "language": "python",
      "display_name": "Python 3",
      "name": "python3"
    },
    "language_info": {
      "name": "python",
      "version": "3.7.12",
      "mimetype": "text/x-python",
      "codemirror_mode": {
        "name": "ipython",
        "version": 3
      },
      "pygments_lexer": "ipython3",
      "nbconvert_exporter": "python",
      "file_extension": ".py"
    },
    "colab": {
      "name": "00_solution_assignment - 3 AI4LE.ipynb",
      "provenance": [],
      "collapsed_sections": []
    }
  },
  "nbformat_minor": 0,
  "nbformat": 4,
  "cells": [
    {
      "cell_type": "markdown",
      "source": [
        "# <center> Assignment 3"
      ],
      "metadata": {
        "id": "vhM1HCmfiYoR"
      }
    },
    {
      "cell_type": "code",
      "source": [
        "###### IMPORTANT ########\n",
        "Your_Name = \" \"\n",
        "Your_Email_id = \" \""
      ],
      "metadata": {
        "id": "rwlKoruKiYoa"
      },
      "execution_count": null,
      "outputs": []
    },
    {
      "cell_type": "code",
      "source": [
        "# import libraries \n",
        "import os\n",
        "import numpy as np # linear algebra\n",
        "import pandas as pd # data processing, CSV file I/O (e.g. pd.read_csv)\n",
        "import cv2 \n",
        "import matplotlib.pyplot as plt"
      ],
      "metadata": {
        "_uuid": "8f2839f25d086af736a60e9eeb907d3b93b6e0e5",
        "_cell_guid": "b1076dfc-b9ad-4769-8c92-a6c4dae69d19",
        "execution": {
          "iopub.status.busy": "2022-05-02T16:40:49.950511Z",
          "iopub.execute_input": "2022-05-02T16:40:49.950899Z",
          "iopub.status.idle": "2022-05-02T16:40:49.956239Z",
          "shell.execute_reply.started": "2022-05-02T16:40:49.950849Z",
          "shell.execute_reply": "2022-05-02T16:40:49.955171Z"
        },
        "trusted": true,
        "id": "MNFr2neLiYod"
      },
      "execution_count": null,
      "outputs": []
    },
    {
      "cell_type": "markdown",
      "source": [
        "## Q1 (3 points) \n",
        "#### Which of the following is not an activation function\n",
        "\n",
        "* a - Sigmoid function\n",
        "* b - Hyperbolic tangent function\n",
        "* c - Rectified linear unit (RELU) function\n",
        "* d - Leaky RELU function\n",
        "* e - dynamic function\n",
        "* f - Maxout function\n",
        "* g - gaussian function\n",
        "* h - sobel function\n",
        "* i - Exponential Linear unit (ELU) function"
      ],
      "metadata": {
        "id": "J40SR5PtiYoe"
      }
    },
    {
      "cell_type": "code",
      "source": [
        "# print the correct options here\n",
        "print(\"E H \")\n",
        "\n",
        "# G is doubtful - CORRECT hai E G H!"
      ],
      "metadata": {
        "id": "Szwx2zSNiYof",
        "colab": {
          "base_uri": "https://localhost:8080/"
        },
        "outputId": "88cd04bc-f212-4d14-9f30-1057b4bf81f0"
      },
      "execution_count": null,
      "outputs": [
        {
          "output_type": "stream",
          "name": "stdout",
          "text": [
            "E H \n"
          ]
        }
      ]
    },
    {
      "cell_type": "markdown",
      "source": [
        "## Q2(3 points)\n",
        "\n",
        "#### Suppose a neuron N in layer 2 has 5 input neurons from layer 1. Do all these 5 input neurons have the same contribution towards the output of the neuron N? Explain."
      ],
      "metadata": {
        "id": "d9QAsqOZiYoh"
      }
    },
    {
      "cell_type": "code",
      "source": [
        "# write your answer here \n",
        "print(\"NO, all these 5 input layer have different contribution towards the output of the neuron N. As each input contains different weight will impact differently on our next layer.\")"
      ],
      "metadata": {
        "id": "RAf7PKx7iYoh"
      },
      "execution_count": null,
      "outputs": []
    },
    {
      "cell_type": "markdown",
      "source": [
        "## Q3 (4 points)\n",
        "#### Organise below points in right sequence\n",
        "\n",
        "1. Dataset capturing \n",
        "2. Optimizing parameters with backpropagation\n",
        "3. Predicting the final output using our model\n",
        "4. Data preprocessing\n",
        "5. Calculating loss function\n",
        "6. Applying activation function on initial output\n",
        "7. Initializing weights and biases"
      ],
      "metadata": {
        "id": "-WZWu9isiYoi"
      }
    },
    {
      "cell_type": "code",
      "source": [
        "# print the right sequence here\n",
        "print(\"7 1 4 6 5 2 3\")"
      ],
      "metadata": {
        "id": "o-hF7ANAiYoj"
      },
      "execution_count": null,
      "outputs": []
    },
    {
      "cell_type": "markdown",
      "source": [
        "## Q4 (6 points) \n",
        "\n",
        "#### Define below points - \n",
        "\n",
        "a. Why is normalization done in batches? \n",
        "\n",
        "b. When is it suitable to use batches? \n",
        "\n",
        "c. Can we do without batches? If yes, in which case?"
      ],
      "metadata": {
        "id": "wRtWNqAIiYol"
      }
    },
    {
      "cell_type": "code",
      "source": [
        "# write you answers here\n",
        "\n",
        "a = 'To reduce irregularities in data set we normalize the entire data set. If the dataset is too large, we do the normalization in batches.'\n",
        "b = 'When there is large dataset and we have preparing a deep neural network with many layers as they can be delicate to the underlying initial random weights and design of the learning algorithm. Sometimes it very expensive to load the data into the systems and wehave limited number of network, so we have to feed the data into batches and normalize the batch, for that we have to add additional layers to it (sometimes batch normalization layer, which perform standardizing and normalizing within the layer and make it ready for the next input).'\n",
        "c = 'Yes, we can work wihtout batches - whenever the data set size is small. In that case, normalization will also happen without batches - once over the entire dataset.'\n",
        "print(a)\n",
        "print()\n",
        "print(b)\n",
        "print()\n",
        "print(c)\n"
      ],
      "metadata": {
        "id": "hrJ44pxwiYom",
        "colab": {
          "base_uri": "https://localhost:8080/"
        },
        "outputId": "9ff90573-b524-475f-8fc9-ac9ec153588a"
      },
      "execution_count": null,
      "outputs": [
        {
          "output_type": "stream",
          "name": "stdout",
          "text": [
            "To reduce irregularities in data set we normalize the entire data set. If the dataset is too large, we do the normalization in batches.\n",
            "\n",
            "When there is large dataset and we have preparing a deep neural network with many layers as they can be delicate to the underlying initial random weights and design of the learning algorithm. Sometimes it very expensive to load the data into the systems and wehave limited number of network, so we have to feed the data into batches and normalize the batch, for that we have to add additional layers to it (sometimes batch normalization layer, which perform standardizing and normalizing within the layer and make it ready for the next input).\n",
            "\n",
            "Yes, we can work wihtout batches - whenever the data set size is small. In that case, normalization will also happen without batches - once over the entire dataset.\n"
          ]
        }
      ]
    },
    {
      "cell_type": "markdown",
      "source": [
        "## Q5  (4 points)\n",
        "\n",
        "#### Which propogation pass helps you (forward, backward)\n",
        "\n",
        "a. obtain network output?\n",
        "\n",
        "b. update weights?\n",
        "\n",
        "c. calculate gradients?\n",
        "\n",
        "d. calculate loss?"
      ],
      "metadata": {
        "id": "f525afFdiYom"
      }
    },
    {
      "cell_type": "code",
      "source": [
        "# print your answers below\n",
        "\n",
        "print('foward propagation')\n",
        "\n",
        "print('backward propagation')\n",
        "\n",
        "print('backward propagation')\n",
        "\n",
        "print('forward propagation')"
      ],
      "metadata": {
        "id": "T8MLfalhiYon"
      },
      "execution_count": null,
      "outputs": []
    },
    {
      "cell_type": "markdown",
      "source": [
        "## Q6. (4 points)\n",
        "### Write categorical crossentropy loss in python from scratch and state a difference between categorial crossentropy and binary crossentropy."
      ],
      "metadata": {
        "id": "dxGqCt_yiYoo"
      }
    },
    {
      "cell_type": "code",
      "source": [
        "## write your answers here\n",
        "\n",
        "def categorical_crossentropy(target, output, from_logits=False):\n",
        "    if from_logits:\n",
        "        output = softmax(output)\n",
        "    else:\n",
        "        output /= output.sum(axis=-1, keepdims=True)\n",
        "    output = np.clip(output, 1e-7, 1 - 1e-7)\n",
        "    return np.sum(target * -np.log(output), axis=-1, keepdims=False)\n",
        "\n",
        "\n",
        "\n",
        "print(\"Binary cross-entropy is for binary classification and categorical cross-entropy is for multi-class classification, but both work for binary classification, for categorical cross-entropy you need to change data to categorical(one-hot encoding). Binary cross entropy is just a special case of categorical cross entropy.\")"
      ],
      "metadata": {
        "id": "fF9wGws4iYoo"
      },
      "execution_count": null,
      "outputs": []
    },
    {
      "cell_type": "markdown",
      "source": [
        "# Building a pokemon classification model using tensorflow"
      ],
      "metadata": {
        "id": "JWDZ5UjjiYop"
      }
    },
    {
      "cell_type": "markdown",
      "source": [
        "## Import dataset\n",
        "\n",
        "#### Go to Add data button and import https://www.kaggle.com/datasets/vishalsubbiah/pokemon-images-and-types dataset"
      ],
      "metadata": {
        "id": "M6z7riU4iYop"
      }
    },
    {
      "cell_type": "code",
      "source": [
        "from google.colab import drive\n",
        "drive.mount('/content/drive')"
      ],
      "metadata": {
        "colab": {
          "base_uri": "https://localhost:8080/"
        },
        "id": "MF2_7G5BpCng",
        "outputId": "148da851-707c-45ed-a54c-67b1fccfc1c8"
      },
      "execution_count": null,
      "outputs": [
        {
          "output_type": "stream",
          "name": "stdout",
          "text": [
            "Mounted at /content/drive\n"
          ]
        }
      ]
    },
    {
      "cell_type": "markdown",
      "source": [
        "## Q.7 (5 points)\n",
        "#### List all the image filenames present in \"../input/pokemon-images-and-types/images/images\" location and show first five images using matplotib subplots\n"
      ],
      "metadata": {
        "id": "PvDupNnziYoq"
      }
    },
    {
      "cell_type": "code",
      "source": [
        "# defining root directory\n",
        "root_dir = r'/content/drive/MyDrive/Kaggle_DBs/archive/images/images'\n",
        "\n",
        "files = os.listdir(root_dir)\n",
        "\n",
        "plt.figure(figsize=(10,10))\n",
        "for i in range(5):\n",
        "  full_path = root_dir + '/' + files[i]\n",
        "  img = cv2.imread(full_path)\n",
        "  plt.subplot(1,5,i+1)\n",
        "  plt.xticks([])\n",
        "  plt.yticks([])\n",
        "  plt.grid(False)\n",
        "  plt.imshow(img, cmap=plt.cm.binary)\n",
        "  plt.xlabel(files[i])  \n",
        "plt.show()\n",
        "\n",
        "\n"
      ],
      "metadata": {
        "id": "R4_D7TjAiYoq",
        "colab": {
          "base_uri": "https://localhost:8080/",
          "height": 141
        },
        "outputId": "0c2351bc-82c4-41e8-ae84-5ff85e933225"
      },
      "execution_count": null,
      "outputs": [
        {
          "output_type": "display_data",
          "data": {
            "text/plain": [
              "<Figure size 720x720 with 5 Axes>"
            ],
            "image/png": "[encoded data removed]"
          },
          "metadata": {}
        }
      ]
    },
    {
      "cell_type": "markdown",
      "source": [
        "## Run the below 3 cells as it is"
      ],
      "metadata": {
        "id": "TBDpkMQaiYor"
      }
    },
    {
      "cell_type": "code",
      "source": [
        "## Run the below cells as it is\n",
        "data = pd.read_csv(r'/content/drive/MyDrive/Kaggle_DBs/archive/pokemon.csv')\n",
        "\n",
        "data.head()"
      ],
      "metadata": {
        "trusted": true,
        "id": "n302R6JYiYor",
        "colab": {
          "base_uri": "https://localhost:8080/",
          "height": 206
        },
        "outputId": "32878ba2-ab88-4b84-e240-812ae378e214"
      },
      "execution_count": null,
      "outputs": [
        {
          "output_type": "execute_result",
          "data": {
            "text/plain": [
              "         Name  Type1   Type2\n",
              "0   bulbasaur  Grass  Poison\n",
              "1     ivysaur  Grass  Poison\n",
              "2    venusaur  Grass  Poison\n",
              "3  charmander   Fire     NaN\n",
              "4  charmeleon   Fire     NaN"
            ],
            "text/html": [
              "\n",
              "  <div id=\"df-73ae8785-f1e3-4fbd-a559-c73ff1053ba0\">\n",
              "    <div class=\"colab-df-container\">\n",
              "      <div>\n",
              "<style scoped>\n",
              "    .dataframe tbody tr th:only-of-type {\n",
              "        vertical-align: middle;\n",
              "    }\n",
              "\n",
              "    .dataframe tbody tr th {\n",
              "        vertical-align: top;\n",
              "    }\n",
              "\n",
              "    .dataframe thead th {\n",
              "        text-align: right;\n",
              "    }\n",
              "</style>\n",
              "<table border=\"1\" class=\"dataframe\">\n",
              "  <thead>\n",
              "    <tr style=\"text-align: right;\">\n",
              "      <th></th>\n",
              "      <th>Name</th>\n",
              "      <th>Type1</th>\n",
              "      <th>Type2</th>\n",
              "    </tr>\n",
              "  </thead>\n",
              "  <tbody>\n",
              "    <tr>\n",
              "      <th>0</th>\n",
              "      <td>bulbasaur</td>\n",
              "      <td>Grass</td>\n",
              "      <td>Poison</td>\n",
              "    </tr>\n",
              "    <tr>\n",
              "      <th>1</th>\n",
              "      <td>ivysaur</td>\n",
              "      <td>Grass</td>\n",
              "      <td>Poison</td>\n",
              "    </tr>\n",
              "    <tr>\n",
              "      <th>2</th>\n",
              "      <td>venusaur</td>\n",
              "      <td>Grass</td>\n",
              "      <td>Poison</td>\n",
              "    </tr>\n",
              "    <tr>\n",
              "      <th>3</th>\n",
              "      <td>charmander</td>\n",
              "      <td>Fire</td>\n",
              "      <td>NaN</td>\n",
              "    </tr>\n",
              "    <tr>\n",
              "      <th>4</th>\n",
              "      <td>charmeleon</td>\n",
              "      <td>Fire</td>\n",
              "      <td>NaN</td>\n",
              "    </tr>\n",
              "  </tbody>\n",
              "</table>\n",
              "</div>\n",
              "      <button class=\"colab-df-convert\" onclick=\"convertToInteractive('df-73ae8785-f1e3-4fbd-a559-c73ff1053ba0')\"\n",
              "              title=\"Convert this dataframe to an interactive table.\"\n",
              "              style=\"display:none;\">\n",
              "        \n",
              "  <svg xmlns=\"http://www.w3.org/2000/svg\" height=\"24px\"viewBox=\"0 0 24 24\"\n",
              "       width=\"24px\">\n",
              "    <path d=\"M0 0h24v24H0V0z\" fill=\"none\"/>\n",
              "    <path d=\"M18.56 5.44l.94 2.06.94-2.06 2.06-.94-2.06-.94-.94-2.06-.94 2.06-2.06.94zm-11 1L8.5 8.5l.94-2.06 2.06-.94-2.06-.94L8.5 2.5l-.94 2.06-2.06.94zm10 10l.94 2.06.94-2.06 2.06-.94-2.06-.94-.94-2.06-.94 2.06-2.06.94z\"/><path d=\"M17.41 7.96l-1.37-1.37c-.4-.4-.92-.59-1.43-.59-.52 0-1.04.2-1.43.59L10.3 9.45l-7.72 7.72c-.78.78-.78 2.05 0 2.83L4 21.41c.39.39.9.59 1.41.59.51 0 1.02-.2 1.41-.59l7.78-7.78 2.81-2.81c.8-.78.8-2.07 0-2.86zM5.41 20L4 18.59l7.72-7.72 1.47 1.35L5.41 20z\"/>\n",
              "  </svg>\n",
              "      </button>\n",
              "      \n",
              "  <style>\n",
              "    .colab-df-container {\n",
              "      display:flex;\n",
              "      flex-wrap:wrap;\n",
              "      gap: 12px;\n",
              "    }\n",
              "\n",
              "    .colab-df-convert {\n",
              "      background-color: #E8F0FE;\n",
              "      border: none;\n",
              "      border-radius: 50%;\n",
              "      cursor: pointer;\n",
              "      display: none;\n",
              "      fill: #1967D2;\n",
              "      height: 32px;\n",
              "      padding: 0 0 0 0;\n",
              "      width: 32px;\n",
              "    }\n",
              "\n",
              "    .colab-df-convert:hover {\n",
              "      background-color: #E2EBFA;\n",
              "      box-shadow: 0px 1px 2px rgba(60, 64, 67, 0.3), 0px 1px 3px 1px rgba(60, 64, 67, 0.15);\n",
              "      fill: #174EA6;\n",
              "    }\n",
              "\n",
              "    [theme=dark] .colab-df-convert {\n",
              "      background-color: #3B4455;\n",
              "      fill: #D2E3FC;\n",
              "    }\n",
              "\n",
              "    [theme=dark] .colab-df-convert:hover {\n",
              "      background-color: #434B5C;\n",
              "      box-shadow: 0px 1px 3px 1px rgba(0, 0, 0, 0.15);\n",
              "      filter: drop-shadow(0px 1px 2px rgba(0, 0, 0, 0.3));\n",
              "      fill: #FFFFFF;\n",
              "    }\n",
              "  </style>\n",
              "\n",
              "      <script>\n",
              "        const buttonEl =\n",
              "          document.querySelector('#df-73ae8785-f1e3-4fbd-a559-c73ff1053ba0 button.colab-df-convert');\n",
              "        buttonEl.style.display =\n",
              "          google.colab.kernel.accessAllowed ? 'block' : 'none';\n",
              "\n",
              "        async function convertToInteractive(key) {\n",
              "          const element = document.querySelector('#df-73ae8785-f1e3-4fbd-a559-c73ff1053ba0');\n",
              "          const dataTable =\n",
              "            await google.colab.kernel.invokeFunction('convertToInteractive',\n",
              "                                                     [key], {});\n",
              "          if (!dataTable) return;\n",
              "\n",
              "          const docLinkHtml = 'Like what you see? Visit the ' +\n",
              "            '<a target=\"_blank\" href=https://colab.research.google.com/notebooks/data_table.ipynb>data table notebook</a>'\n",
              "            + ' to learn more about interactive tables.';\n",
              "          element.innerHTML = '';\n",
              "          dataTable['output_type'] = 'display_data';\n",
              "          await google.colab.output.renderOutput(dataTable, element);\n",
              "          const docLink = document.createElement('div');\n",
              "          docLink.innerHTML = docLinkHtml;\n",
              "          element.appendChild(docLink);\n",
              "        }\n",
              "      </script>\n",
              "    </div>\n",
              "  </div>\n",
              "  "
            ]
          },
          "metadata": {},
          "execution_count": 44
        }
      ]
    },
    {
      "cell_type": "markdown",
      "source": [
        "## We are going to use Type1 column as our labels. Each Name is unique and classified into 18 Type1 types. "
      ],
      "metadata": {
        "id": "NtpppHaIiYos"
      }
    },
    {
      "cell_type": "code",
      "source": [
        "## Run the below cells as it is\n",
        "data_dict = {}\n",
        "\n",
        "for key, val in zip(data[\"Name\"], data[\"Type1\"]):\n",
        "    data_dict[key] = val\n",
        "print(data_dict)"
      ],
      "metadata": {
        "trusted": true,
        "id": "K1rWELT1iYos",
        "colab": {
          "base_uri": "https://localhost:8080/"
        },
        "outputId": "22412949-52c4-42e9-a0d2-77a9c7aa3416"
      },
      "execution_count": null,
      "outputs": [
        {
          "output_type": "stream",
          "name": "stdout",
          "text": [
            "{'bulbasaur': 'Grass', 'ivysaur': 'Grass', 'venusaur': 'Grass', 'charmander': 'Fire', 'charmeleon': 'Fire', 'charizard': 'Fire', 'squirtle': 'Water', 'wartortle': 'Water', 'blastoise': 'Water', 'caterpie': 'Bug', 'metapod': 'Bug', 'butterfree': 'Bug', 'weedle': 'Bug', 'kakuna': 'Bug', 'beedrill': 'Bug', 'pidgey': 'Normal', 'pidgeotto': 'Normal', 'pidgeot': 'Normal', 'rattata': 'Normal', 'raticate': 'Normal', 'spearow': 'Normal', 'fearow': 'Normal', 'ekans': 'Poison', 'arbok': 'Poison', 'pikachu': 'Electric', 'raichu': 'Electric', 'sandshrew': 'Ground', 'sandslash': 'Ground', 'nidoran-f': 'Poison', 'nidorina': 'Poison', 'nidoqueen': 'Poison', 'nidoran-m': 'Poison', 'nidorino': 'Poison', 'nidoking': 'Poison', 'clefairy': 'Fairy', 'clefable': 'Fairy', 'vulpix': 'Fire', 'ninetales': 'Fire', 'jigglypuff': 'Normal', 'wigglytuff': 'Normal', 'zubat': 'Poison', 'golbat': 'Poison', 'oddish': 'Grass', 'gloom': 'Grass', 'vileplume': 'Grass', 'paras': 'Bug', 'parasect': 'Bug', 'venonat': 'Bug', 'venomoth': 'Bug', 'diglett': 'Ground', 'dugtrio': 'Ground', 'meowth': 'Normal', 'persian': 'Normal', 'psyduck': 'Water', 'golduck': 'Water', 'mankey': 'Fighting', 'primeape': 'Fighting', 'growlithe': 'Fire', 'arcanine': 'Fire', 'poliwag': 'Water', 'poliwhirl': 'Water', 'poliwrath': 'Water', 'abra': 'Psychic', 'kadabra': 'Psychic', 'alakazam': 'Psychic', 'machop': 'Fighting', 'machoke': 'Fighting', 'machamp': 'Fighting', 'bellsprout': 'Grass', 'weepinbell': 'Grass', 'victreebel': 'Grass', 'tentacool': 'Water', 'tentacruel': 'Water', 'geodude': 'Rock', 'graveler': 'Rock', 'golem': 'Rock', 'ponyta': 'Fire', 'rapidash': 'Fire', 'slowpoke': 'Water', 'slowbro': 'Water', 'magnemite': 'Electric', 'magneton': 'Electric', 'farfetchd': 'Normal', 'doduo': 'Normal', 'dodrio': 'Normal', 'seel': 'Water', 'dewgong': 'Water', 'grimer': 'Poison', 'muk': 'Poison', 'shellder': 'Water', 'cloyster': 'Water', 'gastly': 'Ghost', 'haunter': 'Ghost', 'gengar': 'Ghost', 'onix': 'Rock', 'drowzee': 'Psychic', 'hypno': 'Psychic', 'krabby': 'Water', 'kingler': 'Water', 'voltorb': 'Electric', 'electrode': 'Electric', 'exeggcute': 'Grass', 'exeggutor': 'Grass', 'cubone': 'Ground', 'marowak': 'Ground', 'hitmonlee': 'Fighting', 'hitmonchan': 'Fighting', 'lickitung': 'Normal', 'koffing': 'Poison', 'weezing': 'Poison', 'rhyhorn': 'Ground', 'rhydon': 'Ground', 'chansey': 'Normal', 'tangela': 'Grass', 'kangaskhan': 'Normal', 'horsea': 'Water', 'seadra': 'Water', 'goldeen': 'Water', 'seaking': 'Water', 'staryu': 'Water', 'starmie': 'Water', 'mr-mime': 'Psychic', 'scyther': 'Bug', 'jynx': 'Ice', 'electabuzz': 'Electric', 'magmar': 'Fire', 'pinsir': 'Bug', 'tauros': 'Normal', 'magikarp': 'Water', 'gyarados': 'Water', 'lapras': 'Water', 'ditto': 'Normal', 'eevee': 'Normal', 'vaporeon': 'Water', 'jolteon': 'Electric', 'flareon': 'Fire', 'porygon': 'Normal', 'omanyte': 'Rock', 'omastar': 'Rock', 'kabuto': 'Rock', 'kabutops': 'Rock', 'aerodactyl': 'Rock', 'snorlax': 'Normal', 'articuno': 'Ice', 'zapdos': 'Electric', 'moltres': 'Fire', 'dratini': 'Dragon', 'dragonair': 'Dragon', 'dragonite': 'Dragon', 'mewtwo': 'Psychic', 'mew': 'Psychic', 'chikorita': 'Grass', 'bayleef': 'Grass', 'meganium': 'Grass', 'cyndaquil': 'Fire', 'quilava': 'Fire', 'typhlosion': 'Fire', 'totodile': 'Water', 'croconaw': 'Water', 'feraligatr': 'Water', 'sentret': 'Normal', 'furret': 'Normal', 'hoothoot': 'Normal', 'noctowl': 'Normal', 'ledyba': 'Bug', 'ledian': 'Bug', 'spinarak': 'Bug', 'ariados': 'Bug', 'crobat': 'Poison', 'chinchou': 'Water', 'lanturn': 'Water', 'pichu': 'Electric', 'cleffa': 'Fairy', 'igglybuff': 'Normal', 'togepi': 'Fairy', 'togetic': 'Fairy', 'natu': 'Psychic', 'xatu': 'Psychic', 'mareep': 'Electric', 'flaaffy': 'Electric', 'ampharos': 'Electric', 'bellossom': 'Grass', 'marill': 'Water', 'azumarill': 'Water', 'sudowoodo': 'Rock', 'politoed': 'Water', 'hoppip': 'Grass', 'skiploom': 'Grass', 'jumpluff': 'Grass', 'aipom': 'Normal', 'sunkern': 'Grass', 'sunflora': 'Grass', 'yanma': 'Bug', 'wooper': 'Water', 'quagsire': 'Water', 'espeon': 'Psychic', 'umbreon': 'Dark', 'murkrow': 'Dark', 'slowking': 'Water', 'misdreavus': 'Ghost', 'unown': 'Psychic', 'wobbuffet': 'Psychic', 'girafarig': 'Normal', 'pineco': 'Bug', 'forretress': 'Bug', 'dunsparce': 'Normal', 'gligar': 'Ground', 'steelix': 'Steel', 'snubbull': 'Fairy', 'granbull': 'Fairy', 'qwilfish': 'Water', 'scizor': 'Bug', 'shuckle': 'Bug', 'heracross': 'Bug', 'sneasel': 'Dark', 'teddiursa': 'Normal', 'ursaring': 'Normal', 'slugma': 'Fire', 'magcargo': 'Fire', 'swinub': 'Ice', 'piloswine': 'Ice', 'corsola': 'Water', 'remoraid': 'Water', 'octillery': 'Water', 'delibird': 'Ice', 'mantine': 'Water', 'skarmory': 'Steel', 'houndour': 'Dark', 'houndoom': 'Dark', 'kingdra': 'Water', 'phanpy': 'Ground', 'donphan': 'Ground', 'porygon2': 'Normal', 'stantler': 'Normal', 'smeargle': 'Normal', 'tyrogue': 'Fighting', 'hitmontop': 'Fighting', 'smoochum': 'Ice', 'elekid': 'Electric', 'magby': 'Fire', 'miltank': 'Normal', 'blissey': 'Normal', 'raikou': 'Electric', 'entei': 'Fire', 'suicune': 'Water', 'larvitar': 'Rock', 'pupitar': 'Rock', 'tyranitar': 'Rock', 'lugia': 'Psychic', 'ho-oh': 'Fire', 'celebi': 'Psychic', 'treecko': 'Grass', 'grovyle': 'Grass', 'sceptile': 'Grass', 'torchic': 'Fire', 'combusken': 'Fire', 'blaziken': 'Fire', 'mudkip': 'Water', 'marshtomp': 'Water', 'swampert': 'Water', 'poochyena': 'Dark', 'mightyena': 'Dark', 'zigzagoon': 'Normal', 'linoone': 'Normal', 'wurmple': 'Bug', 'silcoon': 'Bug', 'beautifly': 'Bug', 'cascoon': 'Bug', 'dustox': 'Bug', 'lotad': 'Water', 'lombre': 'Water', 'ludicolo': 'Water', 'seedot': 'Grass', 'nuzleaf': 'Grass', 'shiftry': 'Grass', 'taillow': 'Normal', 'swellow': 'Normal', 'wingull': 'Water', 'pelipper': 'Water', 'ralts': 'Psychic', 'kirlia': 'Psychic', 'gardevoir': 'Psychic', 'surskit': 'Bug', 'masquerain': 'Bug', 'shroomish': 'Grass', 'breloom': 'Grass', 'slakoth': 'Normal', 'vigoroth': 'Normal', 'slaking': 'Normal', 'nincada': 'Bug', 'ninjask': 'Bug', 'shedinja': 'Bug', 'whismur': 'Normal', 'loudred': 'Normal', 'exploud': 'Normal', 'makuhita': 'Fighting', 'hariyama': 'Fighting', 'azurill': 'Normal', 'nosepass': 'Rock', 'skitty': 'Normal', 'delcatty': 'Normal', 'sableye': 'Dark', 'mawile': 'Steel', 'aron': 'Steel', 'lairon': 'Steel', 'aggron': 'Steel', 'meditite': 'Fighting', 'medicham': 'Fighting', 'electrike': 'Electric', 'manectric': 'Electric', 'plusle': 'Electric', 'minun': 'Electric', 'volbeat': 'Bug', 'illumise': 'Bug', 'roselia': 'Grass', 'gulpin': 'Poison', 'swalot': 'Poison', 'carvanha': 'Water', 'sharpedo': 'Water', 'wailmer': 'Water', 'wailord': 'Water', 'numel': 'Fire', 'camerupt': 'Fire', 'torkoal': 'Fire', 'spoink': 'Psychic', 'grumpig': 'Psychic', 'spinda': 'Normal', 'trapinch': 'Ground', 'vibrava': 'Ground', 'flygon': 'Ground', 'cacnea': 'Grass', 'cacturne': 'Grass', 'swablu': 'Normal', 'altaria': 'Dragon', 'zangoose': 'Normal', 'seviper': 'Poison', 'lunatone': 'Rock', 'solrock': 'Rock', 'barboach': 'Water', 'whiscash': 'Water', 'corphish': 'Water', 'crawdaunt': 'Water', 'baltoy': 'Ground', 'claydol': 'Ground', 'lileep': 'Rock', 'cradily': 'Rock', 'anorith': 'Rock', 'armaldo': 'Rock', 'feebas': 'Water', 'milotic': 'Water', 'castform': 'Normal', 'kecleon': 'Normal', 'shuppet': 'Ghost', 'banette': 'Ghost', 'duskull': 'Ghost', 'dusclops': 'Ghost', 'tropius': 'Grass', 'chimecho': 'Psychic', 'absol': 'Dark', 'wynaut': 'Psychic', 'snorunt': 'Ice', 'glalie': 'Ice', 'spheal': 'Ice', 'sealeo': 'Ice', 'walrein': 'Ice', 'clamperl': 'Water', 'huntail': 'Water', 'gorebyss': 'Water', 'relicanth': 'Water', 'luvdisc': 'Water', 'bagon': 'Dragon', 'shelgon': 'Dragon', 'salamence': 'Dragon', 'beldum': 'Steel', 'metang': 'Steel', 'metagross': 'Steel', 'regirock': 'Rock', 'regice': 'Ice', 'registeel': 'Steel', 'latias': 'Dragon', 'latios': 'Dragon', 'kyogre': 'Water', 'groudon': 'Ground', 'rayquaza': 'Dragon', 'jirachi': 'Steel', 'deoxys-normal': 'Psychic', 'turtwig': 'Grass', 'grotle': 'Grass', 'torterra': 'Grass', 'chimchar': 'Fire', 'monferno': 'Fire', 'infernape': 'Fire', 'piplup': 'Water', 'prinplup': 'Water', 'empoleon': 'Water', 'starly': 'Normal', 'staravia': 'Normal', 'staraptor': 'Normal', 'bidoof': 'Normal', 'bibarel': 'Normal', 'kricketot': 'Bug', 'kricketune': 'Bug', 'shinx': 'Electric', 'luxio': 'Electric', 'luxray': 'Electric', 'budew': 'Grass', 'roserade': 'Grass', 'cranidos': 'Rock', 'rampardos': 'Rock', 'shieldon': 'Rock', 'bastiodon': 'Rock', 'burmy': 'Bug', 'wormadam-plant': 'Bug', 'mothim': 'Bug', 'combee': 'Bug', 'vespiquen': 'Bug', 'pachirisu': 'Electric', 'buizel': 'Water', 'floatzel': 'Water', 'cherubi': 'Grass', 'cherrim': 'Grass', 'shellos': 'Water', 'gastrodon': 'Water', 'ambipom': 'Normal', 'drifloon': 'Ghost', 'drifblim': 'Ghost', 'buneary': 'Normal', 'lopunny': 'Normal', 'mismagius': 'Ghost', 'honchkrow': 'Dark', 'glameow': 'Normal', 'purugly': 'Normal', 'chingling': 'Psychic', 'stunky': 'Poison', 'skuntank': 'Poison', 'bronzor': 'Steel', 'bronzong': 'Steel', 'bonsly': 'Rock', 'mime-jr': 'Psychic', 'happiny': 'Normal', 'chatot': 'Normal', 'spiritomb': 'Ghost', 'gible': 'Dragon', 'gabite': 'Dragon', 'garchomp': 'Dragon', 'munchlax': 'Normal', 'riolu': 'Fighting', 'lucario': 'Fighting', 'hippopotas': 'Ground', 'hippowdon': 'Ground', 'skorupi': 'Poison', 'drapion': 'Poison', 'croagunk': 'Poison', 'toxicroak': 'Poison', 'carnivine': 'Grass', 'finneon': 'Water', 'lumineon': 'Water', 'mantyke': 'Water', 'snover': 'Grass', 'abomasnow': 'Grass', 'weavile': 'Dark', 'magnezone': 'Electric', 'lickilicky': 'Normal', 'rhyperior': 'Ground', 'tangrowth': 'Grass', 'electivire': 'Electric', 'magmortar': 'Fire', 'togekiss': 'Fairy', 'yanmega': 'Bug', 'leafeon': 'Grass', 'glaceon': 'Ice', 'gliscor': 'Ground', 'mamoswine': 'Ice', 'porygon-z': 'Normal', 'gallade': 'Psychic', 'probopass': 'Rock', 'dusknoir': 'Ghost', 'froslass': 'Ice', 'rotom': 'Electric', 'uxie': 'Psychic', 'mesprit': 'Psychic', 'azelf': 'Psychic', 'dialga': 'Steel', 'palkia': 'Water', 'heatran': 'Fire', 'regigigas': 'Normal', 'giratina-altered': 'Ghost', 'cresselia': 'Psychic', 'phione': 'Water', 'manaphy': 'Water', 'darkrai': 'Dark', 'shaymin-land': 'Grass', 'arceus': 'Normal', 'victini': 'Psychic', 'snivy': 'Grass', 'servine': 'Grass', 'serperior': 'Grass', 'tepig': 'Fire', 'pignite': 'Fire', 'emboar': 'Fire', 'oshawott': 'Water', 'dewott': 'Water', 'samurott': 'Water', 'patrat': 'Normal', 'watchog': 'Normal', 'lillipup': 'Normal', 'herdier': 'Normal', 'stoutland': 'Normal', 'purrloin': 'Dark', 'liepard': 'Dark', 'pansage': 'Grass', 'simisage': 'Grass', 'pansear': 'Fire', 'simisear': 'Fire', 'panpour': 'Water', 'simipour': 'Water', 'munna': 'Psychic', 'musharna': 'Psychic', 'pidove': 'Normal', 'tranquill': 'Normal', 'unfezant': 'Normal', 'blitzle': 'Electric', 'zebstrika': 'Electric', 'roggenrola': 'Rock', 'boldore': 'Rock', 'gigalith': 'Rock', 'woobat': 'Psychic', 'swoobat': 'Psychic', 'drilbur': 'Ground', 'excadrill': 'Ground', 'audino': 'Normal', 'timburr': 'Fighting', 'gurdurr': 'Fighting', 'conkeldurr': 'Fighting', 'tympole': 'Water', 'palpitoad': 'Water', 'seismitoad': 'Water', 'throh': 'Fighting', 'sawk': 'Fighting', 'sewaddle': 'Bug', 'swadloon': 'Bug', 'leavanny': 'Bug', 'venipede': 'Bug', 'whirlipede': 'Bug', 'scolipede': 'Bug', 'cottonee': 'Grass', 'whimsicott': 'Grass', 'petilil': 'Grass', 'lilligant': 'Grass', 'basculin-red-striped': 'Water', 'sandile': 'Ground', 'krokorok': 'Ground', 'krookodile': 'Ground', 'darumaka': 'Fire', 'darmanitan-standard': 'Fire', 'maractus': 'Grass', 'dwebble': 'Bug', 'crustle': 'Bug', 'scraggy': 'Dark', 'scrafty': 'Dark', 'sigilyph': 'Psychic', 'yamask': 'Ghost', 'cofagrigus': 'Ghost', 'tirtouga': 'Water', 'carracosta': 'Water', 'archen': 'Rock', 'archeops': 'Rock', 'trubbish': 'Poison', 'garbodor': 'Poison', 'zorua': 'Dark', 'zoroark': 'Dark', 'minccino': 'Normal', 'cinccino': 'Normal', 'gothita': 'Psychic', 'gothorita': 'Psychic', 'gothitelle': 'Psychic', 'solosis': 'Psychic', 'duosion': 'Psychic', 'reuniclus': 'Psychic', 'ducklett': 'Water', 'swanna': 'Water', 'vanillite': 'Ice', 'vanillish': 'Ice', 'vanilluxe': 'Ice', 'deerling': 'Normal', 'sawsbuck': 'Normal', 'emolga': 'Electric', 'karrablast': 'Bug', 'escavalier': 'Bug', 'foongus': 'Grass', 'amoonguss': 'Grass', 'frillish': 'Water', 'jellicent': 'Water', 'alomomola': 'Water', 'joltik': 'Bug', 'galvantula': 'Bug', 'ferroseed': 'Grass', 'ferrothorn': 'Grass', 'klink': 'Steel', 'klang': 'Steel', 'klinklang': 'Steel', 'tynamo': 'Electric', 'eelektrik': 'Electric', 'eelektross': 'Electric', 'elgyem': 'Psychic', 'beheeyem': 'Psychic', 'litwick': 'Ghost', 'lampent': 'Ghost', 'chandelure': 'Ghost', 'axew': 'Dragon', 'fraxure': 'Dragon', 'haxorus': 'Dragon', 'cubchoo': 'Ice', 'beartic': 'Ice', 'cryogonal': 'Ice', 'shelmet': 'Bug', 'accelgor': 'Bug', 'stunfisk': 'Ground', 'mienfoo': 'Fighting', 'mienshao': 'Fighting', 'druddigon': 'Dragon', 'golett': 'Ground', 'golurk': 'Ground', 'pawniard': 'Dark', 'bisharp': 'Dark', 'bouffalant': 'Normal', 'rufflet': 'Normal', 'braviary': 'Normal', 'vullaby': 'Dark', 'mandibuzz': 'Dark', 'heatmor': 'Fire', 'durant': 'Bug', 'deino': 'Dark', 'zweilous': 'Dark', 'hydreigon': 'Dark', 'larvesta': 'Bug', 'volcarona': 'Bug', 'cobalion': 'Steel', 'terrakion': 'Rock', 'virizion': 'Grass', 'tornadus-incarnate': 'Flying', 'thundurus-incarnate': 'Electric', 'reshiram': 'Dragon', 'zekrom': 'Dragon', 'landorus-incarnate': 'Ground', 'kyurem': 'Dragon', 'keldeo-ordinary': 'Water', 'meloetta-aria': 'Normal', 'genesect': 'Bug', 'chespin': 'Grass', 'quilladin': 'Grass', 'chesnaught': 'Grass', 'fennekin': 'Fire', 'braixen': 'Fire', 'delphox': 'Fire', 'froakie': 'Water', 'frogadier': 'Water', 'greninja': 'Water', 'bunnelby': 'Normal', 'diggersby': 'Normal', 'fletchling': 'Normal', 'fletchinder': 'Fire', 'talonflame': 'Fire', 'scatterbug': 'Bug', 'spewpa': 'Bug', 'vivillon': 'Bug', 'litleo': 'Fire', 'pyroar': 'Fire', 'flabebe': 'Fairy', 'floette': 'Fairy', 'florges': 'Fairy', 'skiddo': 'Grass', 'gogoat': 'Grass', 'pancham': 'Fighting', 'pangoro': 'Fighting', 'furfrou': 'Normal', 'espurr': 'Psychic', 'meowstic-male': 'Psychic', 'honedge': 'Steel', 'doublade': 'Steel', 'aegislash-blade': 'Steel', 'spritzee': 'Fairy', 'aromatisse': 'Fairy', 'swirlix': 'Fairy', 'slurpuff': 'Fairy', 'inkay': 'Dark', 'malamar': 'Dark', 'binacle': 'Rock', 'barbaracle': 'Rock', 'skrelp': 'Poison', 'dragalge': 'Poison', 'clauncher': 'Water', 'clawitzer': 'Water', 'helioptile': 'Electric', 'heliolisk': 'Electric', 'tyrunt': 'Rock', 'tyrantrum': 'Rock', 'amaura': 'Rock', 'aurorus': 'Rock', 'sylveon': 'Fairy', 'hawlucha': 'Fighting', 'dedenne': 'Electric', 'carbink': 'Rock', 'goomy': 'Dragon', 'sliggoo': 'Dragon', 'goodra': 'Dragon', 'klefki': 'Steel', 'phantump': 'Ghost', 'trevenant': 'Ghost', 'pumpkaboo-average': 'Ghost', 'gourgeist-average': 'Ghost', 'bergmite': 'Ice', 'avalugg': 'Ice', 'noibat': 'Flying', 'noivern': 'Flying', 'xerneas': 'Fairy', 'yveltal': 'Dark', 'zygarde-50': 'Dragon', 'diancie': 'Rock', 'hoopa-confined': 'Psychic', 'volcanion': 'Fire', 'rowlet': 'Grass', 'dartrix': 'Grass', 'decidueye': 'Grass', 'litten': 'Fire', 'torracat': 'Fire', 'incineroar': 'Fire', 'popplio': 'Water', 'brionne': 'Water', 'primarina': 'Water', 'pikipek': 'Normal', 'trumbeak': 'Normal', 'toucannon': 'Normal', 'yungoos': 'Normal', 'gumshoos': 'Normal', 'grubbin': 'Bug', 'charjabug': 'Bug', 'vikavolt': 'Bug', 'crabrawler': 'Fighting', 'crabominable': 'Fighting', 'oricorio-baile': 'Fire', 'cutiefly': 'Bug', 'ribombee': 'Bug', 'rockruff': 'Rock', 'lycanroc-midday': 'Rock', 'wishiwashi-solo': 'Water', 'mareanie': 'Poison', 'toxapex': 'Poison', 'mudbray': 'Ground', 'mudsdale': 'Ground', 'dewpider': 'Water', 'araquanid': 'Water', 'fomantis': 'Grass', 'lurantis': 'Grass', 'morelull': 'Grass', 'shiinotic': 'Grass', 'salandit': 'Poison', 'salazzle': 'Poison', 'stufful': 'Normal', 'bewear': 'Normal', 'bounsweet': 'Grass', 'steenee': 'Grass', 'tsareena': 'Grass', 'comfey': 'Fairy', 'oranguru': 'Normal', 'passimian': 'Fighting', 'wimpod': 'Bug', 'golisopod': 'Bug', 'sandygast': 'Ghost', 'palossand': 'Ghost', 'pyukumuku': 'Water', 'type-null': 'Normal', 'silvally': 'Normal', 'minior-meteor': 'Rock', 'komala': 'Normal', 'turtonator': 'Fire', 'togedemaru': 'Electric', 'mimikyu': 'Ghost', 'bruxish': 'Water', 'drampa': 'Normal', 'dhelmise': 'Ghost', 'jangmo-o': 'Dragon', 'hakamo-o': 'Dragon', 'kommo-o': 'Dragon', 'tapu-koko': 'Electric', 'tapu-lele': 'Psychic', 'tapu-bulu': 'Grass', 'tapu-fini': 'Water', 'cosmog': 'Psychic', 'cosmoem': 'Psychic', 'solgaleo': 'Psychic', 'lunala': 'Psychic', 'nihilego': 'Rock', 'buzzwole': 'Bug', 'pheromosa': 'Bug', 'xurkitree': 'Electric', 'celesteela': 'Steel', 'kartana': 'Grass', 'guzzlord': 'Dark', 'necrozma': 'Psychic', 'magearna': 'Steel', 'marshadow': 'Fighting', 'poipole': 'Poison', 'naganadel': 'Poison', 'stakataka': 'Rock', 'blacephalon': 'Fire', 'zeraora': 'Electric', 'meltan': 'Steel', 'melmetal': 'Steel'}\n"
          ]
        }
      ]
    },
    {
      "cell_type": "code",
      "source": [
        "## Run the below cells as it is\n",
        "labels = data[\"Type1\"].unique()\n",
        "print(labels)"
      ],
      "metadata": {
        "trusted": true,
        "id": "fRb3l84jiYot",
        "colab": {
          "base_uri": "https://localhost:8080/"
        },
        "outputId": "94143206-2757-4f30-ab1f-331a76e920a5"
      },
      "execution_count": null,
      "outputs": [
        {
          "output_type": "stream",
          "name": "stdout",
          "text": [
            "['Grass' 'Fire' 'Water' 'Bug' 'Normal' 'Poison' 'Electric' 'Ground'\n",
            " 'Fairy' 'Fighting' 'Psychic' 'Rock' 'Ghost' 'Ice' 'Dragon' 'Dark' 'Steel'\n",
            " 'Flying']\n"
          ]
        }
      ]
    },
    {
      "cell_type": "markdown",
      "source": [
        "## Q8. (7 points)\n",
        "\n",
        "#### Create a dictionary and assign each label in labels list a unique id from 1 to 18. Name the dictionary as \"labels_idx\""
      ],
      "metadata": {
        "id": "X6HSegE7iYot"
      }
    },
    {
      "cell_type": "code",
      "source": [
        "## write your code here\n",
        "\n",
        "pokemon_ids = range(18)\n",
        "\n",
        "labels_idx = dict(zip(labels, pokemon_ids))\n",
        "\n",
        "print(labels_idx)"
      ],
      "metadata": {
        "_kg_hide-output": true,
        "trusted": true,
        "id": "KpDkpi-jiYot"
      },
      "execution_count": null,
      "outputs": []
    },
    {
      "cell_type": "markdown",
      "source": [
        "## Q.9 (4 points)\n",
        "#### Understand and Complete the below code"
      ],
      "metadata": {
        "id": "t3s63iyAiYou"
      }
    },
    {
      "cell_type": "code",
      "source": [
        "final_images = []\n",
        "final_labels = []\n",
        "# count = 0\n",
        "for file in files:\n",
        "    # pass an argument in place of \"arg\" in below line so that we can read image as grayscale\n",
        "    img = cv2.imread(os.path.join(root_dir, file), cv2.IMREAD_GRAYSCALE) \n",
        "    label = labels_idx[data_dict[file.split(\".\")[0]]] # read this line atleast four times for better understanding\n",
        "     \n",
        "    # append img in final_images list\n",
        "    final_images.append(img)    \n",
        "    # append label in final_labels list\n",
        "    final_labels.append(label)\n",
        "        \n",
        "# converting lists into numpy arrayn\n",
        "# normalizing and reshaping the data (do not make any change)\n",
        "final_images = np.array(final_images, dtype = np.float32)/255.0\n",
        "final_labels = np.array(final_labels, dtype = np.int8).reshape(809, 1)"
      ],
      "metadata": {
        "trusted": true,
        "id": "kOeNiR_WiYou"
      },
      "execution_count": null,
      "outputs": []
    },
    {
      "cell_type": "markdown",
      "source": [
        "### We have segregated our data into images and labels and is the time to build our model using tensorflow"
      ],
      "metadata": {
        "id": "8H0_MeVbiYou"
      }
    },
    {
      "cell_type": "markdown",
      "source": [
        "## Q.10 (10 points)\n",
        "\n",
        "#### Complete the following code to create a 1 input, 3 layer fully connected and an output layer network to provide final output of 18 classes. \n",
        "\n",
        "NOTE: Use suitable activation functions, number of neurons and try to keep the trainbale parameters below 1 million"
      ],
      "metadata": {
        "id": "Me7no4D5iYov"
      }
    },
    {
      "cell_type": "code",
      "source": [
        "# import necessary libraries\n",
        "import tensorflow as tf\n",
        "from tensorflow.keras import Sequential\n",
        "\n",
        "model = Sequential([\n",
        "    tf.keras.layers.Flatten(input_shape=(120, 120)),\n",
        "    tf.keras.layers.Dense(32, activation='relu'),\n",
        "    tf.keras.layers.Dense(32, activation='relu'),\n",
        "    tf.keras.layers.Dense(128, activation='relu'),\n",
        "    tf.keras.layers.Dense(18)     \n",
        "])\n",
        "\n",
        "# print model summary and check trainable parameters\n",
        "print(model.summary())"
      ],
      "metadata": {
        "trusted": true,
        "id": "aeld1ubhiYov",
        "colab": {
          "base_uri": "https://localhost:8080/"
        },
        "outputId": "463a212b-b7b9-4278-d543-1410995396cc"
      },
      "execution_count": null,
      "outputs": [
        {
          "output_type": "stream",
          "name": "stdout",
          "text": [
            "Model: \"sequential_7\"\n",
            "_________________________________________________________________\n",
            " Layer (type)                Output Shape              Param #   \n",
            "=================================================================\n",
            " flatten_7 (Flatten)         (None, 14400)             0         \n",
            "                                                                 \n",
            " dense_24 (Dense)            (None, 32)                460832    \n",
            "                                                                 \n",
            " dense_25 (Dense)            (None, 32)                1056      \n",
            "                                                                 \n",
            " dense_26 (Dense)            (None, 128)               4224      \n",
            "                                                                 \n",
            " dense_27 (Dense)            (None, 18)                2322      \n",
            "                                                                 \n",
            "=================================================================\n",
            "Total params: 468,434\n",
            "Trainable params: 468,434\n",
            "Non-trainable params: 0\n",
            "_________________________________________________________________\n",
            "None\n"
          ]
        }
      ]
    },
    {
      "cell_type": "markdown",
      "source": [
        "#Encode the Output Variable - One-Hot!"
      ],
      "metadata": {
        "id": "Tm8suHh98WnM"
      }
    },
    {
      "cell_type": "code",
      "source": [
        "from sklearn.preprocessing import LabelEncoder\n",
        "from keras.utils import np_utils\n",
        "\n",
        "# encode class values as integers\n",
        "encoder = LabelEncoder()\n",
        "encoder.fit(final_labels)\n",
        "encoded_Y = encoder.transform(final_labels)\n",
        "# convert integers to dummy variables (i.e. one hot encoded)\n",
        "dummy_y = np_utils.to_categorical(encoded_Y)"
      ],
      "metadata": {
        "colab": {
          "base_uri": "https://localhost:8080/"
        },
        "id": "Zig-wx9D77Dc",
        "outputId": "b5c259e8-a88a-437d-81c2-58115698210e"
      },
      "execution_count": null,
      "outputs": [
        {
          "output_type": "stream",
          "name": "stderr",
          "text": [
            "/usr/local/lib/python3.7/dist-packages/sklearn/preprocessing/_label.py:98: DataConversionWarning: A column-vector y was passed when a 1d array was expected. Please change the shape of y to (n_samples, ), for example using ravel().\n",
            "  y = column_or_1d(y, warn=True)\n",
            "/usr/local/lib/python3.7/dist-packages/sklearn/preprocessing/_label.py:133: DataConversionWarning: A column-vector y was passed when a 1d array was expected. Please change the shape of y to (n_samples, ), for example using ravel().\n",
            "  y = column_or_1d(y, warn=True)\n"
          ]
        }
      ]
    },
    {
      "cell_type": "code",
      "source": [
        "# compile model (Use: Adam optimizer, categorical_crossentropy loss and metrics as Accuracy)\n",
        "\n",
        "model.compile(optimizer='adam',\n",
        "              loss=tf.keras.losses.CategoricalCrossentropy(from_logits=True),\n",
        "              metrics=['accuracy'])\n",
        "\n",
        "\n",
        "''' Fit model for training for 50 epochs (make sure to turn your notebook's GPU Accelerator on from settings given on the right hand side)\n",
        "If you do not see Accelarator and Internet options in Setting then please verify your kaggle profile using your phone number '''\n",
        "# fit model (use images and labels)\n",
        "\n",
        "model.fit(final_images, dummy_y, epochs=100)"
      ],
      "metadata": {
        "id": "C0LD4wvSiYov"
      },
      "execution_count": null,
      "outputs": []
    },
    {
      "cell_type": "code",
      "source": [
        "probability_model = tf.keras.Sequential([model, \n",
        "                                         tf.keras.layers.Softmax()])"
      ],
      "metadata": {
        "id": "lSat3rCr8p0d"
      },
      "execution_count": null,
      "outputs": []
    },
    {
      "cell_type": "code",
      "source": [
        "predictions = probability_model.predict(final_images)"
      ],
      "metadata": {
        "id": "yK4ZwxnF8tkF"
      },
      "execution_count": null,
      "outputs": []
    },
    {
      "cell_type": "code",
      "source": [
        "# predict the class of any image using our trained model\n",
        "img = final_images[1]\n",
        "\n",
        "# create a batch with this image as the only member\n",
        "img = (np.expand_dims(img,0))\n",
        "\n",
        "predictions_single = probability_model.predict(img)\n",
        "\n",
        "print(predictions_single)\n",
        "print(np.argmax(predictions_single[0]))\n",
        "print(final_labels[1])"
      ],
      "metadata": {
        "colab": {
          "base_uri": "https://localhost:8080/"
        },
        "id": "4gz6c-nK83W9",
        "outputId": "783417d1-2e0d-455c-bac9-bba49c589ea9"
      },
      "execution_count": null,
      "outputs": [
        {
          "output_type": "stream",
          "name": "stdout",
          "text": [
            "[[2.8954137e-13 1.4742938e-04 1.0480783e-04 1.0376551e-12 5.9629605e-05\n",
            "  5.0778124e-09 9.9966574e-01 6.4646294e-08 1.5093997e-06 2.8066631e-13\n",
            "  1.4951909e-05 2.5863581e-10 5.8571618e-06 1.7388222e-09 9.3235356e-14\n",
            "  3.3548151e-16 3.4709811e-12 1.9323061e-18]]\n",
            "6\n",
            "[6]\n"
          ]
        }
      ]
    }
  ]
}