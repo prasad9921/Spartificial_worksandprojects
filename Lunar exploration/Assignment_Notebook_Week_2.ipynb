{
  "metadata": {
    "kernelspec": {
      "language": "python",
      "display_name": "Python 3",
      "name": "python3"
    },
    "language_info": {
      "name": "python",
      "version": "3.7.12",
      "mimetype": "text/x-python",
      "codemirror_mode": {
        "name": "ipython",
        "version": 3
      },
      "pygments_lexer": "ipython3",
      "nbconvert_exporter": "python",
      "file_extension": ".py"
    },
    "colab": {
      "name": "Final Assignment Notebook Week 2.ipynb",
      "provenance": []
    }
  },
  "nbformat_minor": 0,
  "nbformat": 4,
  "cells": [
    {
      "cell_type": "markdown",
      "source": [
        "# <center> Assignment - 2"
      ],
      "metadata": {
        "id": "ba6ec49a"
      }
    },
    {
      "cell_type": "code",
      "source": [
        "'''IMPORTANT'''\n",
        "\n",
        "Your Full Name = \" \"\n",
        "Your Email = \" \""
      ],
      "metadata": {
        "id": "zbkucmjnKlfM"
      },
      "execution_count": null,
      "outputs": []
    },
    {
      "cell_type": "markdown",
      "source": [
        "# Importing Dataset\n",
        "\n",
        "## Steps -\n",
        "\n",
        "1. Download and Upload this notebook in kaggle\n",
        "2. Go to \"Add data\" button on top right corner of your notebook and search for this url \"https://www.kaggle.com/datasets/dansbecker/cityscapes-image-pairs\"\n",
        "3. Click add to import the \"cityscapes-image-pairs\"\n",
        "4. Run below code cell "
      ],
      "metadata": {
        "id": "Y_xL57q4XB-w"
      }
    },
    {
      "cell_type": "code",
      "source": [
        "# importing dataset\n",
        "import os\n",
        "\n",
        "root_dir = \"../input/cityscapes-image-pairs/cityscapes_data/train\"\n",
        "\n",
        "sample = os.path.join(root_dir, \"1.jpg\")"
      ],
      "metadata": {
        "execution": {
          "iopub.status.busy": "2022-04-25T08:20:21.081707Z",
          "iopub.execute_input": "2022-04-25T08:20:21.082498Z",
          "iopub.status.idle": "2022-04-25T08:20:21.085730Z",
          "shell.execute_reply.started": "2022-04-25T08:20:21.082450Z",
          "shell.execute_reply": "2022-04-25T08:20:21.085164Z"
        },
        "trusted": true,
        "id": "CGZ2xkhmXB-0"
      },
      "execution_count": null,
      "outputs": []
    },
    {
      "cell_type": "markdown",
      "source": [
        "## We will use images from this directory for further use in this asssignment. \n",
        "\n",
        "#### Let's visualize an image"
      ],
      "metadata": {
        "id": "9t9-pMmpXB-1"
      }
    },
    {
      "cell_type": "code",
      "source": [
        "from PIL import Image\n",
        "\n",
        "img = Image.open(sample)\n",
        "img"
      ],
      "metadata": {
        "execution": {
          "iopub.status.busy": "2022-04-25T08:20:22.056459Z",
          "iopub.execute_input": "2022-04-25T08:20:22.057201Z",
          "iopub.status.idle": "2022-04-25T08:20:22.140983Z",
          "shell.execute_reply.started": "2022-04-25T08:20:22.057141Z",
          "shell.execute_reply": "2022-04-25T08:20:22.140458Z"
        },
        "trusted": true,
        "id": "pSHls1pUXB-2"
      },
      "execution_count": null,
      "outputs": []
    },
    {
      "cell_type": "markdown",
      "source": [
        "## Linear and Logistic regression"
      ],
      "metadata": {
        "id": "e45e2682"
      }
    },
    {
      "cell_type": "code",
      "source": [
        "# performing Imports\n",
        "\n",
        "import numpy as np # numpy is used mostly for the algebraic operations\n",
        "import math # used to perform mathematical operations"
      ],
      "metadata": {
        "id": "2e50065b"
      },
      "execution_count": null,
      "outputs": []
    },
    {
      "cell_type": "markdown",
      "source": [
        "##  Q1 (5 points)\n",
        "\n",
        ">1.1    Define a sigmoid function \"sigmoid\" that takes a number as the input, apply sigmoid function on the input and returns the value after applying sigmoid function.\n",
        "\n",
        ">1.2  Initialize a numpy array \"ran_arr\" with 50 random entries between 0-10.\n",
        "\n",
        ">1.3  Initialize one empty list \"log_list\".\n",
        "\n",
        ">1.4  Create a \"for\" loop to pass all the values in the \"ran_arr\", apply \"sigmoid\" function and store all the values in \"log_list\"\n",
        "\n",
        ">1.5   Print \"log_list\""
      ],
      "metadata": {
        "id": "91026b4f"
      }
    },
    {
      "cell_type": "code",
      "source": [
        "## Complete the Code below\n",
        "\n",
        "# define function\n",
        "def sigmoid(num):\n",
        "    # input: array of float numbers\n",
        "    # return: \n",
        "    \n",
        "    \n",
        "    return\n",
        "\n",
        "\n",
        "# initialize array\n",
        "ran_arr = \n",
        "\n",
        "# initialize list\n",
        "log_list = \n",
        "\n",
        "# for loop to apply logistic function on all values of ran_arr \n",
        "for number in ran_arr:\n",
        "    \n",
        "\n",
        "    \n",
        "\n",
        "# print()\n",
        "print(log_list)"
      ],
      "metadata": {
        "id": "8e587df4"
      },
      "execution_count": null,
      "outputs": []
    },
    {
      "cell_type": "markdown",
      "source": [
        "\n",
        "## Q2 Implement the L1 loss functions (2 points)\n",
        "\n",
        "**Hint**: Implement the numpy vectorized version of the L1 loss. You may find the function abs(x) (absolute value of x) useful.\n",
        "\n",
        "- The loss is used to evaluate the performance of your model. The bigger your loss is, the more different your predictions ($ \\hat{y} $) are from the true values ($y$). \n",
        "- In deep learning, you use optimization algorithms like Gradient Descent to train your model and to minimize the cost.\n",
        "\n",
        "### L1 loss is defined as:\n",
        "\n",
        "\n",
        "$$\\begin{align*} & L_1(\\hat{y}, y) = \\sum_{i=0}^m|y^{(i)} - \\hat{y}^{(i)}| \\end{align*}$$\n",
        "\n"
      ],
      "metadata": {
        "id": "62d161c9"
      }
    },
    {
      "cell_type": "code",
      "source": [
        "#  Implement l1_loss function here\n",
        "\n",
        "def L1_loss(y_cap, y):\n",
        "    \"\"\"\n",
        "    y_cap: vector of size m (predicted labels)\n",
        "    y: vector of size m (true labels)\n",
        "    \n",
        "    Returns:\n",
        "    loss: the value of the L1 loss function defined above\n",
        "    \"\"\"\n",
        "    \n",
        "    ### code here\n",
        "    loss = \n",
        "\n",
        "    \n",
        "    \n",
        "    \n",
        "\n",
        "\n",
        "\n",
        "y_cap = np.array([.8, 0.2, 0.3, .9, .9])\n",
        "y = np.array([1, 0, 0, 1, 1])\n",
        "print(\"L1_loss = \" + str(L1_loss(y_cap,y)))"
      ],
      "metadata": {
        "id": "0dbef630"
      },
      "execution_count": null,
      "outputs": []
    },
    {
      "cell_type": "markdown",
      "source": [
        "\n",
        "## Q3. Implement the L2 loss functions (2 points)\n",
        "\n",
        "Implement the numpy vectorized version of the L2 loss. \n",
        "Hint: There are several way of implementing the L2 loss but you may find the function np.dot() useful. \n",
        "- As a reminder, if $x = [x_1, x_2, ..., x_n]$, then `np.dot(x,x)` = $\\sum_{j=0}^n x_j^{2}$. \n",
        "\n",
        "### L2 loss is defined as \n",
        "\n",
        "$$\\begin{align*} & L_2(\\hat{y},y) = \\sum_{i=0}^m(y^{(i)} - \\hat{y}^{(i)})^2 \\end{align*}$$"
      ],
      "metadata": {
        "id": "1hGn0RXacy8B"
      }
    },
    {
      "cell_type": "code",
      "source": [
        "#  implement l2_loss here\n",
        "\n",
        "def L2_loss(y_cap, y):\n",
        "    \"\"\"\n",
        "    \n",
        "    y_cap: vector of size m (predicted labels)\n",
        "    y: vector of size m (true labels)\n",
        "    \n",
        "    Returns:\n",
        "    loss: the value of the L2_loss function defined above\n",
        "    \"\"\"\n",
        "    \n",
        "    ### code here\n",
        "    loss = \n",
        "    \n",
        "    \n",
        "    \n",
        "\n",
        "\n",
        "\n",
        "\n",
        "y_cap = np.array([.9, 0.2, 0.1, .4, .9])\n",
        "y = np.array([1, 0, 0, 1, 1])\n",
        "print(\"L2_loss = \" + str(L2_loss(y_cap,y)))"
      ],
      "metadata": {
        "id": "cf18591c"
      },
      "execution_count": null,
      "outputs": []
    },
    {
      "cell_type": "markdown",
      "source": [
        "##Q4 (1 Points)\n",
        "Logistic Regression is a Machine Learning algorithm that is used to predict the probability of a ___?\n",
        ">(A) categorical independent variable.\n",
        "\n",
        ">(B) categorical dependent variable.\n",
        "\n",
        ">(C) numerical dependent variable.\n",
        "\n",
        ">(D) numerical independent variable."
      ],
      "metadata": {
        "id": "KddYymW4BLo5"
      }
    },
    {
      "cell_type": "code",
      "source": [
        "# Print the correct option\n",
        "print()"
      ],
      "metadata": {
        "id": "MinbQAj2C9wk"
      },
      "execution_count": null,
      "outputs": []
    },
    {
      "cell_type": "markdown",
      "source": [
        "## Q5 (1 points)\n",
        "\n",
        "Given a 2d numpy array, the task is to flatten a 2d numpy array into a 1d array.\n",
        "\n",
        "\n",
        "[[1, 2, 3], [2, 4, 5], [6, 8, 3]]"
      ],
      "metadata": {
        "id": "OSGk1yi-wYxp"
      }
    },
    {
      "cell_type": "code",
      "source": [
        "# create a numpy array and print it after flattening it.\n"
      ],
      "metadata": {
        "id": "EpvOC-eql9t0"
      },
      "execution_count": null,
      "outputs": []
    },
    {
      "cell_type": "markdown",
      "source": [
        "## Q6 (10 points) \n",
        "\n",
        "Create a dataset by taking 500 random values between 0 to 2. It would be the input array X. \n",
        "\n",
        "Generate y using the below equation\n",
        "\n",
        "> y = (1 - exp( - x )) / (1 + exp ( - x ))\n",
        "\n",
        "#### Use below helper functions to train your logistic regression model for 5000 iterations and predict values for y and print the 50 most accurate predictions.\n",
        "\n",
        "Note: Accurate prediction will be judged on the basis of the difference between predicted and original y values. \n",
        "\n",
        "\n",
        "```\n",
        "def sigmoid(x):\n",
        "    return 1 / (1 + np.exp(-x))\n",
        "\n",
        "def compute_cost(X, y, theta):\n",
        "    m = len(y)\n",
        "    y_cap = sigmoid(X @ theta)\n",
        "    \n",
        "    cost = (1/m)*(((-y).T @ np.log(y_cap ))-((1-y).T @ np.log(1-y_cap)))\n",
        "    return cost\n",
        "\n",
        "def gradient_descent(X, y, params, learning_rate, iterations):\n",
        "    m = len(y)\n",
        "    cost_history = np.zeros((iterations,1))\n",
        "    for i in range(iterations):\n",
        "        params = params - (learning_rate/m) * (X.T @ (sigmoid(X @ params) - y)) \n",
        "        cost_history[i] = compute_cost(X, y, params)\n",
        "    return (cost_history, params)\n",
        "\n",
        "def predict(X, params):\n",
        "    return np.round(sigmoid(X @ params))\n",
        "```\n",
        "\n"
      ],
      "metadata": {
        "id": "Lr7kcxbDnChN"
      }
    },
    {
      "cell_type": "code",
      "source": [
        "# write your code here\n",
        "\n",
        "# training\n",
        "\n",
        "\n",
        "\n",
        "\n",
        "# prediction\n",
        "\n",
        "\n"
      ],
      "metadata": {
        "id": "RpPaeqtsppTc"
      },
      "execution_count": null,
      "outputs": []
    },
    {
      "cell_type": "markdown",
      "source": [
        "## Q7 (3 points)\n",
        "\n",
        "Given age and height of 20 students in two different arrays with age and height (in cms). Print the age of those students whose height is above 156 cm. Print your answer in numpy array.\n",
        "\n",
        "age = [15,17,19,20,14,21,16,19,13,20,22,23,21,16,18,19,20,15,17,18]\n",
        "\n",
        "h = [156,144,180,162,152,157,154,155,151,150,158,179,126,182,183,154,159,160,172,149]"
      ],
      "metadata": {
        "id": "idwvmmhWuGKm"
      }
    },
    {
      "cell_type": "code",
      "source": [
        "# Print numpy array after performing necessary operations on it.\n"
      ],
      "metadata": {
        "id": "uUMSlPbkuIH1"
      },
      "execution_count": null,
      "outputs": []
    },
    {
      "cell_type": "markdown",
      "source": [
        "## Q8 (2 points)\n",
        "\n",
        "We are given 2 arrays one of dimension (3,1) and other of dimension (1,3). Find the product of a&b and also explain the concept behind it in short.\n",
        "\n",
        "\n",
        "```\n",
        "a = [[3],[5],[9]]\n",
        "b = [[1,7,8]]\n",
        "```\n",
        "\n"
      ],
      "metadata": {
        "id": "C25_xXDdwLCO"
      }
    },
    {
      "cell_type": "code",
      "source": [
        "# print the product(can be dot product) of the two numpy array \n",
        "import numpy as np\n"
      ],
      "metadata": {
        "id": "kSV2cj0vwaVK"
      },
      "execution_count": null,
      "outputs": []
    },
    {
      "cell_type": "markdown",
      "source": [
        "## Q9 (4 points)\n",
        "\n",
        "You are given sales of a 2 (A&B) company for 3 years let's say 1,2 & 3 and sales are 2,4&1 and 4,1,3 for A and B resp. Plot line graph in as single graph. Also assign title, names to x & y axis, grid and legends too. Figure size should be (15,8)"
      ],
      "metadata": {
        "id": "hh35zuDpWEJE"
      }
    },
    {
      "cell_type": "code",
      "source": [
        "# Plot the desired plot and do the proper naming.\n",
        "years = [1,2,3]\n",
        "sales_A = [2,4,1]\n",
        "sales_B = [4,1,3]\n",
        "\n"
      ],
      "metadata": {
        "id": "_IcakkfVWG6u"
      },
      "execution_count": null,
      "outputs": []
    },
    {
      "cell_type": "markdown",
      "source": [
        "## Q10 (5 points)\n",
        "\n",
        "There exists a cafeteria in your area. You are given with price of different food items along with the sales of each item per day, also with the profit magin of each item. Plot a scatter graph and check which item is giving the maximum profit using scatter plot. Also plot the subplots(line plots) of product list vs other 3 items like product list vs price etc. Also assign tags to each graph.\n",
        "\n",
        "```\n",
        "product list = ['Coffee', 'Candy', 'Sandwich','Burgers','Fries','Shakes']\n",
        "\n",
        "price = np.asarray([2.50, 1.23, 4.02, 3.25, 5.00, 4.40])\n",
        "\n",
        "sales per day = np.asarray([34, 62, 49, 22, 13, 19])\n",
        "\n",
        "profit margin = np.asarray([20, 35, 40, 20, 27.5, 15])\n",
        "```\n",
        "\n"
      ],
      "metadata": {
        "id": "K5cicmGcWML7"
      }
    },
    {
      "cell_type": "code",
      "source": [
        "# Plot Scatter plot here. \n",
        "# Keep product list on x-axis and sales per day on y-axis and size of each bubble vary according to the profit margin.\n",
        "\n",
        "\n"
      ],
      "metadata": {
        "id": "86DLPreuWM7l"
      },
      "execution_count": null,
      "outputs": []
    },
    {
      "cell_type": "code",
      "source": [
        "# plot subplot(line plots) here \n",
        "# there will be 3 subplots \n",
        "\n",
        "\n"
      ],
      "metadata": {
        "id": "wtg39Z0yj6h0"
      },
      "execution_count": null,
      "outputs": []
    },
    {
      "cell_type": "markdown",
      "source": [
        "## Q11 (3 points)\n",
        "\n",
        "Use the below imported image and show Horizontal and vertical flip on the image. Also rotate at an angle of 40.\n"
      ],
      "metadata": {
        "id": "cXtrkoaM27mU"
      }
    },
    {
      "cell_type": "code",
      "source": [
        "# importing image\n",
        "\n",
        "image_path = os.path.join(root_dir, \"100.jpg\")\n",
        "\n",
        "# read and open \"image_path\" file and perform all the tasks\n",
        "\n",
        "image = "
      ],
      "metadata": {
        "execution": {
          "iopub.status.busy": "2022-04-25T08:25:35.530034Z",
          "iopub.execute_input": "2022-04-25T08:25:35.530315Z",
          "iopub.status.idle": "2022-04-25T08:25:35.534855Z",
          "shell.execute_reply.started": "2022-04-25T08:25:35.530287Z",
          "shell.execute_reply": "2022-04-25T08:25:35.533652Z"
        },
        "trusted": true,
        "id": "0AanPK6AXB_X"
      },
      "execution_count": null,
      "outputs": []
    },
    {
      "cell_type": "code",
      "source": [
        "# horizontal flip\n"
      ],
      "metadata": {
        "id": "vAR_RYSr3BEz"
      },
      "execution_count": null,
      "outputs": []
    },
    {
      "cell_type": "code",
      "source": [
        "# vertical flip\n"
      ],
      "metadata": {
        "id": "4sCzNB54mav3"
      },
      "execution_count": null,
      "outputs": []
    },
    {
      "cell_type": "code",
      "source": [
        "# rotation at 40\n",
        "\n"
      ],
      "metadata": {
        "id": "kbsq_GSyma8b"
      },
      "execution_count": null,
      "outputs": []
    },
    {
      "cell_type": "markdown",
      "source": [
        "## Q12 (2 points)\n",
        "\n",
        "Add watermark to the above imported original image. Write \"Your Name\" over the image as watermark and show the image using PIL.\n",
        "\n",
        "Note: You might need to download the fonts."
      ],
      "metadata": {
        "id": "zo-7ZLuQ3BQT"
      }
    },
    {
      "cell_type": "code",
      "source": [
        "# add watermark at position 0,0 i.e. top left corner \n",
        "\n"
      ],
      "metadata": {
        "id": "cZRIcKEs3EuY"
      },
      "execution_count": null,
      "outputs": []
    },
    {
      "cell_type": "markdown",
      "source": [
        "## Q13 (5 points)\n",
        "# Let's create a pencil sketch! \n",
        "\n",
        "Use OpenCV for all these operations"
      ],
      "metadata": {
        "id": "SssgIKNRvQJ_"
      }
    },
    {
      "cell_type": "code",
      "source": [
        "# Read the \"101.jpg\" image from the root_dir and convert into an image array\n",
        "\n",
        "\n",
        "# divide the image from middled (into image and mask) and perform the below given actions on both the images\n",
        "\n",
        "\n",
        "# Convert the image to grayscale\n",
        "\n",
        "\n",
        "# Invert the image\n",
        "\n",
        "\n",
        "# Apply blur - use any type, like GaussianBlur\n",
        "\n",
        "\n",
        "# Divide the gray image by the blurred image\n",
        "\n",
        "\n",
        "# Show images!!"
      ],
      "metadata": {
        "id": "00Eplf0uvXH6",
        "execution": {
          "iopub.status.busy": "2022-04-25T09:13:38.190746Z",
          "iopub.execute_input": "2022-04-25T09:13:38.190967Z",
          "iopub.status.idle": "2022-04-25T09:13:38.194429Z",
          "shell.execute_reply.started": "2022-04-25T09:13:38.190946Z",
          "shell.execute_reply": "2022-04-25T09:13:38.193632Z"
        },
        "trusted": true
      },
      "execution_count": null,
      "outputs": []
    },
    {
      "cell_type": "markdown",
      "source": [
        "\n",
        "## Q14 (3 points)\n",
        "In which domain(eg. Agriculture) other than space would you like to apply the concepts you have learned so far and how ?\n",
        "(Atleast 100 Words)"
      ],
      "metadata": {
        "id": "62d7c411"
      }
    },
    {
      "cell_type": "code",
      "source": [
        "# Put your thoughts\n",
        "\n",
        "your_answer = \" \" \n",
        "\n",
        "print(your_answer)"
      ],
      "metadata": {
        "id": "065d70e9"
      },
      "execution_count": null,
      "outputs": []
    },
    {
      "cell_type": "markdown",
      "source": [
        "## Q15 (2 points)\n",
        "If you are given a chance to be a part of any space mission, which one it could be ? and why do you want to be a part of it?(Atleast 100 Words)"
      ],
      "metadata": {
        "id": "cfe070fa"
      }
    },
    {
      "cell_type": "code",
      "source": [
        "# print your answer\n",
        "\n",
        "your_answer = \" \" \n",
        "\n",
        "print(your_answer)"
      ],
      "metadata": {
        "id": "8f73aa00"
      },
      "execution_count": null,
      "outputs": []
    },
    {
      "cell_type": "markdown",
      "source": [
        "## Thank you for completing all the questions!\n",
        "#### Download your notebook and submit it in the google form"
      ],
      "metadata": {
        "id": "MZEjycZWIVm2"
      }
    },
    {
      "cell_type": "code",
      "source": [
        ""
      ],
      "metadata": {
        "id": "JuYbHv5GXB_e"
      },
      "execution_count": null,
      "outputs": []
    }
  ]
}