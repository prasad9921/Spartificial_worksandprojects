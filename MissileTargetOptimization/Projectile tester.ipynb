{
 "cells": [
  {
   "cell_type": "code",
   "execution_count": 1,
   "id": "931f7eb3",
   "metadata": {},
   "outputs": [],
   "source": [
    "import numpy as np\n",
    "import matplotlib.pylab as plot\n",
    "import math as m\n",
    "import cv2"
   ]
  },
  {
   "cell_type": "code",
   "execution_count": 2,
   "id": "8cf83391",
   "metadata": {},
   "outputs": [],
   "source": [
    "im=cv2.imread(\"white1.png\")\n",
    "(iy,ix,iz)=im.shape\n",
    "image=cv2.imread(\"white1.png\")"
   ]
  },
  {
   "cell_type": "code",
   "execution_count": 3,
   "id": "55b26d8f",
   "metadata": {},
   "outputs": [],
   "source": [
    "#initialize variables\n",
    "#velocity, gravity\n",
    "v = 100\n",
    "g = 9.8\n",
    "#increment theta 25 to 60 then find  t, x, y\n",
    "#define x and y as arrays\n",
    "theta = m.pi/6\n",
    "a=0\n",
    "#theta = np.arange(m.pi/6, m.pi/3, m.pi/36)\n",
    "R=v**2*m.sin(2*theta)/g\n",
    "h=v**2*m.sin(theta)**2/(2*g)\n",
    "t = np.linspace(0, R/(v*m.cos(theta)), num=100) # Set time as 'continous' parameter.\n",
    "#for i in theta: # Calculate trajectory for every angle\n",
    "x1 = []\n",
    "y1 = []\n",
    "l=[]\n",
    "mh=0\n",
    "for k in t:\n",
    "    x = ((v*k)*np.cos(theta)) # get positions at every point in time\n",
    "    y = ((v*k)*np.sin(theta))-((0.5*g)*(k**2))\n",
    "    if(y>=0):\n",
    "        x1.append(x)\n",
    "        y1.append(y)\n",
    "        if(mh<y):\n",
    "            mh=y\n",
    "        #l.append([x*m.cos(a)+y*m.sin(a),-x*m.sin(a)+y*m.cos(a)])\n",
    "for i in range(len(x1)):\n",
    "    l.append([x1[i],(mh-y1[i])+iy-h])\n",
    "\n",
    "pts = np.array(l,np.int32)\n",
    "pts = pts.reshape((-1, 1, 2))\n",
    "\n",
    "isClosed = False\n",
    "\n",
    "# Green color in BGR\n",
    "color = (0, 255, 255)\n",
    "\n",
    "# Line thickness of 8 px\n",
    "thickness = 3\n",
    "\n",
    "# Using cv2.polylines() method\n",
    "# Draw a Green polygon with\n",
    "# thickness of 1 px\n",
    "image = cv2.polylines(im, [pts],\n",
    "                      isClosed, color,\n",
    "                      thickness)\n",
    "\n",
    "\n",
    "\n",
    "    #plot.plot(x1, y1) # Plot for every angle\n",
    "\n",
    "#plot.show() # And show on one graphic\n",
    "cv2.imshow('hii', image)\n",
    "#waits for user to press any key\n",
    "#(this is necessary to avoid Python kernel form crashing)\n",
    "cv2.waitKey(0)\n",
    "\n",
    "#closing all open windows\n",
    "cv2.destroyAllWindows()"
   ]
  },
  {
   "cell_type": "code",
   "execution_count": 21,
   "id": "5a07d41f",
   "metadata": {},
   "outputs": [
    {
     "data": {
      "text/plain": [
       "883.699391616774"
      ]
     },
     "execution_count": 21,
     "metadata": {},
     "output_type": "execute_result"
    }
   ],
   "source": [
    "R"
   ]
  },
  {
   "cell_type": "code",
   "execution_count": 22,
   "id": "67a420c3",
   "metadata": {},
   "outputs": [
    {
     "data": {
      "text/plain": [
       "662.7745437125806"
      ]
     },
     "execution_count": 22,
     "metadata": {},
     "output_type": "execute_result"
    }
   ],
   "source": [
    "x"
   ]
  },
  {
   "cell_type": "code",
   "execution_count": 15,
   "id": "02766ef4",
   "metadata": {},
   "outputs": [
    {
     "data": {
      "text/plain": [
       "array([0.        , 0.07730365, 0.1546073 , 0.23191095, 0.30921459,\n",
       "       0.38651824, 0.46382189, 0.54112554, 0.61842919, 0.69573284,\n",
       "       0.77303649, 0.85034014, 0.92764378, 1.00494743, 1.08225108,\n",
       "       1.15955473, 1.23685838, 1.31416203, 1.39146568, 1.46876933,\n",
       "       1.54607297, 1.62337662, 1.70068027, 1.77798392, 1.85528757,\n",
       "       1.93259122, 2.00989487, 2.08719852, 2.16450216, 2.24180581,\n",
       "       2.31910946, 2.39641311, 2.47371676, 2.55102041, 2.62832406,\n",
       "       2.70562771, 2.78293135, 2.860235  , 2.93753865, 3.0148423 ,\n",
       "       3.09214595, 3.1694496 , 3.24675325, 3.3240569 , 3.40136054,\n",
       "       3.47866419, 3.55596784, 3.63327149, 3.71057514, 3.78787879,\n",
       "       3.86518244, 3.94248609, 4.01978973, 4.09709338, 4.17439703,\n",
       "       4.25170068, 4.32900433, 4.40630798, 4.48361163, 4.56091528,\n",
       "       4.63821892, 4.71552257, 4.79282622, 4.87012987, 4.94743352,\n",
       "       5.02473717, 5.10204082, 5.17934447, 5.25664811, 5.33395176,\n",
       "       5.41125541, 5.48855906, 5.56586271, 5.64316636, 5.72047001,\n",
       "       5.79777365, 5.8750773 , 5.95238095, 6.0296846 , 6.10698825,\n",
       "       6.1842919 , 6.26159555, 6.3388992 , 6.41620284, 6.49350649,\n",
       "       6.57081014, 6.64811379, 6.72541744, 6.80272109, 6.88002474,\n",
       "       6.95732839, 7.03463203, 7.11193568, 7.18923933, 7.26654298,\n",
       "       7.34384663, 7.42115028, 7.49845393, 7.57575758, 7.65306122])"
      ]
     },
     "execution_count": 15,
     "metadata": {},
     "output_type": "execute_result"
    }
   ],
   "source": [
    "t"
   ]
  },
  {
   "cell_type": "code",
   "execution_count": 23,
   "id": "e4b5c6f6",
   "metadata": {},
   "outputs": [
    {
     "data": {
      "text/plain": [
       "7.653061224489796"
      ]
     },
     "execution_count": 23,
     "metadata": {},
     "output_type": "execute_result"
    }
   ],
   "source": [
    "t[-1]"
   ]
  },
  {
   "cell_type": "code",
   "execution_count": 25,
   "id": "243d6c8b",
   "metadata": {},
   "outputs": [
    {
     "data": {
      "text/plain": [
       "662.7745437125806"
      ]
     },
     "execution_count": 25,
     "metadata": {},
     "output_type": "execute_result"
    }
   ],
   "source": [
    "((v*k)*np.cos(theta))"
   ]
  },
  {
   "cell_type": "code",
   "execution_count": 24,
   "id": "dc26bba6",
   "metadata": {},
   "outputs": [
    {
     "data": {
      "text/plain": [
       "7.653061224489796"
      ]
     },
     "execution_count": 24,
     "metadata": {},
     "output_type": "execute_result"
    }
   ],
   "source": [
    "k"
   ]
  },
  {
   "cell_type": "code",
   "execution_count": 26,
   "id": "2e867459",
   "metadata": {},
   "outputs": [
    {
     "data": {
      "text/plain": [
       "883.699391616774"
      ]
     },
     "execution_count": 26,
     "metadata": {},
     "output_type": "execute_result"
    }
   ],
   "source": [
    "R"
   ]
  },
  {
   "cell_type": "code",
   "execution_count": null,
   "id": "79ce770c",
   "metadata": {},
   "outputs": [],
   "source": []
  }
 ],
 "metadata": {
  "kernelspec": {
   "display_name": "Python 3 (ipykernel)",
   "language": "python",
   "name": "python3"
  },
  "language_info": {
   "codemirror_mode": {
    "name": "ipython",
    "version": 3
   },
   "file_extension": ".py",
   "mimetype": "text/x-python",
   "name": "python",
   "nbconvert_exporter": "python",
   "pygments_lexer": "ipython3",
   "version": "3.10.4"
  }
 },
 "nbformat": 4,
 "nbformat_minor": 5
}
