{
  "nbformat": 4,
  "nbformat_minor": 0,
  "metadata": {
    "colab": {
      "name": "AI4LE - Week 3 Activity.ipynb",
      "provenance": []
    },
    "kernelspec": {
      "name": "python3",
      "display_name": "Python 3"
    },
    "language_info": {
      "name": "python"
    }
  },
  "cells": [
    {
      "cell_type": "markdown",
      "source": [
        "Q1. Print the following pattern \n",
        "\n",
        "```\n",
        "*000*000*\n",
        "0*00*00*0\n",
        "00*0*0*00\n",
        "000***000\n",
        "```\n",
        "\n"
      ],
      "metadata": {
        "id": "aKhzxVGVaq4A"
      }
    },
    {
      "cell_type": "code",
      "source": [
        "##Your Solution\n",
        "\n",
        "\n",
        "\n"
      ],
      "metadata": {
        "id": "XJBV2wUd6ziM"
      },
      "execution_count": null,
      "outputs": []
    },
    {
      "cell_type": "markdown",
      "source": [
        "Q2 You have been given a text message. You have to return the Run-length Encoding of the given message.\n",
        "\n",
        "\n",
        "Run-length encoding is a fast and simple method of encoding strings. The basic idea is to represent repeated successive characters as the character and a single count. \n",
        "\n",
        "For example, the string \"aaaabbbccdaa\" would be encoded as \"a4b3c2d1a2\"."
      ],
      "metadata": {
        "id": "5WTa3LF1hdWl"
      }
    },
    {
      "cell_type": "code",
      "source": [
        "##Your Solution\n",
        "\n",
        "\n",
        "\n"
      ],
      "metadata": {
        "id": "6QHGJfrt642S"
      },
      "execution_count": null,
      "outputs": []
    },
    {
      "cell_type": "markdown",
      "source": [
        "Q3 An Astronaut has given you a list of WORDS and a PATTERN string. His/Her task is to find all such words in the list which match the given pattern. A valid match is found if and only if every character in the pattern is uniquely mapped to a character in a word.\n",
        "\n",
        "\n",
        "\n",
        "Example:\n",
        "\n",
        "Let the list of words be {cod, zcz} and the pattern be ‘nin’.\n",
        "For each word in the list, we will check whether the word matches the pattern or not:\n",
        "\n",
        "For the word ‘cod’:\n",
        "\n",
        "Letter ‘n’ in the pattern maps to letter ‘c’ in the word.\n",
        "\n",
        "Letter ‘i’ in the pattern maps to letter ‘o’ in the word.\n",
        "\n",
        "Letter ‘n’ in the pattern maps to letter ‘d’ in the word.\n",
        "\n",
        "As the same letter ‘n’ in the pattern, maps to two different letters ‘c’ and ‘d’ in the word. Hence, ‘cod’ is not a valid match.\n",
        "\n",
        "For the word 'zcz':\n",
        "\n",
        "Letter ‘n’ in the pattern maps to letter ‘z’ in the word.\n",
        "\n",
        "Letter ‘i’ in the pattern maps to letter ‘c’ in the word.\n",
        "\n",
        "Letter ‘n’ in the pattern maps to letter ‘z’ in the word.\n",
        "\n",
        "\n",
        "As every letter in the pattern maps uniquely to a corresponding letter in the word. Hence 'zcz' is a valid match.\n",
        "\n",
        "\n",
        "\n",
        "Input:\n",
        "\n",
        "T : Number of test cases\n",
        "\n",
        "N : Number of words in string\n",
        "\n",
        "Arr : String Containing N words\n",
        "\n",
        "P : Pattern string   "
      ],
      "metadata": {
        "id": "JBtdpONWs6yb"
      }
    },
    {
      "cell_type": "code",
      "source": [
        "##Your Solution\n",
        "\n",
        "\n",
        "\n"
      ],
      "metadata": {
        "id": "Po78D8Pl7E3I"
      },
      "execution_count": null,
      "outputs": []
    }
  ]
}