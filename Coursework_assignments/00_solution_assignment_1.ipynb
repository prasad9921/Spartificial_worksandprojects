{
  "cells": [
    {
      "cell_type": "markdown",
      "metadata": {
        "id": "CvmMB2DLK8ZE"
      },
      "source": [
        "# <center> Assignment-1 (AI4LR)\n",
        "Total Points: 50"
      ]
    },
    {
      "cell_type": "code",
      "execution_count": null,
      "metadata": {
        "id": "OCuwC_CTLSOk"
      },
      "outputs": [],
      "source": [
        "Your_Name = \"\"\n",
        "Your_Email_id = \"\""
      ]
    },
    {
      "cell_type": "markdown",
      "metadata": {
        "id": "7Sv80hlEMBBx"
      },
      "source": [
        "### Q1 (2 points)\n",
        "Which of the following statements is used to terminate the statement ?\n",
        "\n",
        "> A. Next\n",
        " \n",
        "> B. Switch\n",
        "\n",
        "> C. Break\n",
        "\n",
        "> D. With\n"
      ]
    },
    {
      "cell_type": "code",
      "execution_count": null,
      "metadata": {
        "execution": {
          "iopub.execute_input": "2021-12-30T12:56:45.862246Z",
          "iopub.status.busy": "2021-12-30T12:56:45.861941Z",
          "iopub.status.idle": "2021-12-30T12:56:45.867215Z",
          "shell.execute_reply": "2021-12-30T12:56:45.866353Z",
          "shell.execute_reply.started": "2021-12-30T12:56:45.862215Z"
        },
        "id": "AfgvicjUMBBy",
        "outputId": "78bb6fc8-8e3e-4953-e37e-1602abf8500f"
      },
      "outputs": [
        {
          "name": "stdout",
          "output_type": "stream",
          "text": [
            "C\n"
          ]
        }
      ],
      "source": [
        "# print your answer. for ex if your answer is B\n",
        "# print(\"B\")\n",
        "\n",
        "print(\"C\")\n"
      ]
    },
    {
      "cell_type": "markdown",
      "metadata": {
        "id": "I7Gga9qyMBBz"
      },
      "source": [
        "### Q2 (2 points)\n",
        "For the below code, specify the datatype of variable X,\n",
        "\n",
        "X = 'achgd7698'\n",
        "\n",
        "> A. Complex \n",
        "\n",
        "> B. String \n",
        "\n",
        "> C. Integer\n",
        "\n",
        "> D. Boolean\n"
      ]
    },
    {
      "cell_type": "code",
      "execution_count": null,
      "metadata": {
        "id": "RKU1-4p6MBB0",
        "outputId": "64d9f516-9c92-4ba2-8c32-c8fb7ac830f7"
      },
      "outputs": [
        {
          "name": "stdout",
          "output_type": "stream",
          "text": [
            "B\n"
          ]
        }
      ],
      "source": [
        "# print your answer.\n",
        "print(\"B\")\n"
      ]
    },
    {
      "cell_type": "markdown",
      "metadata": {
        "id": "D5a2ZPy2MBB1"
      },
      "source": [
        "### Q3 (2 points)\n",
        "Consider the if-elseif-else statement, how many elseif are possible between if and else statements?\n",
        "\n",
        "> A. 1\n",
        "\n",
        "> B. 0\n",
        "\n",
        "> C. Multiple\n",
        "\n",
        "> D. None of the above\n"
      ]
    },
    {
      "cell_type": "code",
      "execution_count": null,
      "metadata": {
        "id": "mEKIS0KHMBB1",
        "outputId": "34f63673-91a4-4ac0-c834-22ef5ba55717"
      },
      "outputs": [
        {
          "name": "stdout",
          "output_type": "stream",
          "text": [
            "C\n"
          ]
        }
      ],
      "source": [
        "# print your answer.\n",
        "\n",
        "print(\"C\")\n",
        "\n"
      ]
    },
    {
      "cell_type": "markdown",
      "metadata": {
        "id": "uOT4gIO5MBB2"
      },
      "source": [
        "### Q4 (2 points)\n",
        "What will be the data type of variable 'C' after executing this code ?\n",
        "\n",
        "A = 5\n",
        "\n",
        "B = 6\n",
        "\n",
        "C = print(A/B)\n",
        " \n",
        "> A. Float\n",
        "\n",
        "> B. None-type\n",
        "\n",
        "> C. Int\n",
        "\n",
        "> D. Object\n"
      ]
    },
    {
      "cell_type": "code",
      "execution_count": null,
      "metadata": {
        "id": "qHc66_slMBB3",
        "outputId": "35a33b37-9b9b-4c8a-f52f-b88191d73b99"
      },
      "outputs": [
        {
          "name": "stdout",
          "output_type": "stream",
          "text": [
            "B\n"
          ]
        }
      ],
      "source": [
        "# print your answer.\n",
        "\n",
        "print(\"B\")"
      ]
    },
    {
      "cell_type": "markdown",
      "metadata": {
        "id": "gDoZrMKxMBB3"
      },
      "source": [
        "### Q5 (5 points)\n",
        "Write a function that takes any number N as input and returns the square of that number."
      ]
    },
    {
      "cell_type": "code",
      "execution_count": null,
      "metadata": {
        "execution": {
          "iopub.execute_input": "2021-12-30T13:14:52.170795Z",
          "iopub.status.busy": "2021-12-30T13:14:52.170290Z",
          "iopub.status.idle": "2021-12-30T13:14:56.494996Z",
          "shell.execute_reply": "2021-12-30T13:14:56.494467Z",
          "shell.execute_reply.started": "2021-12-30T13:14:52.170761Z"
        },
        "id": "LmFDV1hSMBB3",
        "outputId": "df161c69-5f73-4b82-e6da-89ecd835048e"
      },
      "outputs": [
        {
          "name": "stdout",
          "output_type": "stream",
          "text": [
            "The square of N is:  4\n"
          ]
        }
      ],
      "source": [
        "# complete the code below\n",
        "\n",
        "def fibonacci(N):\n",
        "    result = N**2\n",
        "    \n",
        "    return result \n",
        "\n",
        "\n",
        "N = int(input())\n",
        "\n",
        "print(\"The square of N is: \", fibonacci(N))\n",
        "\n",
        "# the function name is fibonacci, just to confuse"
      ]
    },
    {
      "cell_type": "markdown",
      "metadata": {
        "id": "qkK6yM8zMBB4"
      },
      "source": [
        "### Q6 (8 points)\n",
        "Write a program which will find all such numbers which are divisible by 7 but are not a multiple of 5,\n",
        "between 2000 and 3200 (both included). \n",
        "The numbers obtained should be printed in a comma-separated sequence on a single line."
      ]
    },
    {
      "cell_type": "code",
      "execution_count": null,
      "metadata": {
        "execution": {
          "iopub.execute_input": "2021-12-30T13:18:00.146749Z",
          "iopub.status.busy": "2021-12-30T13:18:00.146388Z",
          "iopub.status.idle": "2021-12-30T13:18:00.150072Z",
          "shell.execute_reply": "2021-12-30T13:18:00.149479Z",
          "shell.execute_reply.started": "2021-12-30T13:18:00.146710Z"
        },
        "id": "5I3wZuJ5MBB4",
        "outputId": "bb3f437c-301e-4bac-bb99-22d53a20be23"
      },
      "outputs": [
        {
          "name": "stdout",
          "output_type": "stream",
          "text": [
            "2002,2009,2016,2023,2037,2044,2051,2058,2072,2079,2086,2093,2107,2114,2121,2128,2142,2149,2156,2163,2177,2184,2191,2198,2212,2219,2226,2233,2247,2254,2261,2268,2282,2289,2296,2303,2317,2324,2331,2338,2352,2359,2366,2373,2387,2394,2401,2408,2422,2429,2436,2443,2457,2464,2471,2478,2492,2499,2506,2513,2527,2534,2541,2548,2562,2569,2576,2583,2597,2604,2611,2618,2632,2639,2646,2653,2667,2674,2681,2688,2702,2709,2716,2723,2737,2744,2751,2758,2772,2779,2786,2793,2807,2814,2821,2828,2842,2849,2856,2863,2877,2884,2891,2898,2912,2919,2926,2933,2947,2954,2961,2968,2982,2989,2996,3003,3017,3024,3031,3038,3052,3059,3066,3073,3087,3094,3101,3108,3122,3129,3136,3143,3157,3164,3171,3178,3192,3199\n"
          ]
        }
      ],
      "source": [
        "# write your solution here\n",
        "list =[]\n",
        "for i in range (2000,3201):\n",
        "    if i%7==0 and i%5!=0:\n",
        "        list.append(i)\n",
        "print(\",\".join(map(str, list)))"
      ]
    },
    {
      "cell_type": "markdown",
      "metadata": {
        "id": "eW2kZHF2MBB5"
      },
      "source": [
        "### Q7 (5 points)\n",
        "Write a Python program to accept the user's first and last name and then get them printed in the reverse order with a space between first name and last name."
      ]
    },
    {
      "cell_type": "code",
      "execution_count": null,
      "metadata": {
        "id": "73ejcwgVMBB5",
        "outputId": "6c1065e9-2779-4645-8afe-618c9641cf26"
      },
      "outputs": [
        {
          "name": "stdout",
          "output_type": "stream",
          "text": [
            "vaday hsay\n",
            "yadav yash\n"
          ]
        }
      ],
      "source": [
        "# write your code here\n",
        "\n",
        "first_name = input(\"Enter First Name \")\n",
        "last_name = input(\"Enter Last Name \")\n",
        "\n",
        "Name = (first_name+\" \"+last_name)\n",
        "rev1 = Name[::-1]\n",
        "rev2 = last_name + \" \" + first_name\n",
        "print(rev1)\n",
        "print(rev2)\n",
        "\n",
        "# both are correct"
      ]
    },
    {
      "cell_type": "markdown",
      "metadata": {
        "id": "3JWpW06sMBB5"
      },
      "source": [
        "### Q8 (3 points)\n",
        "Given this given nested list, use indexing to grab and print the word \"hello\".\n"
      ]
    },
    {
      "cell_type": "code",
      "execution_count": null,
      "metadata": {
        "execution": {
          "iopub.execute_input": "2021-12-30T13:24:15.570340Z",
          "iopub.status.busy": "2021-12-30T13:24:15.569584Z",
          "iopub.status.idle": "2021-12-30T13:24:15.575669Z",
          "shell.execute_reply": "2021-12-30T13:24:15.574960Z",
          "shell.execute_reply.started": "2021-12-30T13:24:15.570297Z"
        },
        "id": "yu65O8BEMBB6",
        "outputId": "de01f34a-a760-4947-9e34-5a21f073774c"
      },
      "outputs": [
        {
          "name": "stdout",
          "output_type": "stream",
          "text": [
            "hello\n"
          ]
        }
      ],
      "source": [
        "lst = [1,2,[3,4],[5,[100,200,['hello']],23,11],1,7]\n",
        "\n",
        "# print the word 'hello' using list indexing \n",
        "print(lst[3][1][2][0])"
      ]
    },
    {
      "cell_type": "markdown",
      "metadata": {
        "id": "sjXLbOxXMBB6"
      },
      "source": [
        "### Q9 (3 points)\n",
        "Write a program to get the index of 'abc' in the list a =['bca', 'cba', 'abc']\n"
      ]
    },
    {
      "cell_type": "code",
      "execution_count": null,
      "metadata": {
        "id": "J5Vbkz-gMBB6",
        "outputId": "38cef7be-9dd4-45fc-f6eb-d9345a21ada7"
      },
      "outputs": [
        {
          "name": "stdout",
          "output_type": "stream",
          "text": [
            "2\n"
          ]
        }
      ],
      "source": [
        "#Write your program here and print index as the output\n",
        "a = ['bca','cba','abc']\n",
        "print(a.index(\"abc\"))\n",
        "\n",
        "# or if only 2 is written, that's alright too "
      ]
    },
    {
      "cell_type": "markdown",
      "metadata": {
        "id": "4kgiFnixMBB6"
      },
      "source": [
        "### Q10 (5 points)\n",
        "Write a program to print the following using while loop\n",
        "\n",
        "> a. First 10 Even numbers\n",
        "\n",
        "> b. First 10 Odd numbers\n"
      ]
    },
    {
      "cell_type": "code",
      "execution_count": null,
      "metadata": {
        "execution": {
          "iopub.execute_input": "2021-12-30T13:31:07.762045Z",
          "iopub.status.busy": "2021-12-30T13:31:07.761618Z",
          "iopub.status.idle": "2021-12-30T13:31:07.767551Z",
          "shell.execute_reply": "2021-12-30T13:31:07.766669Z",
          "shell.execute_reply.started": "2021-12-30T13:31:07.762013Z"
        },
        "id": "_2VGjdWqMBB7",
        "outputId": "090d3a0d-12b7-4110-ee45-9187ddb7438c"
      },
      "outputs": [
        {
          "name": "stdout",
          "output_type": "stream",
          "text": [
            "First 10 Even Numbers are : [2, 4, 6, 8, 10, 12, 14, 16, 18, 20]\n",
            "First 10 Odd Numbers are : [1, 3, 5, 7, 9, 11, 13, 15, 17, 19]\n"
          ]
        }
      ],
      "source": [
        "even = []\n",
        "odd = []\n",
        "\n",
        "num = 1\n",
        "\n",
        "while num <= 10:\n",
        "    even.append(2*num)\n",
        "    odd.append(2*num - 1)\n",
        "    \n",
        "    num+=1\n",
        "    \n",
        "print('First 10 Even Numbers are :',even)\n",
        "print('First 10 Odd Numbers are :',odd)\n",
        "  "
      ]
    },
    {
      "cell_type": "markdown",
      "metadata": {
        "id": "jcsI6ulLMBB7"
      },
      "source": [
        "### Q11 (3 points)\n",
        "For the given program\n",
        "\n",
        "\n",
        "```\n",
        "number = 5\n",
        "while number <= 5:\n",
        "    if number < 5:\n",
        "        number = number + 1\n",
        "    print(number)\n",
        "```\n",
        "\n",
        "\n",
        "\n",
        "* A. The program will loop indefinitely\n",
        "* B. The value of number will be printed exactly 1 time\n",
        "* C. The while loop will never get executed\n",
        "* D. The value of number will be printed exactly 5 times\n"
      ]
    },
    {
      "cell_type": "code",
      "execution_count": null,
      "metadata": {
        "execution": {
          "iopub.execute_input": "2021-12-30T13:38:10.279245Z",
          "iopub.status.busy": "2021-12-30T13:38:10.278884Z",
          "iopub.status.idle": "2021-12-30T13:38:10.284062Z",
          "shell.execute_reply": "2021-12-30T13:38:10.283092Z",
          "shell.execute_reply.started": "2021-12-30T13:38:10.279210Z"
        },
        "id": "IfADTUT2MBB8",
        "outputId": "0b182839-77dc-4bc3-b25e-659b50dc0380"
      },
      "outputs": [
        {
          "name": "stdout",
          "output_type": "stream",
          "text": [
            "A\n"
          ]
        }
      ],
      "source": [
        "# print your answer here\n",
        "\n",
        "print(\"A\")"
      ]
    },
    {
      "cell_type": "markdown",
      "metadata": {
        "id": "gh6aj2lvMBB9"
      },
      "source": [
        "### Q12 (5 points)\n",
        "\n",
        "Share your views on the upcoming Moon Missions. Do you think ISRO will succed with Chandrayaan-3? (Explain in Atleast 100 words) "
      ]
    },
    {
      "cell_type": "code",
      "execution_count": null,
      "metadata": {
        "id": "Y9DCT-ZJMBB9",
        "outputId": "950cd53a-ef34-44d8-ae1a-55fd7842396f"
      },
      "outputs": [
        {
          "name": "stdout",
          "output_type": "stream",
          "text": [
            "\n"
          ]
        }
      ],
      "source": [
        "# print your answer\n",
        "\n",
        "my_answer = \"\"\n",
        "\n",
        "print(my_answer)"
      ]
    },
    {
      "cell_type": "markdown",
      "metadata": {
        "id": "A8aUy0tHMBB9"
      },
      "source": [
        "### Q13 (5 points)\n",
        "\n",
        "Describe your experience while learning python so far. Now that you are somewhat familiar with this tool, can you name some more use cases and examples where we can use python. (Atleast 150 words)"
      ]
    },
    {
      "cell_type": "code",
      "execution_count": null,
      "metadata": {
        "id": "OvZrki2iMBB9",
        "outputId": "aad7f2e0-7315-491b-e2dc-46ed412ccdb6"
      },
      "outputs": [
        {
          "name": "stdout",
          "output_type": "stream",
          "text": [
            "\n"
          ]
        }
      ],
      "source": [
        "# print your answer\n",
        "\n",
        "my_answer = \"\"\n",
        "\n",
        "print(my_answer)"
      ]
    },
    {
      "cell_type": "markdown",
      "metadata": {
        "id": "V-EtNtnsMBB9"
      },
      "source": [
        "### Q14 (Bonus)\n",
        "Tell us anything very interesting. And try asking a very intelligent question."
      ]
    },
    {
      "cell_type": "code",
      "execution_count": null,
      "metadata": {
        "id": "aP3FbDy4MBB-",
        "outputId": "b870801a-2953-4758-d632-a6e352b8f29e"
      },
      "outputs": [
        {
          "name": "stdout",
          "output_type": "stream",
          "text": [
            "\n"
          ]
        }
      ],
      "source": [
        "# print your answer\n",
        "\n",
        "my_answer = \"\"\n",
        "\n",
        "print(my_answer)"
      ]
    },
    {
      "cell_type": "markdown",
      "metadata": {
        "id": "EKwUJmuZMBB-"
      },
      "source": [
        "## Thank you for completing all the questions\n",
        "\n",
        "\n",
        "#### Download your notebook and submit it in the google form"
      ]
    },
    {
      "cell_type": "code",
      "execution_count": null,
      "metadata": {
        "id": "KTavJZuFM474"
      },
      "outputs": [],
      "source": [
        ""
      ]
    }
  ],
  "metadata": {
    "colab": {
      "collapsed_sections": [],
      "name": "00_solution_assignment_1.ipynb",
      "provenance": []
    },
    "kernelspec": {
      "display_name": "Python 3",
      "language": "python",
      "name": "python3"
    },
    "language_info": {
      "codemirror_mode": {
        "name": "ipython",
        "version": 3
      },
      "file_extension": ".py",
      "mimetype": "text/x-python",
      "name": "python",
      "nbconvert_exporter": "python",
      "pygments_lexer": "ipython3",
      "version": "3.9.7"
    }
  },
  "nbformat": 4,
  "nbformat_minor": 0
}