{
 "cells": [
  {
   "cell_type": "markdown",
   "metadata": {
    "id": "Yr51vQ9kIRTJ"
   },
   "source": [
    "## Welcome to Week 1 Session 3 - Advanced Python\n",
    "*   Branching and looping\n",
    "*   Functions\n",
    "*   Lambda\n",
    "*   MapReduce\n",
    "*   Broadcasting\n",
    "\n"
   ]
  },
  {
   "cell_type": "markdown",
   "metadata": {
    "id": "5_sPqgHe3syd"
   },
   "source": [
    "# Branching and Looping \n",
    "* Branching is useful to perform operations based on the conditional checks\n",
    "* Looping is helpful to perform an operation mutiple times based on the conditional checks"
   ]
  },
  {
   "cell_type": "markdown",
   "metadata": {
    "id": "py82Y6Eb3syd"
   },
   "source": [
    "### Conditional statements\n",
    "In conditional statements we use comparison operators (equals to ==, greater than >, less than <, not equals !=, greater than or equal >=, Less than or equal =) to compare values in two variables, Logical operators (and, or) to check mutiple conditions, Logical operator (not) to negate the boolean values.\n",
    "\n",
    "Keywords in Branching: if, elif, else, break, continue, return"
   ]
  },
  {
   "cell_type": "code",
   "execution_count": null,
   "metadata": {
    "execution": {
     "iopub.execute_input": "2022-01-23T10:37:17.784925Z",
     "iopub.status.busy": "2022-01-23T10:37:17.784671Z",
     "iopub.status.idle": "2022-01-23T10:37:17.791819Z",
     "shell.execute_reply": "2022-01-23T10:37:17.7906Z",
     "shell.execute_reply.started": "2022-01-23T10:37:17.784894Z"
    },
    "id": "wJmFGtJ-3sye"
   },
   "outputs": [],
   "source": [
    "# Lets read compare two numbers using conditional statements and comparison operators\n",
    "a=5\n",
    "b=9\n",
    "\n",
    "if a==b:\n",
    "    print('{} is equal to {}'.format(a,b))\n",
    "elif a>b:\n",
    "    print('{} is greater than {}'.format(a,b))\n",
    "else:\n",
    "    print('{} is Less than {}'.format(a,b))\n"
   ]
  },
  {
   "cell_type": "code",
   "execution_count": null,
   "metadata": {
    "execution": {
     "iopub.execute_input": "2022-01-23T10:37:17.79344Z",
     "iopub.status.busy": "2022-01-23T10:37:17.793226Z",
     "iopub.status.idle": "2022-01-23T10:37:17.806828Z",
     "shell.execute_reply": "2022-01-23T10:37:17.806176Z",
     "shell.execute_reply.started": "2022-01-23T10:37:17.793414Z"
    },
    "id": "sUZYBM0P3sye"
   },
   "outputs": [],
   "source": [
    "# Ternary operations or short hand conditional expressions\n",
    "print('{} is equal to {}'.format(a,b)) if a==b else print('{} is greater than to {}'.format(a,b)) if a>b else print('{} is Less than to {}'.format(a,b))"
   ]
  },
  {
   "cell_type": "code",
   "execution_count": null,
   "metadata": {
    "execution": {
     "iopub.execute_input": "2022-01-23T10:37:17.808194Z",
     "iopub.status.busy": "2022-01-23T10:37:17.80797Z",
     "iopub.status.idle": "2022-01-23T10:37:17.820574Z",
     "shell.execute_reply": "2022-01-23T10:37:17.819899Z",
     "shell.execute_reply.started": "2022-01-23T10:37:17.808166Z"
    },
    "id": "bk-7cEnL3sye"
   },
   "outputs": [],
   "source": [
    "# Usage of logical operators to check mutiple conditions, Nested if else.\n",
    "if a==b and a%2 == 0:\n",
    "    print('both a and b has {} and its even'.format(a))\n",
    "else:\n",
    "    if a%2 == 0:\n",
    "        print('a has {} and its even'.format(a))\n",
    "    else:\n",
    "        print('a has {} and its odd'.format(a))\n",
    "    if b%2 == 0:\n",
    "        print('b has {} and its even'.format(b))\n",
    "    else:\n",
    "        print('b has {} and its odd'.format(b))"
   ]
  },
  {
   "cell_type": "code",
   "execution_count": null,
   "metadata": {
    "id": "VEyn720HvW17"
   },
   "outputs": [],
   "source": [
    "# Conditional Statements using Comparison and Logical Operator\n",
    "a = 5\n",
    "b = 10\n",
    "c =5\n",
    "\n",
    "if (a > 5):\n",
    "    print(\"a > 5\")\n",
    "    if(a == c):\n",
    "        print(\"a=c\")\n",
    "elif (a < 5):\n",
    "    print(\"a <5\")\n",
    "    if(a == c):\n",
    "        print(\"a=c\")\n",
    "else:\n",
    "    print(\"a = 5\")\n",
    "    if(a == c):\n",
    "        print(\"a=c\")"
   ]
  },
  {
   "cell_type": "markdown",
   "metadata": {
    "id": "HcGcG7dr3syf"
   },
   "source": [
    "### Looping\n",
    "\n",
    "In general, statements are executed sequentially: The first statement in a function is executed first, followed by the second, and so on. There may be a situation when you need to execute a block of code several number of times.\n",
    "\n",
    "Programming languages provide various control structures that allow for more complicated execution paths.\n",
    "\n",
    "Available loops in python are for and while"
   ]
  },
  {
   "cell_type": "markdown",
   "metadata": {
    "id": "ut1f7SU63syf"
   },
   "source": [
    "## While loop\n",
    "\n",
    "The while loop in Python is used to iterate over a block of code as long as the test expression (condition) is true.\n",
    "\n",
    "We generally use this loop when we don't know beforehand, the number of times to iterate.\n",
    "\n",
    "In while loop, test expression is checked first. The body of the loop is entered only if the test_expression evaluates to True. After one iteration, the test expression is checked again. This process continues until the test_expression evaluates to False.\n",
    "\n",
    "In Python, the body of the while loop is determined through indentation.\n",
    "\n",
    "Body starts with indentation and the first unindented line marks the end.\n",
    "\n",
    "Python interprets any non-zero value as True. None and 0 are interpreted as False."
   ]
  },
  {
   "cell_type": "code",
   "execution_count": null,
   "metadata": {
    "execution": {
     "iopub.execute_input": "2022-01-23T10:37:17.822425Z",
     "iopub.status.busy": "2022-01-23T10:37:17.822099Z",
     "iopub.status.idle": "2022-01-23T10:37:23.116994Z",
     "shell.execute_reply": "2022-01-23T10:37:23.116089Z",
     "shell.execute_reply.started": "2022-01-23T10:37:17.822382Z"
    },
    "id": "byLVH_yl3syf"
   },
   "outputs": [],
   "source": [
    "# Print list of odd numbers by taking start and ending numbers of sequence from use. Take input as comma separated text\n",
    "inp = input()\n",
    "\n",
    "start, end = inp.split(',')\n",
    "start = int(start)\n",
    "end=int(end)\n",
    "\n",
    "print('Odd numbers between {} and {} are:'.format(start, end), end=' ')\n",
    "\n",
    "i= start\n",
    "seq_sum=0\n",
    "while i < end+1:\n",
    "    print(i,end=' ') if (i%2)!=0 else print('\\t', end=' ')\n",
    "    if i%2!=0: seq_sum+=i\n",
    "    i +=1\n",
    "\n",
    "print('\\nsum of odd numbers in the sequence is: ', seq_sum)"
   ]
  },
  {
   "cell_type": "markdown",
   "metadata": {
    "id": "vnXZ8iUi3syg"
   },
   "source": [
    "## For Loop\n",
    "The for loop in Python is used to iterate over a sequence (list, tuple, string) or other iterable objects. Iterating over a sequence is called traversal.\n",
    "\n",
    "Loop continues until we reach the last item in the sequence. The body of for loop is separated from the rest of the code using indentation.\n",
    "\n",
    "A for loop can have an optional else block as well. The else part is executed if the items in the sequence used in for loop exhausts\n",
    "\n",
    "break statement can be used to stop a for loop. In such case, the else part is ignored.\n",
    "\n",
    "Hence, a for loop's else part runs if no break occurs.\n",
    "\n",
    "Here is an example to illustrate this.\n"
   ]
  },
  {
   "cell_type": "code",
   "execution_count": null,
   "metadata": {
    "execution": {
     "iopub.execute_input": "2022-01-23T10:37:23.118782Z",
     "iopub.status.busy": "2022-01-23T10:37:23.118337Z",
     "iopub.status.idle": "2022-01-23T10:37:23.126956Z",
     "shell.execute_reply": "2022-01-23T10:37:23.126113Z",
     "shell.execute_reply.started": "2022-01-23T10:37:23.118732Z"
    },
    "id": "4tL617Go3syg"
   },
   "outputs": [],
   "source": [
    "print('Odd numbers between {} and {} are:'.format(start, end), end=' ')\n",
    "seq_sum=0\n",
    "for i in range(start,end+1):\n",
    "    print(i,end=' ') if (i%2)!=0 else print('\\t', end=' ')\n",
    "    if i%2!=0: seq_sum+=i\n",
    "else:\n",
    "    print('\\nsum of odd numbers in the sequence is: ', seq_sum)"
   ]
  },
  {
   "cell_type": "code",
   "execution_count": null,
   "metadata": {
    "execution": {
     "iopub.execute_input": "2022-01-23T10:37:23.128339Z",
     "iopub.status.busy": "2022-01-23T10:37:23.12811Z",
     "iopub.status.idle": "2022-01-23T10:37:23.14502Z",
     "shell.execute_reply": "2022-01-23T10:37:23.144257Z",
     "shell.execute_reply.started": "2022-01-23T10:37:23.12831Z"
    },
    "id": "mSP0LnLA3syg"
   },
   "outputs": [],
   "source": [
    "for number in range(0,4):\n",
    "    if number == 3:\n",
    "        break\n",
    "else:\n",
    "    print(\"No items left.\")\n",
    "\n",
    "print(\"Out of For loop\")"
   ]
  },
  {
   "cell_type": "code",
   "execution_count": null,
   "metadata": {
    "id": "2lL_fkHlw0zC"
   },
   "outputs": [],
   "source": []
  },
  {
   "cell_type": "markdown",
   "metadata": {
    "id": "-7Y8J2wWSN01"
   },
   "source": [
    "# Functions"
   ]
  },
  {
   "cell_type": "markdown",
   "metadata": {
    "id": "18aa14dc"
   },
   "source": [
    "**So what is a function?**\n",
    "\n",
    "* A function groups a set of statements together to run the statements more than once. \n",
    "* It allows us to specify parameters that can serve as inputs to the functions.\n",
    "* Functions allow us to reuse the code instead of writing the code again and again. \n",
    "* If you recall strings and lists, remember that len() function is used to find the length of a string. \n",
    "* Since checking the length of a sequence is a common task, you would want to write a function that can do this repeatedly at command.\n",
    "* Function is one of the most basic levels of reusing code in Python, and it will also allow us to start thinking of program design."
   ]
  },
  {
   "cell_type": "markdown",
   "metadata": {
    "id": "4810b1bb"
   },
   "source": [
    "## def Statements\n",
    "\n",
    "Now, let us learn how to build a function and what is the syntax in Python.\n",
    "\n",
    "The syntax for def statements will be in the following form:"
   ]
  },
  {
   "cell_type": "code",
   "execution_count": null,
   "metadata": {
    "id": "3f59ec08"
   },
   "outputs": [],
   "source": [
    "# Skeleton for function defnition. Functions use indentation to identify the code that is part of function\n",
    "def name_of_function(arg1,arg2):\n",
    "    '''\n",
    "    This is where the function's Document String (doc-string) goes\n",
    "    '''\n",
    "    # Do stuff here\n",
    "    #return desired result"
   ]
  },
  {
   "cell_type": "markdown",
   "metadata": {
    "id": "1a863642"
   },
   "source": [
    "* We begin with def then a space followed by the name of the function. \n",
    "* Try to keep names relevant and simple as possible, for example, len() is a good name for a length() function. \n",
    "* Also be careful with names, you wouldn't want to call a function the same name as a [built-in function in Python](https://docs.python.org/2/library/functions.html) (such as len).\n",
    "\n",
    "* Next, comes the number of arguments separated by a comma within a pair of parenthesis which acts as input to the defined function,  reference them and the function definition with a colon.  \n",
    "\n",
    "* Here comes the important step to indent to begin the code inside the defined functions properly. \n",
    "\n",
    "After all this, you can begin writing the code you wish to execute.\n",
    "\n",
    "The best way to learn functions is by going through examples. So let's try to analyze and understand examples that relate back to the various objects and data structures we learned."
   ]
  },
  {
   "cell_type": "markdown",
   "metadata": {
    "id": "381383e9"
   },
   "source": [
    "## Example 1: Simple print hello function"
   ]
  },
  {
   "cell_type": "code",
   "execution_count": null,
   "metadata": {
    "id": "bbc03e70"
   },
   "outputs": [],
   "source": [
    "# Define a function to print hello\n",
    "def say_hello():\n",
    "    print('hello')"
   ]
  },
  {
   "cell_type": "code",
   "execution_count": null,
   "metadata": {
    "id": "d5d8c4af",
    "outputId": "ba24177c-a149-4937-d58f-f3993ccca2af"
   },
   "outputs": [
    {
     "name": "stdout",
     "output_type": "stream",
     "text": [
      "hello\n"
     ]
    }
   ],
   "source": [
    "# call the function\n",
    "say_hello()"
   ]
  },
  {
   "cell_type": "markdown",
   "metadata": {
    "id": "c36d3278"
   },
   "source": [
    "### Example 2: A simple greeting function\n",
    "Let's write a function that greets people with their name."
   ]
  },
  {
   "cell_type": "code",
   "execution_count": null,
   "metadata": {
    "id": "26a4f5bd"
   },
   "outputs": [],
   "source": [
    "# Define a funtion that takes input parameters\n",
    "def greeting(name):\n",
    "    print('Hello %d' %name)"
   ]
  },
  {
   "cell_type": "code",
   "execution_count": null,
   "metadata": {
    "colab": {
     "base_uri": "https://localhost:8080/"
    },
    "id": "16bed5e6",
    "outputId": "48fbbced-5125-4b95-dd25-b30e9d151fbc"
   },
   "outputs": [
    {
     "name": "stdout",
     "output_type": "stream",
     "text": [
      "Hello 90\n"
     ]
    }
   ],
   "source": [
    "x = greeting(90)\n"
   ]
  },
  {
   "cell_type": "code",
   "execution_count": null,
   "metadata": {
    "id": "OkN8VqoQk_A0"
   },
   "outputs": [],
   "source": [
    "x"
   ]
  },
  {
   "cell_type": "markdown",
   "metadata": {
    "id": "45ea2a7b"
   },
   "source": [
    "## Using return\n",
    "Let's see some examples that use a return statement. Return allows a function to \"return\" a result that can then be stored as a variable, or used in whatever manner a user wants.\n",
    "\n",
    "### Example 3: Addition function"
   ]
  },
  {
   "cell_type": "code",
   "execution_count": null,
   "metadata": {
    "id": "1723411d"
   },
   "outputs": [],
   "source": [
    "# define a function that takes input parameters and returns output\n",
    "def add_num(num1,num2):\n",
    "    return num1+num2"
   ]
  },
  {
   "cell_type": "code",
   "execution_count": null,
   "metadata": {
    "colab": {
     "base_uri": "https://localhost:8080/"
    },
    "id": "d66d4ae6",
    "outputId": "1bc29ce9-8548-4dfc-c66f-b9fb79dd190d"
   },
   "outputs": [
    {
     "data": {
      "text/plain": [
       "9"
      ]
     },
     "execution_count": 15,
     "metadata": {},
     "output_type": "execute_result"
    }
   ],
   "source": [
    "# Invoke the function\n",
    "add_num(4,5)"
   ]
  },
  {
   "cell_type": "code",
   "execution_count": null,
   "metadata": {
    "colab": {
     "base_uri": "https://localhost:8080/"
    },
    "id": "e7f19b22",
    "outputId": "9c3ce96e-5c22-4fc4-90e3-ef5cdad1f666"
   },
   "outputs": [
    {
     "data": {
      "text/plain": [
       "9"
      ]
     },
     "execution_count": 16,
     "metadata": {},
     "output_type": "execute_result"
    }
   ],
   "source": [
    "# Can also save as variable due to return\n",
    "result = add_num(4,5)\n",
    "result"
   ]
  },
  {
   "cell_type": "code",
   "execution_count": null,
   "metadata": {
    "colab": {
     "base_uri": "https://localhost:8080/"
    },
    "id": "64f9f77b",
    "outputId": "edfcb96f-20ac-4b5b-d2fe-e310f974d571"
   },
   "outputs": [
    {
     "name": "stdout",
     "output_type": "stream",
     "text": [
      "9\n"
     ]
    }
   ],
   "source": [
    "print(result)"
   ]
  },
  {
   "cell_type": "code",
   "execution_count": null,
   "metadata": {
    "colab": {
     "base_uri": "https://localhost:8080/",
     "height": 286
    },
    "id": "1897bfcb",
    "outputId": "e9b7be7f-c151-42c7-a78a-c40565d9be79"
   },
   "outputs": [
    {
     "ename": "TypeError",
     "evalue": "ignored",
     "output_type": "error",
     "traceback": [
      "\u001b[0;31m---------------------------------------------------------------------------\u001b[0m",
      "\u001b[0;31mTypeError\u001b[0m                                 Traceback (most recent call last)",
      "\u001b[0;32m<ipython-input-18-a0c623c190dd>\u001b[0m in \u001b[0;36m<module>\u001b[0;34m()\u001b[0m\n\u001b[1;32m      1\u001b[0m \u001b[0;31m# What if we inter two different things\u001b[0m\u001b[0;34m\u001b[0m\u001b[0;34m\u001b[0m\u001b[0;34m\u001b[0m\u001b[0m\n\u001b[1;32m      2\u001b[0m \u001b[0;34m\u001b[0m\u001b[0m\n\u001b[0;32m----> 3\u001b[0;31m \u001b[0mprint\u001b[0m\u001b[0;34m(\u001b[0m\u001b[0madd_num\u001b[0m\u001b[0;34m(\u001b[0m\u001b[0;34m'one'\u001b[0m\u001b[0;34m,\u001b[0m\u001b[0;36m1\u001b[0m\u001b[0;34m)\u001b[0m\u001b[0;34m)\u001b[0m\u001b[0;34m\u001b[0m\u001b[0;34m\u001b[0m\u001b[0m\n\u001b[0m",
      "\u001b[0;32m<ipython-input-14-808d405cf6c4>\u001b[0m in \u001b[0;36madd_num\u001b[0;34m(num1, num2)\u001b[0m\n\u001b[1;32m      1\u001b[0m \u001b[0;31m# define a function that takes input parameters and returns output\u001b[0m\u001b[0;34m\u001b[0m\u001b[0;34m\u001b[0m\u001b[0;34m\u001b[0m\u001b[0m\n\u001b[1;32m      2\u001b[0m \u001b[0;32mdef\u001b[0m \u001b[0madd_num\u001b[0m\u001b[0;34m(\u001b[0m\u001b[0mnum1\u001b[0m\u001b[0;34m,\u001b[0m\u001b[0mnum2\u001b[0m\u001b[0;34m)\u001b[0m\u001b[0;34m:\u001b[0m\u001b[0;34m\u001b[0m\u001b[0;34m\u001b[0m\u001b[0m\n\u001b[0;32m----> 3\u001b[0;31m     \u001b[0;32mreturn\u001b[0m \u001b[0mnum1\u001b[0m\u001b[0;34m+\u001b[0m\u001b[0mnum2\u001b[0m\u001b[0;34m\u001b[0m\u001b[0;34m\u001b[0m\u001b[0m\n\u001b[0m",
      "\u001b[0;31mTypeError\u001b[0m: can only concatenate str (not \"int\") to str"
     ]
    }
   ],
   "source": [
    "# What if we inter two different things\n",
    "\n",
    "print(add_num('one',1))"
   ]
  },
  {
   "cell_type": "markdown",
   "metadata": {
    "id": "6fa49629"
   },
   "source": [
    "In Python we don't declare variable types, this function could be used to add numbers or sequences together! Going forward, We'll learn about adding in checks to make sure a user puts in the correct arguments into a function.\n",
    "\n",
    "Let's also start using *break*,*continue*, and *pass* statements in our code. We introduced these during the while lecture."
   ]
  },
  {
   "cell_type": "markdown",
   "metadata": {
    "id": "8989b401"
   },
   "source": [
    "### Break\n",
    "\n",
    "The break statement terminates the loop containing it. Control of the program flows to the statement immediately after the body of the loop.\n",
    "\n",
    "If break statement is inside a nested loop (loop inside another loop), break will terminate the innermost loop."
   ]
  },
  {
   "cell_type": "code",
   "execution_count": null,
   "metadata": {
    "id": "5662f2b5"
   },
   "outputs": [],
   "source": [
    "# define a function to check if the given number is prime. We are using break to stop the loop if the number is having atleast one factor\n",
    "def is_prime(num):\n",
    "    '''\n",
    "    Naive method of checking for primes. \n",
    "    '''\n",
    "    for n in range(2,num):\n",
    "        if num % n == 0:\n",
    "            print('not prime')\n",
    "            break\n",
    "    else: # If never mod zero, then prime\n",
    "        print('prime')"
   ]
  },
  {
   "cell_type": "code",
   "execution_count": null,
   "metadata": {
    "colab": {
     "base_uri": "https://localhost:8080/"
    },
    "id": "2b31ad28",
    "outputId": "1423fae1-2ce0-42f3-a341-d46699389102"
   },
   "outputs": [
    {
     "name": "stdout",
     "output_type": "stream",
     "text": [
      "prime\n"
     ]
    }
   ],
   "source": [
    "# invoke the prime function to check if 17 is prime\n",
    "is_prime(17)"
   ]
  },
  {
   "cell_type": "markdown",
   "metadata": {
    "id": "82aeb38e"
   },
   "source": [
    "### continue\n",
    "The continue statement is used to skip the rest of the code inside a loop for the current iteration only. Loop does not terminate but continues on with the next iteration."
   ]
  },
  {
   "cell_type": "code",
   "execution_count": null,
   "metadata": {
    "id": "b9e6194b",
    "outputId": "bbc2c9bd-a921-4d2c-acdb-113bc5610a5f"
   },
   "outputs": [
    {
     "name": "stdout",
     "output_type": "stream",
     "text": [
      "s\n",
      "t\n",
      "r\n",
      "n\n",
      "g\n",
      "The end\n"
     ]
    }
   ],
   "source": [
    "# Continue statement breaks the loop for current iteration and transfers the control to loop for next iteration\n",
    "for val in \"string\":\n",
    "    if val == \"i\":\n",
    "        continue\n",
    "    print(val)\n",
    "\n",
    "print(\"The end\")"
   ]
  },
  {
   "cell_type": "markdown",
   "metadata": {
    "id": "RGbOaEENnGtg"
   },
   "source": [
    "#### Note:\n",
    "- Break - terminates complete loop\n",
    "- Continue - terminates current iteration of loop and trnasfers the control to loop to continue with next iteration"
   ]
  },
  {
   "cell_type": "markdown",
   "metadata": {
    "id": "T4XzSWfzKTKM"
   },
   "source": [
    "## Week 1 Session 3 - Advanced Python\n",
    "* **Branching and looping - done**\n",
    "* **Functions- done** \n",
    "* Lambda\n",
    "* MapReduce\n",
    "* Broadcasting"
   ]
  },
  {
   "cell_type": "markdown",
   "metadata": {
    "id": "af965aa7"
   },
   "source": [
    "## lambda expression\n",
    "\n",
    "One of Pythons most useful (and for beginners, confusing) tools is the lambda expression. lambda expressions allow us to create \"anonymous\" functions. This basically means we can quickly make ad-hoc functions without needing to properly define a function using def.\n",
    "\n",
    "Function objects returned by running lambda expressions work exactly the same as those created and assigned by defs. There is key difference that makes lambda useful in specialized roles:\n",
    "\n",
    "**lambda's body is a single expression, not a block of statements.**\n",
    "\n",
    "* The lambda's body is similar to what we would put in a def body's return statement. We simply type the result as an expression instead of explicitly returning it. Because it is limited to an expression, a lambda is less general that a def. We can only squeeze design, to limit program nesting. lambda is designed for coding simple functions, and def handles the larger tasks."
   ]
  },
  {
   "cell_type": "markdown",
   "metadata": {
    "id": "9eceba79"
   },
   "source": [
    "Lets slowly break down a lambda expression by deconstructing a function:"
   ]
  },
  {
   "cell_type": "code",
   "execution_count": null,
   "metadata": {
    "id": "a6c50a3c"
   },
   "outputs": [],
   "source": [
    "# define a function that takes a number as input and prints square the number\n",
    "def square(num):\n",
    "    result = num**2\n",
    "    return result"
   ]
  },
  {
   "cell_type": "code",
   "execution_count": null,
   "metadata": {
    "colab": {
     "base_uri": "https://localhost:8080/"
    },
    "id": "f6c31d43",
    "outputId": "92eae0f3-f4b4-4bf2-9872-2a36d304eb4f"
   },
   "outputs": [
    {
     "data": {
      "text/plain": [
       "36"
      ]
     },
     "execution_count": 16,
     "metadata": {},
     "output_type": "execute_result"
    }
   ],
   "source": [
    "# call square function\n",
    "square(6)"
   ]
  },
  {
   "cell_type": "markdown",
   "metadata": {
    "id": "14c978d7"
   },
   "source": [
    "We could simplify it:"
   ]
  },
  {
   "cell_type": "code",
   "execution_count": null,
   "metadata": {
    "id": "2d55b5c5"
   },
   "outputs": [],
   "source": [
    "def square(num):\n",
    "    return num**2"
   ]
  },
  {
   "cell_type": "code",
   "execution_count": null,
   "metadata": {
    "id": "4453c224",
    "outputId": "3377fff3-e69c-41c1-bd2f-dc34bf4e5803"
   },
   "outputs": [
    {
     "data": {
      "text/plain": [
       "25"
      ]
     },
     "execution_count": 218,
     "metadata": {},
     "output_type": "execute_result"
    }
   ],
   "source": [
    "square(5)"
   ]
  },
  {
   "cell_type": "markdown",
   "metadata": {
    "id": "dc4ea3ce"
   },
   "source": [
    "We could actually even write this all on one line."
   ]
  },
  {
   "cell_type": "code",
   "execution_count": null,
   "metadata": {
    "id": "c249d32a"
   },
   "outputs": [],
   "source": [
    "def square(num): return num**2"
   ]
  },
  {
   "cell_type": "code",
   "execution_count": null,
   "metadata": {
    "id": "e1807a18",
    "outputId": "f14306fc-0d95-4764-d979-a37e580d7b83"
   },
   "outputs": [
    {
     "data": {
      "text/plain": [
       "36"
      ]
     },
     "execution_count": 220,
     "metadata": {},
     "output_type": "execute_result"
    }
   ],
   "source": [
    "square(6)"
   ]
  },
  {
   "cell_type": "markdown",
   "metadata": {
    "id": "757e8011"
   },
   "source": [
    "This is the form a function that a lambda expression intends to replicate. A lambda expression can then be written as:"
   ]
  },
  {
   "cell_type": "code",
   "execution_count": null,
   "metadata": {
    "id": "a53b4893",
    "outputId": "5fc91978-e619-488b-9baf-94ea60c16ad6"
   },
   "outputs": [
    {
     "data": {
      "text/plain": [
       "<function __main__.<lambda>(num)>"
      ]
     },
     "execution_count": 221,
     "metadata": {},
     "output_type": "execute_result"
    }
   ],
   "source": [
    "lambda num: num ** 2"
   ]
  },
  {
   "cell_type": "code",
   "execution_count": null,
   "metadata": {
    "id": "66ab58af"
   },
   "outputs": [],
   "source": [
    "# You wouldn't usually assign a name to a lambda expression, this is just for demonstration!\n",
    "square = lambda num: num **2"
   ]
  },
  {
   "cell_type": "code",
   "execution_count": null,
   "metadata": {
    "id": "77bdfcbf",
    "outputId": "4b5e479e-9eee-42d3-ff73-50f5138c2fc9"
   },
   "outputs": [
    {
     "data": {
      "text/plain": [
       "4"
      ]
     },
     "execution_count": 223,
     "metadata": {},
     "output_type": "execute_result"
    }
   ],
   "source": [
    "square(2)"
   ]
  },
  {
   "cell_type": "markdown",
   "metadata": {
    "id": "086665b9"
   },
   "source": [
    "**So why would use this?**\n",
    "\n",
    "Many function calls need a function passed in, such as map and filter. Often you only need to use the function you are passing in once, so instead of formally defining it, you just use the lambda expression."
   ]
  },
  {
   "cell_type": "markdown",
   "metadata": {
    "id": "f1_wpsSFK1gD"
   },
   "source": [
    "\n",
    "## Week 1 Session 3 - Advanced Python\n",
    "* **Branching and looping - done**\n",
    "* **Functions- done** \n",
    "* **Lambda- done**\n",
    "* MapReduce\n",
    "* Broadcasting"
   ]
  },
  {
   "cell_type": "markdown",
   "metadata": {
    "id": "fa617ca1"
   },
   "source": [
    "# Map Function"
   ]
  },
  {
   "cell_type": "markdown",
   "metadata": {
    "id": "d98c29e4"
   },
   "source": [
    "The **map** function allows you to \"map\" a function to an iterable object. That is to say you can quickly call the same function to every item in an iterable, such as a list. Map returns an iterable as output but we can cast it as any of the sequence like list, tuple and set. For example: \n",
    "\n",
    "map(funtion,sequence)"
   ]
  },
  {
   "cell_type": "code",
   "execution_count": null,
   "metadata": {
    "id": "59f4c589"
   },
   "outputs": [],
   "source": [
    "# Square function that takes a number and returns it square\n",
    "def square(num):\n",
    "    return num**2"
   ]
  },
  {
   "cell_type": "code",
   "execution_count": null,
   "metadata": {
    "id": "f8611508"
   },
   "outputs": [],
   "source": [
    "my_nums = [1,2,3,4,5]"
   ]
  },
  {
   "cell_type": "code",
   "execution_count": null,
   "metadata": {
    "colab": {
     "base_uri": "https://localhost:8080/"
    },
    "id": "aafe8c20",
    "outputId": "70b206dd-8d88-4153-8d61-dcdb093d51a5"
   },
   "outputs": [
    {
     "data": {
      "text/plain": [
       "<map at 0x7fba094dba10>"
      ]
     },
     "execution_count": 3,
     "metadata": {},
     "output_type": "execute_result"
    }
   ],
   "source": [
    "map(square,my_nums)"
   ]
  },
  {
   "cell_type": "code",
   "execution_count": null,
   "metadata": {
    "colab": {
     "base_uri": "https://localhost:8080/"
    },
    "id": "6378dd45",
    "outputId": "e960d871-341e-4cf9-972e-517e97b6aedc"
   },
   "outputs": [
    {
     "data": {
      "text/plain": [
       "[1, 4, 9, 16, 25]"
      ]
     },
     "execution_count": 4,
     "metadata": {},
     "output_type": "execute_result"
    }
   ],
   "source": [
    "# To get the results, either iterate through map() \n",
    "# or just cast to a list\n",
    "\n",
    "list(map(square,my_nums))"
   ]
  },
  {
   "cell_type": "code",
   "execution_count": null,
   "metadata": {
    "colab": {
     "base_uri": "https://localhost:8080/"
    },
    "id": "7b354f1b",
    "outputId": "7d92d99e-ffd4-46d6-ccba-79955c311e39"
   },
   "outputs": [
    {
     "data": {
      "text/plain": [
       "[1, 4, 9, 16, 25]"
      ]
     },
     "execution_count": 5,
     "metadata": {},
     "output_type": "execute_result"
    }
   ],
   "source": [
    "# As mentioned earlier we can use lambda expressions as function and get the same output.\n",
    "list(map(lambda num: num ** 2, my_nums))"
   ]
  },
  {
   "cell_type": "code",
   "execution_count": null,
   "metadata": {
    "id": "1a21f1d1"
   },
   "outputs": [],
   "source": [
    "# Example 2: More complex\n",
    "# splicer function takes a string input and returns even when string length is even else it returns first character of string\n",
    "def splicer(mystring):\n",
    "    if len(mystring) % 2 == 0:\n",
    "        return 'even'\n",
    "    else:\n",
    "        return mystring[0]"
   ]
  },
  {
   "cell_type": "code",
   "execution_count": null,
   "metadata": {
    "id": "df858cd7"
   },
   "outputs": [],
   "source": [
    "mynames = ['John','Cindy','Sarah','Kelly','Mike']"
   ]
  },
  {
   "cell_type": "code",
   "execution_count": null,
   "metadata": {
    "colab": {
     "base_uri": "https://localhost:8080/"
    },
    "id": "a9ec6ad5",
    "outputId": "f7eac63d-1ec7-4630-ceba-a49aa63efabc"
   },
   "outputs": [
    {
     "data": {
      "text/plain": [
       "['even', 'C', 'S', 'K', 'even']"
      ]
     },
     "execution_count": 19,
     "metadata": {},
     "output_type": "execute_result"
    }
   ],
   "source": [
    "list(map(splicer,mynames))"
   ]
  },
  {
   "cell_type": "markdown",
   "metadata": {
    "id": "hkZXRmSMq44F"
   },
   "source": [
    "#### Note:\n",
    "Map functions have one element as output for each element provided as input. In other words the length of input and output sequences will be the same."
   ]
  },
  {
   "cell_type": "markdown",
   "metadata": {
    "id": "rZhzSvflLDqN"
   },
   "source": [
    "## Week 1 Session 3 - Advanced Python\n",
    "\n",
    "* **Branching and looping - done**\n",
    "* **Functions- done** \n",
    "* **Lambda- done**\n",
    "* **MapReduce- done**\n",
    "* Broadcasting"
   ]
  },
  {
   "cell_type": "markdown",
   "metadata": {
    "id": "347546a0"
   },
   "source": [
    "## filter function\n",
    "\n",
    "The filter function returns an iterator yielding those items of iterable for which function(item) is true. Meaning you need to filter by a function that returns either True or False. Then passing that into filter (along with your iterable) and you will get back only the results that would return True when passed to the function.\n",
    "\n",
    "filter(function,sequence)"
   ]
  },
  {
   "cell_type": "code",
   "execution_count": null,
   "metadata": {
    "id": "84eb492d"
   },
   "outputs": [],
   "source": [
    "# funtion takes a number as input and returns the number if number is even\n",
    "def check_even(num):\n",
    "    return num % 2 == 0 "
   ]
  },
  {
   "cell_type": "code",
   "execution_count": null,
   "metadata": {
    "id": "ee7c9922"
   },
   "outputs": [],
   "source": [
    "nums = [0,1,2,3,4,5,6,7,8,9,10]"
   ]
  },
  {
   "cell_type": "code",
   "execution_count": null,
   "metadata": {
    "colab": {
     "base_uri": "https://localhost:8080/"
    },
    "id": "fffd97e6",
    "outputId": "fc7f95a7-7272-443a-8358-ac3ae1170bf7"
   },
   "outputs": [
    {
     "data": {
      "text/plain": [
       "<filter at 0x7fe8d1f731d0>"
      ]
     },
     "execution_count": 23,
     "metadata": {},
     "output_type": "execute_result"
    }
   ],
   "source": [
    "filter(check_even,nums)"
   ]
  },
  {
   "cell_type": "code",
   "execution_count": null,
   "metadata": {
    "colab": {
     "base_uri": "https://localhost:8080/"
    },
    "id": "fdab116e",
    "outputId": "135f545a-a112-462c-cec6-a77de35eb40a"
   },
   "outputs": [
    {
     "data": {
      "text/plain": [
       "[0, 2, 4, 6, 8, 10]"
      ]
     },
     "execution_count": 24,
     "metadata": {},
     "output_type": "execute_result"
    }
   ],
   "source": [
    "list(filter(check_even,nums))"
   ]
  },
  {
   "cell_type": "code",
   "execution_count": null,
   "metadata": {
    "colab": {
     "base_uri": "https://localhost:8080/"
    },
    "id": "99bdd0b1",
    "outputId": "a4e4c9e6-29e7-47e7-ea19-18cebbc293b5"
   },
   "outputs": [
    {
     "data": {
      "text/plain": [
       "[0, 2, 4, 6, 8, 10]"
      ]
     },
     "execution_count": 25,
     "metadata": {},
     "output_type": "execute_result"
    }
   ],
   "source": [
    "# Implementing the same using lambda expressions\n",
    "list(filter(lambda n: n % 2 == 0,nums))"
   ]
  },
  {
   "cell_type": "markdown",
   "metadata": {
    "id": "ePxGztMcsSxK"
   },
   "source": [
    "#### Note:\n",
    "Filter functions can have fewer elements in output sequence when compared to input sequence. In other words the length of input is greater than that of output sequences length."
   ]
  },
  {
   "cell_type": "code",
   "execution_count": null,
   "metadata": {
    "id": "2cc9b5ed",
    "outputId": "eb80226f-a044-4fef-a087-94ef3fe78bb3"
   },
   "outputs": [
    {
     "data": {
      "text/plain": [
       "7"
      ]
     },
     "execution_count": 226,
     "metadata": {},
     "output_type": "execute_result"
    }
   ],
   "source": [
    "# Example summary\n",
    "ssum = lambda x,y : x + y\n",
    "ssum(3,4)"
   ]
  },
  {
   "cell_type": "markdown",
   "metadata": {
    "id": "I36pxhJ0LKFy"
   },
   "source": [
    "## Broadcasting\n",
    "\n",
    "NumPy arrays differ from normal Python lists because of their ability to broadcast.\n",
    "\n",
    "With lists, you can only reassign parts of a list with new parts of the same size and shape. That is, if you wanted to replace the first 5 elements in a list with a new value, you would have to pass in a new 5 element list. \n",
    "\n",
    "With NumPy arrays, you can broadcast a single value across a larger set of values: known as broadcasting"
   ]
  },
  {
   "cell_type": "code",
   "execution_count": null,
   "metadata": {
    "id": "z8bQ-IclNovT"
   },
   "outputs": [],
   "source": [
    "import numpy as np"
   ]
  },
  {
   "cell_type": "code",
   "execution_count": null,
   "metadata": {
    "id": "IZ61H5JsNJTD"
   },
   "outputs": [],
   "source": [
    "x=np.array([1,2,3,4,5,6,7,8,9,10,11,12,13,14,15,16,17,257,128,256])"
   ]
  },
  {
   "cell_type": "code",
   "execution_count": null,
   "metadata": {
    "colab": {
     "base_uri": "https://localhost:8080/"
    },
    "id": "p1WgNxzPPtKf",
    "outputId": "073217e1-45d8-4881-cac3-ccb9f7fcf6c6"
   },
   "outputs": [
    {
     "data": {
      "text/plain": [
       "array([ 10,  10,  10,  10,  10,   6,   7,   8,   9,  10,  11,  12,  13,\n",
       "        14,  15,  16,  17, 257, 128, 256])"
      ]
     },
     "execution_count": 12,
     "metadata": {},
     "output_type": "execute_result"
    }
   ],
   "source": [
    "# Assign 10 to elements from 0 to 5(Excluded)\n",
    "x[0:5] = 10\n",
    "x"
   ]
  },
  {
   "cell_type": "code",
   "execution_count": null,
   "metadata": {
    "colab": {
     "base_uri": "https://localhost:8080/"
    },
    "id": "aB3MPnGBPtKf",
    "outputId": "b469301a-faaa-4e35-fc24-1ee047de16f9"
   },
   "outputs": [
    {
     "data": {
      "text/plain": [
       "array([90, 90, 90, 90, 90, 90, 90, 90, 90, 90, 90, 90, 90, 90, 90, 90, 90,\n",
       "       90, 90, 90])"
      ]
     },
     "execution_count": 13,
     "metadata": {},
     "output_type": "execute_result"
    }
   ],
   "source": [
    "# if you want to assign all the value same number so,\n",
    "\n",
    "x[:] = 90\n",
    "x"
   ]
  },
  {
   "cell_type": "markdown",
   "metadata": {
    "id": "4u9cC_vaOx9V"
   },
   "source": [
    "![image.png](data:image/png;base64,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)"
   ]
  },
  {
   "cell_type": "code",
   "execution_count": null,
   "metadata": {
    "colab": {
     "base_uri": "https://localhost:8080/"
    },
    "id": "ZBd6i5sdNy8D",
    "outputId": "c1284f2b-3c7f-4e68-e62b-74eeced18b08"
   },
   "outputs": [
    {
     "name": "stdout",
     "output_type": "stream",
     "text": [
      "[17 11 19]\n",
      "3\n"
     ]
    }
   ],
   "source": [
    "#application of broadcasting\n",
    "a = np.array([17, 11, 19]) # 1x3 Dimension array\n",
    "print(a)\n",
    "b = 3 \n",
    "print(b)\n",
    " "
   ]
  },
  {
   "cell_type": "code",
   "execution_count": null,
   "metadata": {
    "colab": {
     "base_uri": "https://localhost:8080/"
    },
    "id": "VjLp5XXURdms",
    "outputId": "38391760-f62f-450b-95b3-ea88dcc4f876"
   },
   "outputs": [
    {
     "name": "stdout",
     "output_type": "stream",
     "text": [
      "[20 14 22]\n"
     ]
    }
   ],
   "source": [
    "\n",
    "c = a + b\n",
    "print(c)"
   ]
  },
  {
   "cell_type": "markdown",
   "metadata": {
    "id": "0bYZ3VhNShMm"
   },
   "source": [
    "## Week 1 Session 3 - Advanced Python completed\n",
    "* **Branching and looping - done**\n",
    "* **Functions- done** \n",
    "* **Lambda-done**\n",
    "* **MapReduce-done**\n",
    "* **Broadcasting- done**"
   ]
  }
 ],
 "metadata": {
  "colab": {
   "name": "Week 1 session 3.ipynb",
   "provenance": []
  },
  "kernelspec": {
   "display_name": "Python 3 (ipykernel)",
   "language": "python",
   "name": "python3"
  },
  "language_info": {
   "codemirror_mode": {
    "name": "ipython",
    "version": 3
   },
   "file_extension": ".py",
   "mimetype": "text/x-python",
   "name": "python",
   "nbconvert_exporter": "python",
   "pygments_lexer": "ipython3",
   "version": "3.9.7"
  }
 },
 "nbformat": 4,
 "nbformat_minor": 1
}
