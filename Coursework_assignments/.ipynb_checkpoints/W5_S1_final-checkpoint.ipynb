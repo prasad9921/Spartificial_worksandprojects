{
 "cells": [
  {
   "cell_type": "markdown",
   "metadata": {
    "id": "hRTa3Ee15WsJ"
   },
   "source": [
    "# <center> Transfer learning and fine-tuning"
   ]
  },
  {
   "cell_type": "markdown",
   "metadata": {
    "id": "2X4KyhORdSeO"
   },
   "source": [
    "In this tutorial, you will learn how to classify images of cats and dogs by using transfer learning from a pre-trained network.\n",
    "\n",
    "A pre-trained model is a saved network that was previously trained on a large dataset, typically on a large-scale image-classification task. You either use the pretrained model as is or use transfer learning to customize this model to a given task.\n",
    "\n",
    "The intuition behind transfer learning for image classification is that if a model is trained on a large and general enough dataset, this model will effectively serve as a generic model of the visual world. You can then take advantage of these learned feature maps without having to start from scratch by training a large model on a large dataset.\n",
    "\n",
    "An example from my Ph.D. work: https://ietresearch.onlinelibrary.wiley.com/doi/full/10.1049/iet-ipr.2019.0404 \n",
    "\n",
    "Transfer learning paper I used: https://arxiv.org/pdf/1703.08493v2.pdf \n",
    "\n",
    "My dataset download link: https://sites.google.com/view/aditipanda/plain-carbon-steel-microstructure-image-library\n",
    "\n",
    "In this notebook, you will try two ways to customize a pretrained model:\n",
    "\n",
    "1. Feature Extraction: Use the representations learned by a previous network to extract meaningful features from new samples. You simply add a new classifier, which will be trained from scratch, on top of the pretrained model so that you can repurpose the feature maps learned previously for the dataset.\n",
    "\n",
    " You do not need to (re)train the entire model. The base convolutional network already contains features that are generically useful for classifying pictures. However, the final, classification part of the pretrained model is specific to the original classification task, and subsequently specific to the set of classes on which the model was trained.\n",
    "\n",
    "1. Fine-Tuning: Unfreeze a few of the top layers of a frozen model base and jointly train both the newly-added classifier layers and the last layers of the base model. This allows us to \"fine-tune\" the higher-order feature representations in the base model in order to make them more relevant for the specific task.\n",
    "\n",
    "You will follow the general machine learning workflow.\n",
    "\n",
    "1. Examine and understand the data\n",
    "1. Build an input pipeline, in this case using Keras ImageDataGenerator\n",
    "1. Compose the model\n",
    "   * Load in the pretrained base model (and pretrained weights)\n",
    "   * Stack the classification layers on top\n",
    "1. Train the model\n",
    "1. Evaluate model\n"
   ]
  },
  {
   "cell_type": "code",
   "execution_count": null,
   "metadata": {
    "execution": {
     "iopub.execute_input": "2022-05-15T04:53:09.098551Z",
     "iopub.status.busy": "2022-05-15T04:53:09.098163Z",
     "iopub.status.idle": "2022-05-15T04:53:10.942472Z",
     "shell.execute_reply": "2022-05-15T04:53:10.941622Z",
     "shell.execute_reply.started": "2022-05-15T04:53:09.098446Z"
    },
    "id": "TqOt6Sv7AsMi"
   },
   "outputs": [],
   "source": [
    "import matplotlib.pyplot as plt\n",
    "import numpy as np\n",
    "import os\n",
    "import tensorflow as tf"
   ]
  },
  {
   "cell_type": "markdown",
   "metadata": {
    "id": "v77rlkCKW0IJ"
   },
   "source": [
    "## Data preprocessing"
   ]
  },
  {
   "cell_type": "markdown",
   "metadata": {
    "id": "0GoKGm1duzgk"
   },
   "source": [
    "### Data download"
   ]
  },
  {
   "cell_type": "markdown",
   "metadata": {
    "id": "vHP9qMJxt2oz"
   },
   "source": [
    "In this tutorial, you will use a dataset containing several thousand images of cats and dogs.\n",
    "\n",
    "If you are using kaggle notebook, then from Add data option, go to search url option and paste https://www.kaggle.com/datasets/d4rklucif3r/cat-and-dogs.\n",
    "\n",
    "Import data"
   ]
  },
  {
   "cell_type": "code",
   "execution_count": null,
   "metadata": {
    "execution": {
     "iopub.execute_input": "2022-05-15T04:53:19.345333Z",
     "iopub.status.busy": "2022-05-15T04:53:19.34452Z",
     "iopub.status.idle": "2022-05-15T04:53:23.082354Z",
     "shell.execute_reply": "2022-05-15T04:53:23.08053Z",
     "shell.execute_reply.started": "2022-05-15T04:53:19.345288Z"
    },
    "id": "ro4oYaEmxe4r"
   },
   "outputs": [],
   "source": [
    "# getting path to our root directory\n",
    "data_dir = '../input/cat-and-dogs/dataset'\n",
    "\n",
    "# getting path to train and test set using os.path\n",
    "train_dir = os.path.join(data_dir, \"training_set\")\n",
    "test_dir = os.path.join(data_dir, \"test_set\")\n",
    "\n",
    "\n",
    "BATCH_SIZE = 32\n",
    "IMG_SIZE = (160, 160)\n",
    "\n",
    "# we will create a tf.data.Dataset for training and validation using the tf.keras.utils.image_dataset_from_directory utility. \n",
    "# read more about it here https://www.tensorflow.org/api_docs/python/tf/keras/utils/image_dataset_from_directory\n",
    "# converting our dataset into tf.data.Dataset object will provide us many advantages and convenience for further data processing and usability\n",
    "# read more about tf.keras.Dataset here https://www.tensorflow.org/api_docs/python/tf/data/Dataset\n",
    "train_dataset = tf.keras.utils.image_dataset_from_directory(train_dir,\n",
    "                                                            shuffle=True,\n",
    "                                                            batch_size=BATCH_SIZE,\n",
    "                                                            image_size=IMG_SIZE)\n",
    "\n",
    "test_dataset = tf.keras.utils.image_dataset_from_directory(test_dir,\n",
    "                                                             shuffle=True,\n",
    "                                                             batch_size=BATCH_SIZE,\n",
    "                                                             image_size=IMG_SIZE)"
   ]
  },
  {
   "cell_type": "markdown",
   "metadata": {
    "id": "yO1Q2JaW5sIy"
   },
   "source": [
    "### Show the first nine images and labels from the training set:"
   ]
  },
  {
   "cell_type": "code",
   "execution_count": null,
   "metadata": {
    "execution": {
     "iopub.execute_input": "2022-05-15T04:53:32.034305Z",
     "iopub.status.busy": "2022-05-15T04:53:32.033678Z",
     "iopub.status.idle": "2022-05-15T04:53:33.011725Z",
     "shell.execute_reply": "2022-05-15T04:53:33.010372Z",
     "shell.execute_reply.started": "2022-05-15T04:53:32.034265Z"
    },
    "id": "K5BeQyKThC_Y"
   },
   "outputs": [],
   "source": [
    "class_names = train_dataset.class_names\n",
    "\n",
    "plt.figure(figsize=(10, 10))\n",
    "\n",
    "# take method creates a Dataset with at most count(1) elements from this dataset.\n",
    "# in our case take(1) means 1 batch which contains 32 images and 32 labels\n",
    "for images, labels in train_dataset.take(1):\n",
    "    for i in range(9):\n",
    "        ax = plt.subplot(3, 3, i + 1)\n",
    "        plt.imshow(images[i].numpy().astype(\"uint8\"))\n",
    "        plt.title(class_names[labels[i]])\n",
    "        plt.axis(\"off\")"
   ]
  },
  {
   "cell_type": "markdown",
   "metadata": {
    "id": "EZqCX_mpV3Mx"
   },
   "source": [
    "As the original dataset doesn't contain a validation set, we will create one. To do so, determine how many batches of data are available in the test set using `tf.data.experimental.cardinality`, then move 20% of them to a validation set.\n",
    "\n",
    "> train set = the data on which our model will be trained\n",
    "\n",
    "> validation set = will be used while training just to check our model performance, but will not be trained on\n",
    "\n",
    "> test set = will stay untouched till the very end, used to determine final performance of our model"
   ]
  },
  {
   "cell_type": "code",
   "execution_count": null,
   "metadata": {
    "execution": {
     "iopub.execute_input": "2022-05-15T04:53:54.644426Z",
     "iopub.status.busy": "2022-05-15T04:53:54.644163Z",
     "iopub.status.idle": "2022-05-15T04:53:54.653103Z",
     "shell.execute_reply": "2022-05-15T04:53:54.652152Z",
     "shell.execute_reply.started": "2022-05-15T04:53:54.644399Z"
    },
    "id": "uFFIYrTFV9RO"
   },
   "outputs": [],
   "source": [
    "test_batches = \n",
    "val_dataset = \n",
    "test_dataset = "
   ]
  },
  {
   "cell_type": "code",
   "execution_count": null,
   "metadata": {
    "execution": {
     "iopub.execute_input": "2022-05-15T04:54:00.657605Z",
     "iopub.status.busy": "2022-05-15T04:54:00.65684Z",
     "iopub.status.idle": "2022-05-15T04:54:00.665222Z",
     "shell.execute_reply": "2022-05-15T04:54:00.664301Z",
     "shell.execute_reply.started": "2022-05-15T04:54:00.657545Z"
    },
    "id": "Q9pFlFWgBKgH"
   },
   "outputs": [],
   "source": [
    "print('Number of validation batches: %d' % )\n",
    "print('Number of test batches: %d' % )"
   ]
  },
  {
   "cell_type": "markdown",
   "metadata": {
    "id": "MYfcVwYLiR98"
   },
   "source": [
    "### Use data augmentation"
   ]
  },
  {
   "cell_type": "markdown",
   "metadata": {
    "id": "bDWc5Oad1daX"
   },
   "source": [
    "When you don't have a large image dataset, it's a good practice to artificially introduce sample diversity by applying random, yet realistic, transformations to the training images, such as rotation and horizontal flipping. This helps expose the model to different aspects of the training data and reduce [overfitting](https://www.tensorflow.org/tutorials/keras/overfit_and_underfit). You can learn more about data augmentation in this [tutorial](https://www.tensorflow.org/tutorials/images/data_augmentation)."
   ]
  },
  {
   "cell_type": "code",
   "execution_count": null,
   "metadata": {
    "execution": {
     "iopub.execute_input": "2022-05-15T04:54:09.267681Z",
     "iopub.status.busy": "2022-05-15T04:54:09.267335Z",
     "iopub.status.idle": "2022-05-15T04:54:09.288162Z",
     "shell.execute_reply": "2022-05-15T04:54:09.287332Z",
     "shell.execute_reply.started": "2022-05-15T04:54:09.267644Z"
    },
    "id": "3P99QiMGit1A"
   },
   "outputs": [],
   "source": [
    "data_augmentation = tf.keras.Sequential([\n",
    "  tf.keras.layers.RandomFlip('horizontal'),\n",
    "  tf.keras.layers.RandomRotation(0.2),\n",
    "])"
   ]
  },
  {
   "cell_type": "markdown",
   "metadata": {
    "id": "s9SlcbhrarOO"
   },
   "source": [
    "Note: These layers are active only during training, when you call `Model.fit`. They are inactive when the model is used in inference mode in `Model.evaluate` or `Model.fit`."
   ]
  },
  {
   "cell_type": "markdown",
   "metadata": {
    "id": "9mD3rE2Lm7-d"
   },
   "source": [
    "Let's repeatedly apply these layers to the same image and see the result."
   ]
  },
  {
   "cell_type": "code",
   "execution_count": null,
   "metadata": {
    "execution": {
     "iopub.execute_input": "2022-05-15T04:54:12.546206Z",
     "iopub.status.busy": "2022-05-15T04:54:12.545921Z",
     "iopub.status.idle": "2022-05-15T04:54:13.722097Z",
     "shell.execute_reply": "2022-05-15T04:54:13.72131Z",
     "shell.execute_reply.started": "2022-05-15T04:54:12.546175Z"
    },
    "id": "aQullOUHkm67"
   },
   "outputs": [],
   "source": [
    "for image, _ in train_dataset.take(1):\n",
    "    plt.figure(figsize=(10, 10))\n",
    "    first_image = image[0]\n",
    "    for i in range(9):\n",
    "        ax = plt.subplot(3, 3, i + 1)\n",
    "        augmented_image = data_augmentation(tf.expand_dims(first_image, 0))\n",
    "        plt.imshow(augmented_image[0] / 255)\n",
    "        plt.axis('off')"
   ]
  },
  {
   "cell_type": "markdown",
   "metadata": {
    "id": "bAywKtuVn8uK"
   },
   "source": [
    "### Rescale pixel values\n",
    "\n",
    "In a moment, you will download `tf.keras.applications.MobileNetV2` for use as your base model. This model expects pixel values in `[-1, 1]`, but at this point, the pixel values in your images are in `[0, 255]`. To rescale them, use the preprocessing method included with the model."
   ]
  },
  {
   "cell_type": "code",
   "execution_count": null,
   "metadata": {
    "execution": {
     "iopub.execute_input": "2022-05-15T04:54:33.068524Z",
     "iopub.status.busy": "2022-05-15T04:54:33.067883Z",
     "iopub.status.idle": "2022-05-15T04:54:33.073219Z",
     "shell.execute_reply": "2022-05-15T04:54:33.072412Z",
     "shell.execute_reply.started": "2022-05-15T04:54:33.06848Z"
    },
    "id": "cO0HM9JAQUFq"
   },
   "outputs": [],
   "source": [
    "preprocess_input = "
   ]
  },
  {
   "cell_type": "markdown",
   "metadata": {
    "id": "xnr81qRMzcs5"
   },
   "source": [
    "Note: Alternatively, you could rescale pixel values from `[0, 255]` to `[-1, 1]` using `tf.keras.layers.Rescaling`."
   ]
  },
  {
   "cell_type": "code",
   "execution_count": null,
   "metadata": {
    "execution": {
     "iopub.execute_input": "2022-05-15T04:54:36.528689Z",
     "iopub.status.busy": "2022-05-15T04:54:36.527889Z",
     "iopub.status.idle": "2022-05-15T04:54:36.534455Z",
     "shell.execute_reply": "2022-05-15T04:54:36.533401Z",
     "shell.execute_reply.started": "2022-05-15T04:54:36.528647Z"
    },
    "id": "R2NyJn4KQMux"
   },
   "outputs": [],
   "source": [
    "rescale = tf.keras.layers.Rescaling(1./127.5, offset=-1)"
   ]
  },
  {
   "cell_type": "markdown",
   "metadata": {
    "id": "Wz7qgImhTxw4"
   },
   "source": [
    "Note: If using other `tf.keras.applications`, be sure to check the API doc to determine if they expect pixels in `[-1, 1]` or `[0, 1]`, or use the included `preprocess_input` function."
   ]
  },
  {
   "cell_type": "markdown",
   "metadata": {
    "id": "OkH-kazQecHB"
   },
   "source": [
    "## Create the base model from the pre-trained convnets\n",
    "\n",
    "![](https://www.topbots.com/wp-content/uploads/2019/12/cover_transfer_learning_1600px_web.jpg)\n",
    "\n",
    "\n",
    "> You will create the base model from the **MobileNet V2** model developed at Google. This is pre-trained on the ImageNet dataset, a large dataset consisting of 1.4M images and 1000 classes.\n",
    "\n",
    "### ImageNet\n",
    "> ImageNet is a research training dataset with a wide variety of categories like `jackfruit` and `syringe`. This base of knowledge will help us classify cats and dogs from our specific dataset.\n",
    "\n",
    "### Steps\n",
    "\n",
    "1. First, you need to pick which layer of MobileNet V2 you will use for feature extraction.\n",
    "2. The very last classification layer (on \"top\", as most diagrams of machine learning models go from bottom to top) is not very useful. Instead, you will follow the common practice to depend on the very last layer before the flatten operation. This layer is called the \"bottleneck layer\". The bottleneck layer features retain more generality as compared to the final/top layer.\n"
   ]
  },
  {
   "cell_type": "code",
   "execution_count": null,
   "metadata": {
    "execution": {
     "iopub.execute_input": "2022-05-15T04:54:47.424563Z",
     "iopub.status.busy": "2022-05-15T04:54:47.424259Z",
     "iopub.status.idle": "2022-05-15T04:54:48.508138Z",
     "shell.execute_reply": "2022-05-15T04:54:48.507291Z",
     "shell.execute_reply.started": "2022-05-15T04:54:47.424529Z"
    },
    "id": "19IQ2gqneqmS"
   },
   "outputs": [],
   "source": [
    "# Create the base model from the pre-trained model MobileNet V2\n",
    "'''First, instantiate a MobileNet V2 model pre-loaded with weights trained on ImageNet. \n",
    "By specifying the **include_top=False** argument, you load a network that doesn't include the classification layers at the top, \n",
    "which is ideal for feature extraction.'''\n",
    "\n",
    "IMG_SHAPE = IMG_SIZE + (3,)\n",
    "base_model = "
   ]
  },
  {
   "cell_type": "markdown",
   "metadata": {
    "id": "AqcsxoJIEVXZ"
   },
   "source": [
    "This feature extractor converts each `160x160x3` image into a `5x5x1280` block of features. Let's see what it does to an example batch of images:"
   ]
  },
  {
   "cell_type": "code",
   "execution_count": null,
   "metadata": {
    "execution": {
     "iopub.execute_input": "2022-05-15T04:54:58.548729Z",
     "iopub.status.busy": "2022-05-15T04:54:58.548063Z",
     "iopub.status.idle": "2022-05-15T04:55:00.518122Z",
     "shell.execute_reply": "2022-05-15T04:55:00.517155Z",
     "shell.execute_reply.started": "2022-05-15T04:54:58.548688Z"
    },
    "id": "Y-2LJL0EEUcx"
   },
   "outputs": [],
   "source": [
    "# iter converts any object into an iterator object\n",
    "# next returns the next batch in the iterator, everytime you run it\n",
    "\n",
    "image_batch, label_batch = next(iter(train_dataset))\n",
    "feature_batch = base_model(image_batch)\n",
    "print(feature_batch.shape)"
   ]
  },
  {
   "cell_type": "markdown",
   "metadata": {
    "id": "rlx56nQtfe8Y"
   },
   "source": [
    "## Feature extraction\n",
    "In this step, you will freeze the convolutional base created from the previous step and to use as a feature extractor. Additionally, you add a classifier on top of it and train the top-level classifier."
   ]
  },
  {
   "cell_type": "markdown",
   "metadata": {
    "id": "CnMLieHBCwil"
   },
   "source": [
    "### Freeze the convolutional base"
   ]
  },
  {
   "cell_type": "markdown",
   "metadata": {
    "id": "7fL6upiN3ekS"
   },
   "source": [
    "It is important to freeze the convolutional base before you compile and train the model. Freezing (by setting layer.trainable = False) prevents the weights in a given layer from being updated during training. MobileNet V2 has many layers, so setting the entire model's `trainable` flag to False will freeze all of them."
   ]
  },
  {
   "cell_type": "code",
   "execution_count": null,
   "metadata": {
    "execution": {
     "iopub.execute_input": "2022-05-15T04:55:15.424192Z",
     "iopub.status.busy": "2022-05-15T04:55:15.423528Z",
     "iopub.status.idle": "2022-05-15T04:55:15.43306Z",
     "shell.execute_reply": "2022-05-15T04:55:15.432235Z",
     "shell.execute_reply.started": "2022-05-15T04:55:15.424151Z"
    },
    "id": "OTCJH4bphOeo"
   },
   "outputs": [],
   "source": [
    "base_model.trainable"
   ]
  },
  {
   "cell_type": "markdown",
   "metadata": {
    "id": "jsNHwpm7BeVM"
   },
   "source": [
    "### Important note about BatchNormalization layers\n",
    "\n",
    "Many models contain `tf.keras.layers.BatchNormalization` layers. This layer is a special case and precautions should be taken in the context of fine-tuning, as shown later in this tutorial. \n",
    "\n",
    "When you set `layer.trainable = False`, the `BatchNormalization` layer will run in inference mode, and will not update its mean and variance statistics. \n",
    "\n",
    "When you unfreeze a model that contains BatchNormalization layers in order to do fine-tuning, you should keep the BatchNormalization layers in inference mode by passing `training = False` when calling the base model. Otherwise, the updates applied to the non-trainable weights will destroy what the model has learned.\n",
    "\n",
    "For more details, see the [Transfer learning guide](https://www.tensorflow.org/guide/keras/transfer_learning)."
   ]
  },
  {
   "cell_type": "code",
   "execution_count": null,
   "metadata": {
    "execution": {
     "iopub.execute_input": "2022-05-15T04:55:23.799351Z",
     "iopub.status.busy": "2022-05-15T04:55:23.798661Z",
     "iopub.status.idle": "2022-05-15T04:55:23.883024Z",
     "shell.execute_reply": "2022-05-15T04:55:23.882168Z",
     "shell.execute_reply.started": "2022-05-15T04:55:23.79931Z"
    },
    "id": "KpbzSmPkDa-N"
   },
   "outputs": [],
   "source": [
    "# Let's take a look at the base model architecture\n",
    "base_model.summary()"
   ]
  },
  {
   "cell_type": "markdown",
   "metadata": {
    "id": "wdMRM8YModbk"
   },
   "source": [
    "### Add a classification head"
   ]
  },
  {
   "cell_type": "markdown",
   "metadata": {
    "id": "QBc31c4tMOdH"
   },
   "source": [
    "To generate predictions from the block of features, average over the spatial `5x5` spatial locations, using a `tf.keras.layers.GlobalAveragePooling2D` layer to convert the features to  a single 1280-element vector per image."
   ]
  },
  {
   "cell_type": "code",
   "execution_count": null,
   "metadata": {
    "execution": {
     "iopub.execute_input": "2022-05-15T04:55:36.758218Z",
     "iopub.status.busy": "2022-05-15T04:55:36.757271Z",
     "iopub.status.idle": "2022-05-15T04:55:36.765702Z",
     "shell.execute_reply": "2022-05-15T04:55:36.764817Z",
     "shell.execute_reply.started": "2022-05-15T04:55:36.758169Z"
    },
    "id": "dLnpMF5KOALm"
   },
   "outputs": [],
   "source": [
    "global_average_layer = \n",
    "feature_batch_average = \n",
    "print(feature_batch_average.shape)"
   ]
  },
  {
   "cell_type": "markdown",
   "metadata": {
    "id": "O1p0OJBR6dOT"
   },
   "source": [
    "Apply a `tf.keras.layers.Dense` layer to convert these features into a single prediction per image. You don't need an activation function here because this prediction will be treated as a `logit`, or a raw prediction value. Positive numbers predict class 1, negative numbers predict class 0."
   ]
  },
  {
   "cell_type": "code",
   "execution_count": null,
   "metadata": {
    "execution": {
     "iopub.execute_input": "2022-05-15T04:55:41.626734Z",
     "iopub.status.busy": "2022-05-15T04:55:41.626185Z",
     "iopub.status.idle": "2022-05-15T04:55:41.63825Z",
     "shell.execute_reply": "2022-05-15T04:55:41.637287Z",
     "shell.execute_reply.started": "2022-05-15T04:55:41.626694Z"
    },
    "id": "Wv4afXKj6cVa"
   },
   "outputs": [],
   "source": [
    "prediction_layer = \n",
    "prediction_batch = \n",
    "print(prediction_batch.shape)"
   ]
  },
  {
   "cell_type": "markdown",
   "metadata": {
    "id": "HXvz-ZkTa9b3"
   },
   "source": [
    "Build a model by chaining together the data augmentation, rescaling, `base_model` and feature extractor layers using the [Keras Functional API](https://www.tensorflow.org/guide/keras/functional). As previously mentioned, use `training=False` as our model contains a `BatchNormalization` layer."
   ]
  },
  {
   "cell_type": "code",
   "execution_count": null,
   "metadata": {
    "execution": {
     "iopub.execute_input": "2022-05-15T04:55:49.964526Z",
     "iopub.status.busy": "2022-05-15T04:55:49.964192Z",
     "iopub.status.idle": "2022-05-15T04:55:50.680784Z",
     "shell.execute_reply": "2022-05-15T04:55:50.67981Z",
     "shell.execute_reply.started": "2022-05-15T04:55:49.964489Z"
    },
    "id": "DgzQX6Veb2WT"
   },
   "outputs": [],
   "source": [
    "inputs = tf.keras.Input(shape=(160, 160, 3))\n",
    "\n",
    "\n",
    "outputs = prediction_layer(x)\n",
    "model = tf.keras.Model(inputs, outputs)"
   ]
  },
  {
   "cell_type": "markdown",
   "metadata": {
    "id": "g0ylJXE_kRLi"
   },
   "source": [
    "### Compile the model\n",
    "\n",
    "Compile the model before training it. Since there are two classes, use the `tf.keras.losses.BinaryCrossentropy` loss with `from_logits=True` since the model provides a linear output."
   ]
  },
  {
   "cell_type": "code",
   "execution_count": null,
   "metadata": {
    "execution": {
     "iopub.execute_input": "2022-05-15T04:56:02.564088Z",
     "iopub.status.busy": "2022-05-15T04:56:02.563791Z",
     "iopub.status.idle": "2022-05-15T04:56:02.582676Z",
     "shell.execute_reply": "2022-05-15T04:56:02.581763Z",
     "shell.execute_reply.started": "2022-05-15T04:56:02.564056Z"
    },
    "id": "RpR8HdyMhukJ"
   },
   "outputs": [],
   "source": [
    "base_learning_rate = 0.0001\n",
    "model.compile(optimizer=tf.keras.optimizers.Adam(learning_rate=base_learning_rate),\n",
    "              loss=tf.keras.losses.BinaryCrossentropy(from_logits=True),\n",
    "              metrics=['accuracy'])"
   ]
  },
  {
   "cell_type": "code",
   "execution_count": null,
   "metadata": {
    "execution": {
     "iopub.execute_input": "2022-05-15T04:56:08.42026Z",
     "iopub.status.busy": "2022-05-15T04:56:08.419974Z",
     "iopub.status.idle": "2022-05-15T04:56:08.439385Z",
     "shell.execute_reply": "2022-05-15T04:56:08.438268Z",
     "shell.execute_reply.started": "2022-05-15T04:56:08.420229Z"
    },
    "id": "I8ARiyMFsgbH"
   },
   "outputs": [],
   "source": [
    "model.summary()"
   ]
  },
  {
   "cell_type": "markdown",
   "metadata": {
    "id": "lxOcmVr0ydFZ"
   },
   "source": [
    "The 2.5 million parameters in MobileNet are frozen, but there are 1.2 thousand _trainable_ parameters in the Dense layer. These are divided between two `tf.Variable` objects, the weights and biases."
   ]
  },
  {
   "cell_type": "code",
   "execution_count": null,
   "metadata": {
    "execution": {
     "iopub.execute_input": "2022-05-15T04:56:15.992017Z",
     "iopub.status.busy": "2022-05-15T04:56:15.991123Z",
     "iopub.status.idle": "2022-05-15T04:56:15.998524Z",
     "shell.execute_reply": "2022-05-15T04:56:15.997739Z",
     "shell.execute_reply.started": "2022-05-15T04:56:15.991965Z"
    },
    "id": "krvBumovycVA"
   },
   "outputs": [],
   "source": [
    "len(model.trainable_variables)"
   ]
  },
  {
   "cell_type": "code",
   "execution_count": null,
   "metadata": {
    "execution": {
     "iopub.execute_input": "2022-05-15T04:56:21.55417Z",
     "iopub.status.busy": "2022-05-15T04:56:21.553347Z",
     "iopub.status.idle": "2022-05-15T04:56:21.564298Z",
     "shell.execute_reply": "2022-05-15T04:56:21.562983Z",
     "shell.execute_reply.started": "2022-05-15T04:56:21.554129Z"
    },
    "id": "aMoAfVzfbt79"
   },
   "outputs": [],
   "source": [
    "weights = \n",
    "biases = \n",
    "\n",
    "print(weights)\n",
    "print(weights.shape)\n",
    "print(biases.shape)\n",
    "\n",
    "# y = Wt * X + b\n",
    "# (1,1) = (1, 1280) * (1280, 1) + (1,1)"
   ]
  },
  {
   "cell_type": "markdown",
   "metadata": {
    "id": "RxvgOYTDSWTx"
   },
   "source": [
    "### Train the model\n"
   ]
  },
  {
   "cell_type": "code",
   "execution_count": null,
   "metadata": {
    "execution": {
     "iopub.execute_input": "2022-05-15T04:56:33.834693Z",
     "iopub.status.busy": "2022-05-15T04:56:33.834222Z",
     "iopub.status.idle": "2022-05-15T04:56:38.397846Z",
     "shell.execute_reply": "2022-05-15T04:56:38.39714Z",
     "shell.execute_reply.started": "2022-05-15T04:56:33.834652Z"
    },
    "id": "Om4O3EESkab1"
   },
   "outputs": [],
   "source": [
    "initial_epochs = 3\n",
    "\n",
    "loss0, accuracy0 = model.evaluate(val_dataset)"
   ]
  },
  {
   "cell_type": "code",
   "execution_count": null,
   "metadata": {
    "execution": {
     "iopub.execute_input": "2022-05-15T04:56:50.428042Z",
     "iopub.status.busy": "2022-05-15T04:56:50.427311Z",
     "iopub.status.idle": "2022-05-15T04:56:50.434782Z",
     "shell.execute_reply": "2022-05-15T04:56:50.433767Z",
     "shell.execute_reply.started": "2022-05-15T04:56:50.428006Z"
    },
    "id": "8cYT1c48CuSd"
   },
   "outputs": [],
   "source": [
    "print(\"initial loss: {:.2f}\".format(loss0))\n",
    "print(\"initial accuracy: {:.2f}\".format(accuracy0))"
   ]
  },
  {
   "cell_type": "code",
   "execution_count": null,
   "metadata": {
    "execution": {
     "iopub.execute_input": "2022-05-15T04:56:54.696395Z",
     "iopub.status.busy": "2022-05-15T04:56:54.696106Z",
     "iopub.status.idle": "2022-05-15T04:57:49.177499Z",
     "shell.execute_reply": "2022-05-15T04:57:49.17664Z",
     "shell.execute_reply.started": "2022-05-15T04:56:54.696366Z"
    },
    "id": "JsaRFlZ9B6WK"
   },
   "outputs": [],
   "source": [
    "# After training for 3 epochs, you should see ~95% accuracy on the validation set.\n",
    "history = model.fit(train_dataset,\n",
    "                    epochs=initial_epochs,\n",
    "                    validation_data=val_dataset)"
   ]
  },
  {
   "cell_type": "markdown",
   "metadata": {
    "id": "Hd94CKImf8vi"
   },
   "source": [
    "### Learning curves\n",
    "\n",
    "Let's take a look at the learning curves of the training and validation accuracy/loss when using the MobileNetV2 base model as a fixed feature extractor."
   ]
  },
  {
   "cell_type": "code",
   "execution_count": null,
   "metadata": {
    "execution": {
     "iopub.execute_input": "2022-05-15T04:58:03.497591Z",
     "iopub.status.busy": "2022-05-15T04:58:03.497266Z",
     "iopub.status.idle": "2022-05-15T04:58:03.857685Z",
     "shell.execute_reply": "2022-05-15T04:58:03.856886Z",
     "shell.execute_reply.started": "2022-05-15T04:58:03.497554Z"
    },
    "id": "53OTCh3jnbwV"
   },
   "outputs": [],
   "source": [
    "acc = history.history['accuracy']\n",
    "val_acc = history.history['val_accuracy']\n",
    "\n",
    "loss = history.history['loss']\n",
    "val_loss = history.history['val_loss']\n",
    "\n",
    "plt.figure(figsize=(8, 8))\n",
    "plt.subplot(2, 1, 1)\n",
    "plt.plot(acc, label='Training Accuracy')\n",
    "plt.plot(val_acc, label='Validation Accuracy')\n",
    "plt.legend(loc='lower right')\n",
    "plt.ylabel('Accuracy')\n",
    "plt.ylim([min(plt.ylim()),1])\n",
    "plt.title('Training and Validation Accuracy')\n",
    "\n",
    "plt.subplot(2, 1, 2)\n",
    "plt.plot(loss, label='Training Loss')\n",
    "plt.plot(val_loss, label='Validation Loss')\n",
    "plt.legend(loc='upper right')\n",
    "plt.ylabel('Cross Entropy')\n",
    "plt.ylim([0,1.0])\n",
    "plt.title('Training and Validation Loss')\n",
    "plt.xlabel('epoch')\n",
    "plt.show()"
   ]
  },
  {
   "cell_type": "markdown",
   "metadata": {
    "id": "foWMyyUHbc1j"
   },
   "source": [
    "Note: If you are wondering why the validation metrics are clearly better than the training metrics, the main factor is because layers like `tf.keras.layers.BatchNormalization` and `tf.keras.layers.Dropout` affect accuracy during training. They are turned off when calculating validation loss.\n",
    "\n",
    "To a lesser extent, it is also because training metrics report the average for an epoch, while validation metrics are evaluated after the epoch, so validation metrics see a model that has trained slightly longer."
   ]
  },
  {
   "cell_type": "markdown",
   "metadata": {
    "id": "CqwV-CRdS6Nv"
   },
   "source": [
    "## Fine tuning\n",
    "In the feature extraction experiment, you were only training a few layers on top of a MobileNetV2 base model. The weights of the pre-trained network were **not** updated during training.\n",
    "\n",
    "One way to increase performance even further is to train (or \"fine-tune\") the weights of the top layers of the pre-trained model alongside the training of the classifier you added. The training process will force the weights to be tuned from generic feature maps to features associated specifically with the dataset.\n",
    "\n",
    "Note: This should only be attempted after you have trained the top-level classifier with the pre-trained model set to non-trainable. If you add a randomly initialized classifier on top of a pre-trained model and attempt to train all layers jointly, the magnitude of the gradient updates will be too large (due to the random weights from the classifier) and your pre-trained model will forget what it has learned.\n",
    "\n",
    "Also, you should try to fine-tune a small number of top layers rather than the whole MobileNet model. \n",
    "\n",
    "**In most convolutional networks, the higher up a layer is, the more specialized it is. The first few layers learn very simple and generic features that generalize to almost all types of images. As you go higher up, the features are increasingly more specific to the dataset on which the model was trained. The goal of fine-tuning is to adapt these specialized features to work with the new dataset, rather than overwrite the generic learning.**"
   ]
  },
  {
   "cell_type": "markdown",
   "metadata": {
    "id": "CPXnzUK0QonF"
   },
   "source": [
    "### Un-freeze the top layers of the model\n"
   ]
  },
  {
   "cell_type": "markdown",
   "metadata": {
    "id": "rfxv_ifotQak"
   },
   "source": [
    "All you need to do is unfreeze the `base_model` and set the bottom layers to be un-trainable. Then, you should recompile the model (necessary for these changes to take effect), and resume training."
   ]
  },
  {
   "cell_type": "code",
   "execution_count": null,
   "metadata": {
    "execution": {
     "iopub.execute_input": "2022-05-15T04:58:16.607344Z",
     "iopub.status.busy": "2022-05-15T04:58:16.607035Z",
     "iopub.status.idle": "2022-05-15T04:58:16.618209Z",
     "shell.execute_reply": "2022-05-15T04:58:16.617007Z",
     "shell.execute_reply.started": "2022-05-15T04:58:16.607311Z"
    },
    "id": "4nzcagVitLQm"
   },
   "outputs": [],
   "source": [
    "base_model.trainable = True"
   ]
  },
  {
   "cell_type": "code",
   "execution_count": null,
   "metadata": {
    "execution": {
     "iopub.execute_input": "2022-05-15T04:58:20.72639Z",
     "iopub.status.busy": "2022-05-15T04:58:20.726089Z",
     "iopub.status.idle": "2022-05-15T04:58:20.736841Z",
     "shell.execute_reply": "2022-05-15T04:58:20.735939Z",
     "shell.execute_reply.started": "2022-05-15T04:58:20.726357Z"
    },
    "id": "-4HgVAacRs5v"
   },
   "outputs": [],
   "source": [
    "# Let's take a look to see how many layers are in the base model\n",
    "print(\"Number of layers in the base model: \", len(base_model.layers))\n",
    "\n",
    "# Fine-tune from this layer onwards\n",
    "fine_tune_at =\n",
    "\n",
    "# Freeze all the layers before the `fine_tune_at` layer\n",
    "for layer in base_model.layers[:fine_tune_at]:\n",
    "    layer.trainable = "
   ]
  },
  {
   "cell_type": "markdown",
   "metadata": {
    "id": "4Uk1dgsxT0IS"
   },
   "source": [
    "### Compile the model\n",
    "\n",
    "As you are training a much larger model and want to readapt the pretrained weights, it is important to use a lower learning rate at this stage. Otherwise, your model could overfit very quickly."
   ]
  },
  {
   "cell_type": "code",
   "execution_count": null,
   "metadata": {
    "execution": {
     "iopub.execute_input": "2022-05-15T04:58:29.47658Z",
     "iopub.status.busy": "2022-05-15T04:58:29.476205Z",
     "iopub.status.idle": "2022-05-15T04:58:29.493045Z",
     "shell.execute_reply": "2022-05-15T04:58:29.492187Z",
     "shell.execute_reply.started": "2022-05-15T04:58:29.476543Z"
    },
    "id": "NtUnaz0WUDva"
   },
   "outputs": [],
   "source": [
    "model.compile(loss=tf.keras.losses.BinaryCrossentropy(from_logits=True),\n",
    "              optimizer = tf.keras.optimizers.RMSprop(learning_rate=base_learning_rate/10),\n",
    "              metrics=['accuracy'])"
   ]
  },
  {
   "cell_type": "code",
   "execution_count": null,
   "metadata": {
    "execution": {
     "iopub.execute_input": "2022-05-15T04:58:35.537854Z",
     "iopub.status.busy": "2022-05-15T04:58:35.537556Z",
     "iopub.status.idle": "2022-05-15T04:58:35.561832Z",
     "shell.execute_reply": "2022-05-15T04:58:35.560803Z",
     "shell.execute_reply.started": "2022-05-15T04:58:35.537818Z"
    },
    "id": "WwBWy7J2kZvA"
   },
   "outputs": [],
   "source": [
    "model.summary()"
   ]
  },
  {
   "cell_type": "code",
   "execution_count": null,
   "metadata": {
    "execution": {
     "iopub.execute_input": "2022-05-15T04:58:47.147862Z",
     "iopub.status.busy": "2022-05-15T04:58:47.146977Z",
     "iopub.status.idle": "2022-05-15T04:58:47.155378Z",
     "shell.execute_reply": "2022-05-15T04:58:47.154173Z",
     "shell.execute_reply.started": "2022-05-15T04:58:47.147813Z"
    },
    "id": "bNXelbMQtonr"
   },
   "outputs": [],
   "source": [
    "# total pairs of weights and biases that are going tp be trained\n",
    "len(model.trainable_variables)\n",
    "\n",
    "# 154-100 = 54 from your base model and 2 from the head"
   ]
  },
  {
   "cell_type": "markdown",
   "metadata": {
    "id": "4G5O4jd6TuAG"
   },
   "source": [
    "### Continue training the model"
   ]
  },
  {
   "cell_type": "markdown",
   "metadata": {
    "id": "0foWUN-yDLo_"
   },
   "source": [
    "If you trained to convergence earlier, this step will improve your accuracy by a few percentage points."
   ]
  },
  {
   "cell_type": "code",
   "execution_count": null,
   "metadata": {
    "execution": {
     "iopub.execute_input": "2022-05-15T04:58:58.606939Z",
     "iopub.status.busy": "2022-05-15T04:58:58.606292Z",
     "iopub.status.idle": "2022-05-15T05:00:22.014462Z",
     "shell.execute_reply": "2022-05-15T05:00:22.013675Z",
     "shell.execute_reply.started": "2022-05-15T04:58:58.606895Z"
    },
    "id": "ECQLkAsFTlun"
   },
   "outputs": [],
   "source": [
    "fine_tune_epochs = 3\n",
    "total_epochs =  \n",
    "\n",
    "history_fine = model.fit(train_dataset,\n",
    "                         \n",
    "                         validation_data=val_dataset)"
   ]
  },
  {
   "cell_type": "markdown",
   "metadata": {
    "id": "TfXEmsxQf6eP"
   },
   "source": [
    "Let's take a look at the learning curves of the training and validation accuracy/loss when fine-tuning the last few layers of the MobileNetV2 base model and training the classifier on top of it. The validation loss is much higher than the training loss, so you may get some overfitting.\n",
    "\n",
    "You may also get some overfitting as the new training set is relatively small and similar to the original MobileNetV2 datasets.\n"
   ]
  },
  {
   "cell_type": "code",
   "execution_count": null,
   "metadata": {
    "execution": {
     "iopub.execute_input": "2022-05-15T05:01:13.746796Z",
     "iopub.status.busy": "2022-05-15T05:01:13.744225Z",
     "iopub.status.idle": "2022-05-15T05:01:13.75852Z",
     "shell.execute_reply": "2022-05-15T05:01:13.757104Z",
     "shell.execute_reply.started": "2022-05-15T05:01:13.746755Z"
    }
   },
   "outputs": [],
   "source": [
    "history.history['loss']"
   ]
  },
  {
   "cell_type": "code",
   "execution_count": null,
   "metadata": {
    "execution": {
     "iopub.execute_input": "2022-05-15T05:01:18.741509Z",
     "iopub.status.busy": "2022-05-15T05:01:18.741212Z",
     "iopub.status.idle": "2022-05-15T05:01:18.74836Z",
     "shell.execute_reply": "2022-05-15T05:01:18.747553Z",
     "shell.execute_reply.started": "2022-05-15T05:01:18.741477Z"
    }
   },
   "outputs": [],
   "source": [
    "history_fine.history['loss']"
   ]
  },
  {
   "cell_type": "markdown",
   "metadata": {
    "id": "DNtfNZKlInGT"
   },
   "source": [
    "After fine tuning the model nearly reaches 98% accuracy on the validation set."
   ]
  },
  {
   "cell_type": "code",
   "execution_count": null,
   "metadata": {
    "execution": {
     "iopub.execute_input": "2022-05-15T05:01:32.902154Z",
     "iopub.status.busy": "2022-05-15T05:01:32.901868Z",
     "iopub.status.idle": "2022-05-15T05:01:32.907034Z",
     "shell.execute_reply": "2022-05-15T05:01:32.905846Z",
     "shell.execute_reply.started": "2022-05-15T05:01:32.902122Z"
    },
    "id": "PpA8PlpQKygw"
   },
   "outputs": [],
   "source": [
    "acc += history_fine.history['accuracy']\n",
    "val_acc += history_fine.history['val_accuracy']\n",
    "\n",
    "loss += history_fine.history['loss']\n",
    "val_loss += history_fine.history['val_loss']"
   ]
  },
  {
   "cell_type": "code",
   "execution_count": null,
   "metadata": {
    "execution": {
     "iopub.execute_input": "2022-05-15T05:01:38.15132Z",
     "iopub.status.busy": "2022-05-15T05:01:38.151043Z",
     "iopub.status.idle": "2022-05-15T05:01:38.512004Z",
     "shell.execute_reply": "2022-05-15T05:01:38.51128Z",
     "shell.execute_reply.started": "2022-05-15T05:01:38.15129Z"
    },
    "id": "chW103JUItdk"
   },
   "outputs": [],
   "source": [
    "plt.figure(figsize=(8, 8))\n",
    "plt.subplot(2, 1, 1)\n",
    "plt.plot(acc, label='Training Accuracy')\n",
    "plt.plot(val_acc, label='Validation Accuracy')\n",
    "plt.ylim([0.8, 1])\n",
    "plt.plot([initial_epochs-1,initial_epochs-1],\n",
    "          plt.ylim(), label='Start Fine Tuning')\n",
    "plt.legend(loc='lower right')\n",
    "plt.title('Training and Validation Accuracy')\n",
    "\n",
    "plt.subplot(2, 1, 2)\n",
    "plt.plot(loss, label='Training Loss')\n",
    "plt.plot(val_loss, label='Validation Loss')\n",
    "plt.ylim([0, 1.0])\n",
    "plt.plot([initial_epochs-1,initial_epochs-1],\n",
    "         plt.ylim(), label='Start Fine Tuning')\n",
    "plt.legend(loc='upper right')\n",
    "plt.title('Training and Validation Loss')\n",
    "plt.xlabel('epoch')\n",
    "plt.show()"
   ]
  },
  {
   "cell_type": "markdown",
   "metadata": {
    "id": "gG8szq4Dbt8C"
   },
   "source": [
    "## to get the idea of real effects of fine-tuning, increase the number of epochs to 10-15 both time. "
   ]
  },
  {
   "cell_type": "markdown",
   "metadata": {
    "id": "R6cWgjgfrsn5"
   },
   "source": [
    "### Evaluation and prediction"
   ]
  },
  {
   "cell_type": "markdown",
   "metadata": {
    "id": "PSXH7PRMxOi5"
   },
   "source": [
    "Finaly you can verify the performance of the model on new data using test set."
   ]
  },
  {
   "cell_type": "code",
   "execution_count": null,
   "metadata": {
    "execution": {
     "iopub.execute_input": "2022-05-15T05:01:49.822209Z",
     "iopub.status.busy": "2022-05-15T05:01:49.821913Z",
     "iopub.status.idle": "2022-05-15T05:01:50.873395Z",
     "shell.execute_reply": "2022-05-15T05:01:50.872123Z",
     "shell.execute_reply.started": "2022-05-15T05:01:49.822176Z"
    },
    "id": "2KyNhagHwfar"
   },
   "outputs": [],
   "source": [
    "loss, accuracy = model.evaluate(test_dataset)\n",
    "print('Test accuracy :', accuracy)"
   ]
  },
  {
   "cell_type": "markdown",
   "metadata": {
    "id": "8UjS5ukZfOcR"
   },
   "source": [
    "And now you are all set to use this model to predict if your pet is a cat or dog."
   ]
  },
  {
   "cell_type": "code",
   "execution_count": null,
   "metadata": {
    "execution": {
     "iopub.execute_input": "2022-05-15T05:02:00.263135Z",
     "iopub.status.busy": "2022-05-15T05:02:00.26231Z",
     "iopub.status.idle": "2022-05-15T05:02:02.213388Z",
     "shell.execute_reply": "2022-05-15T05:02:02.21276Z",
     "shell.execute_reply.started": "2022-05-15T05:02:00.263093Z"
    },
    "id": "RUNoQNgtfNgt"
   },
   "outputs": [],
   "source": [
    "# Retrieve a batch of images from the test set\n",
    "image_batch, label_batch = test_dataset.as_numpy_iterator().next()\n",
    "predictions = model.predict_on_batch(image_batch).flatten()\n",
    "\n",
    "# Apply a sigmoid since our model returns logits\n",
    "predictions = tf.nn.sigmoid(predictions)\n",
    "predictions = tf.where(predictions < 0.5, 0, 1)\n",
    "\n",
    "print('Predictions:\\n', predictions.numpy())\n",
    "print('Labels:\\n', label_batch)\n",
    "\n",
    "plt.figure(figsize=(10, 10))\n",
    "for i in range(9):\n",
    "  ax = plt.subplot(3, 3, i + 1)\n",
    "  plt.imshow(image_batch[i].astype(\"uint8\"))\n",
    "  plt.title(class_names[predictions[i]])\n",
    "  plt.axis(\"off\")"
   ]
  },
  {
   "cell_type": "markdown",
   "metadata": {
    "id": "_TZTwG7nhm0C"
   },
   "source": [
    "## Summary\n",
    "\n",
    "* **Using a pre-trained model for feature extraction**:  When working with a small dataset, it is a common practice to take advantage of features learned by a model trained on a larger dataset in the same domain. This is done by instantiating the pre-trained model and adding a fully-connected classifier on top. The pre-trained model is \"frozen\" and only the weights of the classifier get updated during training.\n",
    "In this case, the convolutional base extracted all the features associated with each image and you just trained a classifier that determines the image class given that set of extracted features.\n",
    "\n",
    "* **Fine-tuning a pre-trained model**: To further improve performance, one might want to repurpose the top-level layers of the pre-trained models to the new dataset via fine-tuning.\n",
    "In this case, you tuned your weights such that your model learned high-level features specific to the dataset. This technique is usually recommended when the training dataset is large and very similar to the original dataset that the pre-trained model was trained on.\n"
   ]
  },
  {
   "cell_type": "markdown",
   "metadata": {
    "id": "o0l1aqCabt8E"
   },
   "source": [
    "## In next lecture, you will learn Data Annotation using Labelme tool\n",
    "\n",
    "![](https://www.tarjama.com/wp-content/uploads/2020/08/Image-annotation.jpg)"
   ]
  },
  {
   "cell_type": "code",
   "execution_count": null,
   "metadata": {
    "id": "wtr4X6YYbt8E"
   },
   "outputs": [],
   "source": []
  }
 ],
 "metadata": {
  "kernelspec": {
   "display_name": "Python 3 (ipykernel)",
   "language": "python",
   "name": "python3"
  },
  "language_info": {
   "codemirror_mode": {
    "name": "ipython",
    "version": 3
   },
   "file_extension": ".py",
   "mimetype": "text/x-python",
   "name": "python",
   "nbconvert_exporter": "python",
   "pygments_lexer": "ipython3",
   "version": "3.9.7"
  }
 },
 "nbformat": 4,
 "nbformat_minor": 4
}
