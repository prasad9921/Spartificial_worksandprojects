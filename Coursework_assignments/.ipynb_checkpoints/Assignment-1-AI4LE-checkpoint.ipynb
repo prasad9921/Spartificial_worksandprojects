{
 "cells": [
  {
   "cell_type": "markdown",
   "metadata": {
    "id": "CvmMB2DLK8ZE"
   },
   "source": [
    "# <center> Assignment-1 (AI4LR)\n",
    "Total Points: 50"
   ]
  },
  {
   "cell_type": "code",
   "execution_count": 1,
   "metadata": {
    "id": "OCuwC_CTLSOk"
   },
   "outputs": [],
   "source": [
    "Your_Name = \"V N D S R Prasad Jettiboina\"\n",
    "Your_Email_id = \"prasadjv99@gmail.com\""
   ]
  },
  {
   "cell_type": "markdown",
   "metadata": {
    "id": "7Sv80hlEMBBx"
   },
   "source": [
    "### Q1 (2 points)\n",
    "Which of the following statements is used to terminate the statement ?\n",
    "\n",
    "> A. Next\n",
    " \n",
    "> B. Switch\n",
    "\n",
    "> C. Break\n",
    "\n",
    "> D. With\n"
   ]
  },
  {
   "cell_type": "code",
   "execution_count": 2,
   "metadata": {
    "execution": {
     "iopub.execute_input": "2021-12-30T12:56:45.862246Z",
     "iopub.status.busy": "2021-12-30T12:56:45.861941Z",
     "iopub.status.idle": "2021-12-30T12:56:45.867215Z",
     "shell.execute_reply": "2021-12-30T12:56:45.866353Z",
     "shell.execute_reply.started": "2021-12-30T12:56:45.862215Z"
    },
    "id": "AfgvicjUMBBy"
   },
   "outputs": [
    {
     "name": "stdout",
     "output_type": "stream",
     "text": [
      "C\n"
     ]
    }
   ],
   "source": [
    "# print your answer. for ex if your answer is B\n",
    "# print(\"B\")\n",
    "#for i in range(10):\n",
    "#   if i==5:\n",
    "#      break\n",
    "#   print(i,end=' ')\n",
    "#Output:0 1 2 3 4 \n",
    "#Breaks when i = 5\n",
    "print(\"C\")"
   ]
  },
  {
   "cell_type": "markdown",
   "metadata": {
    "id": "I7Gga9qyMBBz"
   },
   "source": [
    "### Q2 (2 points)\n",
    "For the below code, specify the datatype of variable X,\n",
    "\n",
    "X = 'achgd7698'\n",
    "\n",
    "> A. Complex \n",
    "\n",
    "> B. String \n",
    "\n",
    "> C. Integer\n",
    "\n",
    "> D. Boolean\n"
   ]
  },
  {
   "cell_type": "code",
   "execution_count": 3,
   "metadata": {
    "id": "RKU1-4p6MBB0"
   },
   "outputs": [
    {
     "name": "stdout",
     "output_type": "stream",
     "text": [
      "B\n"
     ]
    }
   ],
   "source": [
    "# print your answer.\n",
    "#ype(X) or type('achgd7698')\n",
    "print(\"B\")"
   ]
  },
  {
   "cell_type": "markdown",
   "metadata": {
    "id": "D5a2ZPy2MBB1"
   },
   "source": [
    "### Q3 (2 points)\n",
    "Consider the if-elseif-else statement, how many elseif are possible between if and else statements?\n",
    "\n",
    "> A. 1\n",
    "\n",
    "> B. 0\n",
    "\n",
    "> C. Multiple\n",
    "\n",
    "> D. None of the above\n"
   ]
  },
  {
   "cell_type": "code",
   "execution_count": 4,
   "metadata": {
    "id": "mEKIS0KHMBB1"
   },
   "outputs": [
    {
     "name": "stdout",
     "output_type": "stream",
     "text": [
      "C\n"
     ]
    }
   ],
   "source": [
    "# print your answer.\n",
    "#We can construct any number of if else ladder \n",
    "#Starting with if() -- mandatory\n",
    "#Ending with else() -- Optional\n",
    "#We can have multiple elif() statements\n",
    "print(\"C\")"
   ]
  },
  {
   "cell_type": "markdown",
   "metadata": {
    "id": "uOT4gIO5MBB2"
   },
   "source": [
    "### Q4 (2 points)\n",
    "What will be the data type of variable 'C' after executing this code ?\n",
    "\n",
    "A = 5\n",
    "\n",
    "B = 6\n",
    "\n",
    "C = print(A/B)\n",
    " \n",
    "> A. Float\n",
    "\n",
    "> B. None-type\n",
    "\n",
    "> C. Int\n",
    "\n",
    "> D. Object\n"
   ]
  },
  {
   "cell_type": "code",
   "execution_count": 5,
   "metadata": {
    "id": "qHc66_slMBB3"
   },
   "outputs": [
    {
     "name": "stdout",
     "output_type": "stream",
     "text": [
      "A\n"
     ]
    }
   ],
   "source": [
    "# print your answer.\n",
    "#type(C)\n",
    "#'/' operator is for regular division gives exact value with decimal -- Float\n",
    "print(\"A\")"
   ]
  },
  {
   "cell_type": "markdown",
   "metadata": {
    "id": "gDoZrMKxMBB3"
   },
   "source": [
    "### Q5 (5 points)\n",
    "Write a function that takes any number N as input and returns the square of that number."
   ]
  },
  {
   "cell_type": "code",
   "execution_count": 6,
   "metadata": {
    "execution": {
     "iopub.execute_input": "2021-12-30T13:14:52.170795Z",
     "iopub.status.busy": "2021-12-30T13:14:52.170290Z",
     "iopub.status.idle": "2021-12-30T13:14:56.494996Z",
     "shell.execute_reply": "2021-12-30T13:14:56.494467Z",
     "shell.execute_reply.started": "2021-12-30T13:14:52.170761Z"
    },
    "id": "LmFDV1hSMBB3"
   },
   "outputs": [
    {
     "name": "stdout",
     "output_type": "stream",
     "text": [
      "9\n",
      "The square of N is:  81\n"
     ]
    }
   ],
   "source": [
    "# complete the code below\n",
    "\n",
    "def fibonacci(N):\n",
    "    \n",
    "    \n",
    "    return N**2\n",
    "\n",
    "\n",
    "N = int(input())\n",
    "\n",
    "print(\"The square of N is: \", fibonacci(N))\n",
    "#print(\"The square of {} is: \".format(N), fibonacci(N)) -- The square of 9 is: 81 (in place of N we get it's value)"
   ]
  },
  {
   "cell_type": "markdown",
   "metadata": {
    "id": "qkK6yM8zMBB4"
   },
   "source": [
    "### Q6 (8 points)\n",
    "Write a program which will find all such numbers which are divisible by 7 but are not a multiple of 5,\n",
    "between 2000 and 3200 (both included). \n",
    "The numbers obtained should be printed in a comma-separated sequence on a single line."
   ]
  },
  {
   "cell_type": "code",
   "execution_count": 7,
   "metadata": {
    "execution": {
     "iopub.execute_input": "2021-12-30T13:18:00.146749Z",
     "iopub.status.busy": "2021-12-30T13:18:00.146388Z",
     "iopub.status.idle": "2021-12-30T13:18:00.150072Z",
     "shell.execute_reply": "2021-12-30T13:18:00.149479Z",
     "shell.execute_reply.started": "2021-12-30T13:18:00.146710Z"
    },
    "id": "5I3wZuJ5MBB4"
   },
   "outputs": [
    {
     "name": "stdout",
     "output_type": "stream",
     "text": [
      "2002,2009,2016,2023,2037,2044,2051,2058,2072,2079,2086,2093,2107,2114,2121,2128,2142,2149,2156,2163,2177,2184,2191,2198,2212,2219,2226,2233,2247,2254,2261,2268,2282,2289,2296,2303,2317,2324,2331,2338,2352,2359,2366,2373,2387,2394,2401,2408,2422,2429,2436,2443,2457,2464,2471,2478,2492,2499,2506,2513,2527,2534,2541,2548,2562,2569,2576,2583,2597,2604,2611,2618,2632,2639,2646,2653,2667,2674,2681,2688,2702,2709,2716,2723,2737,2744,2751,2758,2772,2779,2786,2793,2807,2814,2821,2828,2842,2849,2856,2863,2877,2884,2891,2898,2912,2919,2926,2933,2947,2954,2961,2968,2982,2989,2996,3003,3017,3024,3031,3038,3052,3059,3066,3073,3087,3094,3101,3108,3122,3129,3136,3143,3157,3164,3171,3178,3192,3199"
     ]
    }
   ],
   "source": [
    "# write your solution here\n",
    "\n",
    "#I'm writing it in 3 different styles\n",
    "#1 Using lambda function\n",
    "#2 Using noraml for loop\n",
    "#3 Using Generator expression\n",
    "###in 1 and 2 printing list, using for loop is to eliminate last ','###\n",
    "'''\n",
    "#Style1\n",
    "a=list(filter(lambda n:(n%7==0 and n%5!=0),range(2000,3200+1)))\n",
    "n=len(a)\n",
    "for i in range(n):\n",
    "    if(i==n-1):\n",
    "        print(a[i])\n",
    "    else:\n",
    "        print(a[i],end=',')\n",
    "\n",
    "#Style2\n",
    "a=[]\n",
    "for i in range(2000,3200+1):\n",
    "    if(i%7==0 and i%5!=0):\n",
    "        a.append(i)\n",
    "n=len(a)\n",
    "for i in range(n):\n",
    "    if(i==n-1):\n",
    "        print(a[i])\n",
    "    else:\n",
    "        print(a[i],end=',')\n",
    "'''\n",
    "#Style3\n",
    "print(*(i for i in list(range(2000,3200+1)) if (i%7==0 and i%5!=0)), sep=',', end='')"
   ]
  },
  {
   "cell_type": "markdown",
   "metadata": {
    "id": "eW2kZHF2MBB5"
   },
   "source": [
    "### Q7 (5 points)\n",
    "Write a Python program to accept the user's first and last name and then get them printed in the reverse order with a space between first name and last name."
   ]
  },
  {
   "cell_type": "code",
   "execution_count": 8,
   "metadata": {
    "id": "73ejcwgVMBB5"
   },
   "outputs": [
    {
     "name": "stdout",
     "output_type": "stream",
     "text": [
      "Please enter your first nameV N D S R Prasad\n",
      "Please enter your last nameJettiboina\n",
      "dasarP R S D N V aniobitteJ\n"
     ]
    }
   ],
   "source": [
    "# write your code here\n",
    "#reverse of a string can be obtained simply by using ::-1\n",
    "first_name = input('Please enter your first name')\n",
    "last_name = input('Please enter your last name')\n",
    "\n",
    "print(first_name[::-1]+' '+last_name[::-1])\n",
    "#the above print is (rev(firstname)+space+rev(lastname))\n",
    "#if u mean (lastname+space+firstname) the statement will be\n",
    "#print(last_name+' '+first_name)"
   ]
  },
  {
   "cell_type": "markdown",
   "metadata": {
    "id": "3JWpW06sMBB5"
   },
   "source": [
    "### Q8 (3 points)\n",
    "Given this given nested list, use indexing to grab and print the word \"hello\".\n"
   ]
  },
  {
   "cell_type": "code",
   "execution_count": 9,
   "metadata": {
    "execution": {
     "iopub.execute_input": "2021-12-30T13:24:15.570340Z",
     "iopub.status.busy": "2021-12-30T13:24:15.569584Z",
     "iopub.status.idle": "2021-12-30T13:24:15.575669Z",
     "shell.execute_reply": "2021-12-30T13:24:15.574960Z",
     "shell.execute_reply.started": "2021-12-30T13:24:15.570297Z"
    },
    "id": "yu65O8BEMBB6"
   },
   "outputs": [
    {
     "name": "stdout",
     "output_type": "stream",
     "text": [
      "hello\n"
     ]
    }
   ],
   "source": [
    "lst = [1,2,[3,4],[5,[100,200,['hello']],23,11],1,7]\n",
    "\n",
    "# print the word 'hello' using list indexing \n",
    "print(lst[3][1][2][0])"
   ]
  },
  {
   "cell_type": "markdown",
   "metadata": {
    "id": "sjXLbOxXMBB6"
   },
   "source": [
    "### Q9 (3 points)\n",
    "Write a program to get the index of 'abc' in the list a =['bca', 'cba', 'abc']\n"
   ]
  },
  {
   "cell_type": "code",
   "execution_count": 10,
   "metadata": {
    "id": "J5Vbkz-gMBB6"
   },
   "outputs": [
    {
     "name": "stdout",
     "output_type": "stream",
     "text": [
      "2\n"
     ]
    }
   ],
   "source": [
    "#Write your program here and print index as the output\n",
    "a =['bca', 'cba', 'abc']\n",
    "print(a.index('abc'))"
   ]
  },
  {
   "cell_type": "markdown",
   "metadata": {
    "id": "4kgiFnixMBB6"
   },
   "source": [
    "### Q10 (5 points)\n",
    "Write a program to print the following using while loop\n",
    "\n",
    "> a. First 10 Even numbers\n",
    "\n",
    "> b. First 10 Odd numbers\n"
   ]
  },
  {
   "cell_type": "code",
   "execution_count": 11,
   "metadata": {
    "execution": {
     "iopub.execute_input": "2021-12-30T13:31:07.762045Z",
     "iopub.status.busy": "2021-12-30T13:31:07.761618Z",
     "iopub.status.idle": "2021-12-30T13:31:07.767551Z",
     "shell.execute_reply": "2021-12-30T13:31:07.766669Z",
     "shell.execute_reply.started": "2021-12-30T13:31:07.762013Z"
    },
    "id": "_2VGjdWqMBB7"
   },
   "outputs": [
    {
     "name": "stdout",
     "output_type": "stream",
     "text": [
      "1.even number: 0\n",
      "2.even number: 2\n",
      "3.even number: 4\n",
      "4.even number: 6\n",
      "5.even number: 8\n",
      "6.even number: 10\n",
      "7.even number: 12\n",
      "8.even number: 14\n",
      "9.even number: 16\n",
      "10.even number: 18\n",
      "\n",
      "1.odd number: 1\n",
      "2.odd number: 3\n",
      "3.odd number: 5\n",
      "4.odd number: 7\n",
      "5.odd number: 9\n",
      "6.odd number: 11\n",
      "7.odd number: 13\n",
      "8.odd number: 15\n",
      "9.odd number: 17\n",
      "10.odd number: 19\n"
     ]
    }
   ],
   "source": [
    "c=1\n",
    "i=0\n",
    "while(c<=10):\n",
    "    if(i%2==0):\n",
    "        print('{}.even number:'.format(c),i)\n",
    "        c=c+1\n",
    "    i=i+1\n",
    "print()\n",
    "c=1\n",
    "i=0\n",
    "while(c<=10):\n",
    "    if(i%2!=0):\n",
    "        print('{}.odd number:'.format(c),i)\n",
    "        c=c+1\n",
    "    i=i+1\n",
    "#to write both in a single while loop\n",
    "# e=1\n",
    "# o=1\n",
    "# i=0\n",
    "# while(e<=10 or o<=10):\n",
    "#     if(i%2!=0):\n",
    "#         print('{}.odd number:'.format(o),i)\n",
    "#         o=o+1\n",
    "#     if(i%2==0):\n",
    "#         print('{}.even number:'.format(e),i)\n",
    "#         e=e+1\n",
    "#     i=i+1"
   ]
  },
  {
   "cell_type": "markdown",
   "metadata": {
    "id": "jcsI6ulLMBB7"
   },
   "source": [
    "### Q11 (3 points)\n",
    "For the given program\n",
    "\n",
    "\n",
    "```\n",
    "number = 5\n",
    "while number <= 5:\n",
    "    if number < 5:\n",
    "        number = number + 1\n",
    "    print(number)\n",
    "```\n",
    "\n",
    "\n",
    "\n",
    "* A. The program will loop indefinitely\n",
    "* B. The value of number will be printed exactly 1 time\n",
    "* C. The while loop will never get executed\n",
    "* D. The value of number will be printed exactly 5 times\n"
   ]
  },
  {
   "cell_type": "code",
   "execution_count": 12,
   "metadata": {
    "execution": {
     "iopub.execute_input": "2021-12-30T13:38:10.279245Z",
     "iopub.status.busy": "2021-12-30T13:38:10.278884Z",
     "iopub.status.idle": "2021-12-30T13:38:10.284062Z",
     "shell.execute_reply": "2021-12-30T13:38:10.283092Z",
     "shell.execute_reply.started": "2021-12-30T13:38:10.279210Z"
    },
    "id": "IfADTUT2MBB8"
   },
   "outputs": [
    {
     "name": "stdout",
     "output_type": "stream",
     "text": [
      "A\n"
     ]
    }
   ],
   "source": [
    "# print your answer here\n",
    "#infinite loop coz 'number' wont get updated and while loop will runs continuously coz statement is always true 5<=5\n",
    "print(\"A\")"
   ]
  },
  {
   "cell_type": "markdown",
   "metadata": {
    "id": "gh6aj2lvMBB9"
   },
   "source": [
    "### Q12 (5 points)\n",
    "\n",
    "Share your views on the upcoming Moon Missions. Do you think ISRO will succed with Chandrayaan-3? (Explain in Atleast 100 words) "
   ]
  },
  {
   "cell_type": "code",
   "execution_count": 17,
   "metadata": {
    "id": "Y9DCT-ZJMBB9"
   },
   "outputs": [
    {
     "name": "stdout",
     "output_type": "stream",
     "text": [
      "The interesting upcoming Moon Mission is Artemis.\n",
      "The primary goal of Artemis is to return humans to the Moon, specifically the lunar south pole, by 2025.\n",
      "\n",
      "Chandrayaan-1(Oct,2008) discovered traces of water on the moon and it was a pathbreaking discovery.\n",
      "Chandrayaan-2(Jul,2019) tried to widen research by way of soft landing on the Moon and deploying a rover to study the lunar surface.\n",
      "But, the Vikram lander, of the Chandrayaan 2 mission, crashed on the lunar surface on September 2019, but the scientists founded it on December.Still, its delivering critical observations to India as it completes 9000+ orbits around the Moon.\n",
      "Chandrayaan-3, follow-up of Chandrayaan-2 and very similar also, is planned to launch on 2023, it tries to overcome the challenges faced in Chandrayaan-2 so, the main goal it to have a soft landing on the moon.\n",
      "In Chandrayaan-3 the changes include updated software and algorithms, strengthening of the legs and better power and communication systems.\n",
      "In Chandrayaan3 we can see they are using LDV-Laser Doppler Velocimetry(used to measure the instantaneous velocity of a flow field) for better measurement of speed while landing.\n",
      "ISRO is very confident on Chandrayaan-3 as they made all required changes tho have a soft landing on moon..\n",
      "I think this time they will get success. Let's Hope so. Hail India :)\n"
     ]
    }
   ],
   "source": [
    "# print your answer\n",
    "\n",
    "my_answer = \"The interesting upcoming Moon Mission is Artemis.\\nThe primary goal of Artemis is to return humans to the Moon, specifically the lunar south pole, by 2025.\\n\\nChandrayaan-1(Oct,2008) discovered traces of water on the moon and it was a pathbreaking discovery.\\nChandrayaan-2(Jul,2019) tried to widen research by way of soft landing on the Moon and deploying a rover to study the lunar surface.\\nBut, the Vikram lander, of the Chandrayaan 2 mission, crashed on the lunar surface on September 2019, but the scientists founded it on December.Still, its delivering critical observations to India as it completes 9000+ orbits around the Moon.\\nChandrayaan-3, follow-up of Chandrayaan-2 and very similar also, is planned to launch on 2023, it tries to overcome the challenges faced in Chandrayaan-2 so, the main goal it to have a soft landing on the moon.\\nIn Chandrayaan-3 the changes include updated software and algorithms, strengthening of the legs and better power and communication systems.\\nIn Chandrayaan3 we can see they are using LDV-Laser Doppler Velocimetry(used to measure the instantaneous velocity of a flow field) for better measurement of speed while landing.\\nISRO is very confident on Chandrayaan-3 as they made all required changes tho have a soft landing on moon..\\nI think this time they will get success. Let's Hope so. Hail India :)\"\n",
    "\n",
    "print(my_answer)"
   ]
  },
  {
   "cell_type": "markdown",
   "metadata": {
    "id": "A8aUy0tHMBB9"
   },
   "source": [
    "### Q13 (5 points)\n",
    "\n",
    "Describe your experience while learning python so far. Now that you are somewhat familiar with this tool, can you name some more use cases and examples where we can use python. (Atleast 150 words)"
   ]
  },
  {
   "cell_type": "code",
   "execution_count": 14,
   "metadata": {
    "id": "OvZrki2iMBB9"
   },
   "outputs": [
    {
     "name": "stdout",
     "output_type": "stream",
     "text": [
      "I learned python in my 2nd year of B.Tech and my competitive programming skills geared up as python is simple and easy(lol to be frank we can get done with very few lines of code).\n",
      "Then we started some learning groups in our college there we planned to learn trending technologies like Machine learning and Data Science there we choose python as a language to learn those skills then our opinion towards python has changes we see python as a magic as it has many wonderful libraries to work with.\n",
      "In our final year project we used python to build an app and in our free times we do some crazy works using python like automation of some repetitive tasks done by PC.\n",
      "In my opinion python is a Magic we can do anything we want\n",
      "Python is used for\n",
      "1.Competitive Programming\n",
      "2.Building apps\n",
      "3.Machine Learning, Deep Learning, Artificial Intelligence\n",
      "4.Data Science\n",
      "5.Automation and Scripting\n",
      "6.Simply Everything lol\n"
     ]
    }
   ],
   "source": [
    "# print your answer\n",
    "\n",
    "my_answer = \"I learned python in my 2nd year of B.Tech and my competitive programming skills geared up as python is simple and easy(lol to be frank we can get done with very few lines of code).\\nThen we started some learning groups in our college there we planned to learn trending technologies like Machine learning and Data Science there we choose python as a language to learn those skills then our opinion towards python has changes we see python as a magic as it has many wonderful libraries to work with.\\nIn our final year project we used python to build an app and in our free times we do some crazy works using python like automation of some repetitive tasks done by PC.\\nIn my opinion python is a Magic we can do anything we want\\nPython is used for\\n1.Competitive Programming\\n2.Building apps\\n3.Machine Learning, Deep Learning, Artificial Intelligence\\n4.Data Science\\n5.Automation and Scripting\\n6.Simply Everything lol\"\n",
    "\n",
    "print(my_answer)"
   ]
  },
  {
   "cell_type": "markdown",
   "metadata": {
    "id": "V-EtNtnsMBB9"
   },
   "source": [
    "### Q14 (Bonus)\n",
    "Tell us anything very interesting. And try asking a very intelligent question."
   ]
  },
  {
   "cell_type": "code",
   "execution_count": 15,
   "metadata": {
    "id": "aP3FbDy4MBB-"
   },
   "outputs": [
    {
     "name": "stdout",
     "output_type": "stream",
     "text": [
      "The Sun is not on fire!!!The Sun doesn't burn means there are no flames.\n",
      "There is no Oxygen in space. Fire needs Oxygen. The Sun is fueled by thermonuclear fusion reactions. Fire is a chemical reaction.\n",
      "Question: How u going to validate these notebooks? By looking it manually or have u written any automation script for it in Python :)?\n"
     ]
    }
   ],
   "source": [
    "# print your answer\n",
    "\n",
    "my_answer = \"The Sun is not on fire!!!The Sun doesn't burn means there are no flames.\\nThere is no Oxygen in space. Fire needs Oxygen. The Sun is fueled by thermonuclear fusion reactions. Fire is a chemical reaction.\\nQuestion: How u going to validate these notebooks? By looking it manually or have u written any automation script for it in Python :)?\"\n",
    "\n",
    "print(my_answer)"
   ]
  },
  {
   "cell_type": "markdown",
   "metadata": {
    "id": "EKwUJmuZMBB-"
   },
   "source": [
    "## Thank you for completing all the questions\n",
    "\n",
    "\n",
    "#### Download your notebook and submit it in the google form"
   ]
  },
  {
   "cell_type": "code",
   "execution_count": null,
   "metadata": {
    "id": "KTavJZuFM474"
   },
   "outputs": [],
   "source": []
  }
 ],
 "metadata": {
  "colab": {
   "collapsed_sections": [],
   "name": "Assignment-1-aiforlr.ipynb",
   "provenance": [
    {
     "file_id": "1hAfZugzbS9dE_PfzLU8aG9yvOFdEHk2Q",
     "timestamp": 1646234543688
    }
   ],
   "toc_visible": true
  },
  "kernelspec": {
   "display_name": "Python 3 (ipykernel)",
   "language": "python",
   "name": "python3"
  },
  "language_info": {
   "codemirror_mode": {
    "name": "ipython",
    "version": 3
   },
   "file_extension": ".py",
   "mimetype": "text/x-python",
   "name": "python",
   "nbconvert_exporter": "python",
   "pygments_lexer": "ipython3",
   "version": "3.9.7"
  }
 },
 "nbformat": 4,
 "nbformat_minor": 1
}
