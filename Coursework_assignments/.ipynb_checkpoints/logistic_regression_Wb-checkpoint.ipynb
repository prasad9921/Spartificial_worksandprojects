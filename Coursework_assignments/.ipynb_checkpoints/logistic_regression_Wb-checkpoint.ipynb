{
 "cells": [
  {
   "cell_type": "code",
   "execution_count": 1,
   "id": "b2112a61",
   "metadata": {},
   "outputs": [],
   "source": [
    "def rnorm(n,mean=0,sd=1):\n",
    "    \"\"\"\n",
    "    Generates random variables from the normal distribution\n",
    "    \"\"\"\n",
    "    from scipy.stats import norm\n",
    "    result=norm.rvs(size=n,loc=mean,scale=sd)\n",
    "    return result"
   ]
  },
  {
   "cell_type": "code",
   "execution_count": 2,
   "id": "e59d5480",
   "metadata": {},
   "outputs": [],
   "source": [
    "def rbinorm(n,size,prob=0.5):\n",
    "    \"\"\"\n",
    "    Generates random variables from the binomial distribution\n",
    "    \"\"\"\n",
    "    from scipy.stats import binom\n",
    "    result=binom.rvs(n=size,p=prob,size=n)\n",
    "    return result"
   ]
  },
  {
   "cell_type": "code",
   "execution_count": 3,
   "id": "6777eb63",
   "metadata": {},
   "outputs": [],
   "source": [
    "import numpy as np\n",
    "\n",
    "sample_size = 100\n",
    "beta_0 = -2\n",
    "beta_1 = 3\n",
    "\n",
    "X = rnorm(n=sample_size)\n",
    "eta = beta_0 + beta_1 * X\n",
    "p = 1 / (1 + np.exp(-eta))\n",
    "y = rbinorm(n = sample_size, size = 1, prob = p)"
   ]
  },
  {
   "cell_type": "code",
   "execution_count": 4,
   "id": "95ac8f48",
   "metadata": {},
   "outputs": [],
   "source": [
    "X = np.reshape(X, (sample_size,1))\n",
    "y = np.reshape(y, (sample_size,1))"
   ]
  },
  {
   "cell_type": "code",
   "execution_count": 5,
   "id": "327cf14f",
   "metadata": {},
   "outputs": [
    {
     "data": {
      "text/plain": [
       "<Figure size 432x288 with 0 Axes>"
      ]
     },
     "execution_count": 5,
     "metadata": {},
     "output_type": "execute_result"
    },
    {
     "data": {
      "image/png": "[encoded data removed]",
      "text/plain": [
       "<Figure size 432x288 with 1 Axes>"
      ]
     },
     "metadata": {
      "needs_background": "light"
     },
     "output_type": "display_data"
    },
    {
     "data": {
      "text/plain": [
       "<Figure size 432x288 with 0 Axes>"
      ]
     },
     "metadata": {},
     "output_type": "display_data"
    }
   ],
   "source": [
    "import matplotlib.pyplot as plt\n",
    "\n",
    "# Scatter plot\n",
    "plt.scatter(X, y)\n",
    "plt.xlabel('Brightness')\n",
    "plt.ylabel('Size')\n",
    "plt.title('Brightness of Star vs Size of Star')\n",
    "plt.figure()"
   ]
  },
  {
   "cell_type": "code",
   "execution_count": 6,
   "id": "bce92a49",
   "metadata": {},
   "outputs": [
    {
     "data": {
      "text/plain": [
       "(100, 1)"
      ]
     },
     "execution_count": 6,
     "metadata": {},
     "output_type": "execute_result"
    }
   ],
   "source": [
    "m, n = X.shape\n",
    "m, n"
   ]
  },
  {
   "cell_type": "code",
   "execution_count": 7,
   "id": "1dce61f1",
   "metadata": {},
   "outputs": [],
   "source": [
    "W = np.zeros(n)\n",
    "b = 0\n",
    "\n",
    "iterations = 1000\n",
    "learning_rate = 0.01"
   ]
  },
  {
   "cell_type": "code",
   "execution_count": 8,
   "id": "b4e0029e",
   "metadata": {},
   "outputs": [],
   "source": [
    "def sigmoid(s):\n",
    "    Z = 1.0 / (1 + np.exp(-s)) \n",
    "    return Z"
   ]
  },
  {
   "cell_type": "code",
   "execution_count": 9,
   "id": "b3b05275",
   "metadata": {},
   "outputs": [],
   "source": [
    "def predict(X, W, b):\n",
    "    k = sigmoid(W*X + b)\n",
    "    #y_pred = np.where( k > 0.5, 1, 0 )  \n",
    "    return k"
   ]
  },
  {
   "cell_type": "code",
   "execution_count": 12,
   "id": "fc123de7",
   "metadata": {},
   "outputs": [],
   "source": [
    "def cost_function(X, y, W, b):\n",
    "    '''\n",
    "    Using Mean Absolute Error\n",
    "\n",
    "    Features:(100,3)\n",
    "    Labels: (100,1)\n",
    "    Weights:(3,1)\n",
    "    Returns 1D matrix of predictions\n",
    "    Cost = (labels*log(predictions) + (1-labels)*log(1-predictions) ) / len(labels)\n",
    "    '''\n",
    "    observations = len(y)\n",
    "\n",
    "    predictions = predict(X, W, b)\n",
    "\n",
    "    #Take the error when label=1\n",
    "    class1_cost = -y*np.log(predictions)\n",
    "\n",
    "    #Take the error when label=0\n",
    "    class2_cost = (1-y)*np.log(1-predictions)\n",
    "\n",
    "    #Take the sum of both costs\n",
    "    cost = class1_cost - class2_cost\n",
    "\n",
    "    #Take the average cost\n",
    "    cost = cost.sum() / observations\n",
    "\n",
    "    return cost"
   ]
  },
  {
   "cell_type": "code",
   "execution_count": 13,
   "id": "3397f60a",
   "metadata": {},
   "outputs": [],
   "source": [
    "def update_weights(X, y, W, b, learning_rate):\n",
    "    #1 - Get Predictions\n",
    "    predictions = predict(X, W, b)\n",
    "    \n",
    "    m, n = X.shape    \n",
    "    tmp = (predictions - y)        \n",
    "    tmp = np.reshape(tmp, m)   \n",
    "    gradient = np.dot(X.T,  tmp)\n",
    "    \n",
    "    dW = np.dot(X.T, tmp) / m         \n",
    "    db = np.sum(tmp) / m \n",
    "          \n",
    "    # update weights    \n",
    "    W = W - learning_rate * dW    \n",
    "    b = b - learning_rate * db\n",
    "\n",
    "    return W, b"
   ]
  },
  {
   "cell_type": "code",
   "execution_count": 14,
   "id": "423fe543",
   "metadata": {},
   "outputs": [],
   "source": [
    "def train(X, y, W, b, learning_rate, iterations):\n",
    "    costs = []\n",
    "\n",
    "    for i in range(iterations):\n",
    "        W, b = update_weights(X, y, W, b, learning_rate)\n",
    "\n",
    "        #Calculate cost for auditing purposes\n",
    "        cost = cost_function(X, y, W, b)\n",
    "        costs.append(cost)\n",
    "\n",
    "        # Log Progress\n",
    "        if i % 100 == 0:\n",
    "            print(\"iter={}, weight={}, bias={}, cost={}\".format(i, W, b, cost))\n",
    "\n",
    "    return W, b, costs"
   ]
  },
  {
   "cell_type": "code",
   "execution_count": 15,
   "id": "b49a56e8",
   "metadata": {},
   "outputs": [
    {
     "name": "stdout",
     "output_type": "stream",
     "text": [
      "iter=0, weight=[0.00307377], bias=-0.002, cost=0.6918041511930193\n",
      "iter=100, weight=[0.2730425], bias=-0.17803108029256626, cost=0.5874897000620112\n",
      "iter=200, weight=[0.48407623], bias=-0.31556150232514774, cost=0.5238299618174653\n",
      "iter=300, weight=[0.65457676], bias=-0.42561179523207826, cost=0.482552138862566\n",
      "iter=400, weight=[0.79675128], bias=-0.5158454753681093, cost=0.4541500297121428\n",
      "iter=500, weight=[0.91837088], bias=-0.5914213650399311, cost=0.43362320404115295\n",
      "iter=600, weight=[1.02448739], bias=-0.6558624897091739, cost=0.41819692735086944\n",
      "iter=700, weight=[1.11850865], bias=-0.7116389138061343, cost=0.4062385779376867\n",
      "iter=800, weight=[1.20282279], bias=-0.7605300771881682, cost=0.39673502162852337\n",
      "iter=900, weight=[1.2791625], bias=-0.8038500758374649, cost=0.38902801330345327\n"
     ]
    }
   ],
   "source": [
    "costs = np.zeros(iterations)\n",
    "\n",
    "# Running Gradient Descent\n",
    "#W, b, costs = gradient_descent(X, y, W, b, learning_rate, iterations)\n",
    "W, b, costs = train(X, y, W, b, learning_rate, iterations)"
   ]
  },
  {
   "cell_type": "code",
   "execution_count": 16,
   "id": "28b3da2b",
   "metadata": {},
   "outputs": [
    {
     "data": {
      "text/plain": [
       "array([1.34815675])"
      ]
     },
     "execution_count": 16,
     "metadata": {},
     "output_type": "execute_result"
    }
   ],
   "source": [
    "W"
   ]
  },
  {
   "cell_type": "code",
   "execution_count": 17,
   "id": "94d10c2c",
   "metadata": {},
   "outputs": [
    {
     "name": "stdout",
     "output_type": "stream",
     "text": [
      "Final W value: [1.34815675]\n",
      "Final b value: -0.8422234118341051\n",
      "Final Cost/MSE(L2 Loss) Value: 0.38273080433109136\n"
     ]
    }
   ],
   "source": [
    "# printing final values.\n",
    "print('Final W value: {}\\nFinal b value: {}'.format(W, b))\n",
    "print('Final Cost/MSE(L2 Loss) Value: {}'.format(costs[-1]))"
   ]
  },
  {
   "cell_type": "code",
   "execution_count": 33,
   "id": "02477325",
   "metadata": {},
   "outputs": [
    {
     "data": {
      "text/plain": [
       "Text(0.5, 1.0, 'Cost vs Iterations Analysis')"
      ]
     },
     "execution_count": 33,
     "metadata": {},
     "output_type": "execute_result"
    },
    {
     "data": {
      "image/png": "[encoded data removed]",
      "text/plain": [
       "<Figure size 432x288 with 1 Axes>"
      ]
     },
     "metadata": {
      "needs_background": "light"
     },
     "output_type": "display_data"
    }
   ],
   "source": [
    "# Plotting Line Plot for Number of Iterations vs MSE\n",
    "plt.plot(range(iterations), costs)\n",
    "plt.xlabel('Number of Iterations')\n",
    "plt.ylabel('Mean Squared Error')\n",
    "plt.title('Cost vs Iterations Analysis')"
   ]
  },
  {
   "cell_type": "code",
   "execution_count": 34,
   "id": "876bcf3c",
   "metadata": {},
   "outputs": [
    {
     "name": "stdout",
     "output_type": "stream",
     "text": [
      "Data point: [ 0.32688443  0.3778124   0.36258627 -0.36204559  1.3093888  -1.18031313\n",
      "  1.21097586 -1.52408372 -2.57779491 -0.15092941 -0.07100036  1.08194734\n",
      "  0.15755951 -0.70859438  1.95581242 -2.26557277 -1.42723223  0.75770263\n",
      "  0.71454199  1.65798728 -1.3231332  -0.66943952  0.31765527  0.57056498\n",
      "  0.47977824], [0 1 1 0 1 0 1 0 0 0 0 1 0 0 1 0 0 0 1 1 0 0 0 1 0]\n"
     ]
    }
   ],
   "source": [
    "# Prediction\n",
    "\n",
    "# Generate data points like before\n",
    "X_test = rnorm(n=25)\n",
    "eta = beta_0 + beta_1 * X_test\n",
    "p = 1 / (1 + np.exp(-eta))\n",
    "y_test = rbinorm(n = 25, size = 1, prob = p)\n",
    "\n",
    "# Show the data points\n",
    "data_string = 'Data point: {}, {}'\n",
    "print(data_string.format(X_test, y_test))"
   ]
  },
  {
   "cell_type": "code",
   "execution_count": 35,
   "id": "1a5ffa77",
   "metadata": {},
   "outputs": [
    {
     "data": {
      "text/plain": [
       "array([0.40094433, 0.41754172, 0.41255811, 0.20910683, 0.7156607 ,\n",
       "       0.08065575, 0.68790902, 0.05230567, 0.0131578 , 0.26005169,\n",
       "       0.28131603, 0.64940189, 0.34755396, 0.14215326, 0.85748034,\n",
       "       0.01990711, 0.05916953, 0.54469997, 0.53023586, 0.80107128,\n",
       "       0.06748283, 0.14871278, 0.39795954, 0.48175501, 0.45130307])"
      ]
     },
     "execution_count": 35,
     "metadata": {},
     "output_type": "execute_result"
    }
   ],
   "source": [
    "prediction = predict(X_test, W, b)\n",
    "prediction"
   ]
  },
  {
   "cell_type": "code",
   "execution_count": 36,
   "id": "ded46d51",
   "metadata": {},
   "outputs": [
    {
     "data": {
      "text/plain": [
       "25"
      ]
     },
     "execution_count": 36,
     "metadata": {},
     "output_type": "execute_result"
    }
   ],
   "source": [
    "len(prediction)"
   ]
  },
  {
   "cell_type": "code",
   "execution_count": 29,
   "id": "3c9f5d3a",
   "metadata": {},
   "outputs": [],
   "source": [
    "def accuracy(predicted_labels, actual_labels):\n",
    "    diff = predicted_labels - actual_labels\n",
    "    return 1.0 - (float(np.count_nonzero(diff)) / len(diff))"
   ]
  },
  {
   "cell_type": "code",
   "execution_count": 30,
   "id": "793ac42e",
   "metadata": {},
   "outputs": [],
   "source": [
    "def decision_boundary(prob):\n",
    "    return 1 if prob >= .5 else 0"
   ]
  },
  {
   "cell_type": "code",
   "execution_count": 37,
   "id": "4459cea2",
   "metadata": {},
   "outputs": [],
   "source": [
    "def classify(prediction):\n",
    "    db = np.zeros(len(prediction))\n",
    "    for i in range(len(prediction)):\n",
    "        if prediction[i] >= 0.5:\n",
    "            db[i] = 1    \n",
    "    return db.flatten()"
   ]
  },
  {
   "cell_type": "code",
   "execution_count": 38,
   "id": "0e4c85f0",
   "metadata": {},
   "outputs": [
    {
     "data": {
      "text/plain": [
       "0.84"
      ]
     },
     "execution_count": 38,
     "metadata": {},
     "output_type": "execute_result"
    }
   ],
   "source": [
    "classifications = classify(prediction)\n",
    "accuracy(classifications, y_test)"
   ]
  },
  {
   "cell_type": "code",
   "execution_count": 39,
   "id": "a5212aae",
   "metadata": {},
   "outputs": [
    {
     "data": {
      "text/plain": [
       "[<matplotlib.lines.Line2D at 0x1f7f4a9aba8>]"
      ]
     },
     "execution_count": 39,
     "metadata": {},
     "output_type": "execute_result"
    },
    {
     "data": {
      "image/png": "[encoded data removed]",
      "text/plain": [
       "<Figure size 432x288 with 1 Axes>"
      ]
     },
     "metadata": {
      "needs_background": "light"
     },
     "output_type": "display_data"
    }
   ],
   "source": [
    "plt.scatter(X_test, y_test, color=\"blue\", label=\"original\")\n",
    "plt.plot(X_test, prediction, color=\"red\", label=\"predicted\")"
   ]
  },
  {
   "cell_type": "code",
   "execution_count": 56,
   "id": "da41ae80",
   "metadata": {},
   "outputs": [
    {
     "name": "stdout",
     "output_type": "stream",
     "text": [
      "Data point: [0.0044498], [0]\n"
     ]
    }
   ],
   "source": [
    "# Let's talk about one star now!\n",
    "\n",
    "#Generate one data point\n",
    "X_test = rnorm(n=1)\n",
    "eta = beta_0 + beta_1 * X_test\n",
    "p = 1 / (1 + np.exp(-eta))\n",
    "y_test = rbinorm(n=1, size = 1, prob = p)\n",
    "\n",
    "# Show the data point\n",
    "data_string = 'Data point: {}, {}'\n",
    "print(data_string.format(X_test, y_test))"
   ]
  },
  {
   "cell_type": "code",
   "execution_count": 57,
   "id": "d4e72d94",
   "metadata": {},
   "outputs": [
    {
     "data": {
      "text/plain": [
       "1.0"
      ]
     },
     "execution_count": 57,
     "metadata": {},
     "output_type": "execute_result"
    }
   ],
   "source": [
    "prediction = predict(X_test, W, b)\n",
    "#prediction\n",
    "classifications = classify(prediction)\n",
    "accuracy(classifications, y_test)"
   ]
  },
  {
   "cell_type": "code",
   "execution_count": 58,
   "id": "7a08f141",
   "metadata": {},
   "outputs": [
    {
     "name": "stdout",
     "output_type": "stream",
     "text": [
      "We've got a cute lil star!\n"
     ]
    }
   ],
   "source": [
    "if prediction >= 0.5:\n",
    "    print('We\\'ve got a big star..')\n",
    "else:\n",
    "    print('We\\'ve got a cute lil star!')"
   ]
  },
  {
   "cell_type": "code",
   "execution_count": null,
   "id": "bcf68729",
   "metadata": {},
   "outputs": [],
   "source": []
  },
  {
   "cell_type": "code",
   "execution_count": null,
   "id": "73e942df",
   "metadata": {},
   "outputs": [],
   "source": []
  }
 ],
 "metadata": {
  "kernelspec": {
   "display_name": "Python 3 (ipykernel)",
   "language": "python",
   "name": "python3"
  },
  "language_info": {
   "codemirror_mode": {
    "name": "ipython",
    "version": 3
   },
   "file_extension": ".py",
   "mimetype": "text/x-python",
   "name": "python",
   "nbconvert_exporter": "python",
   "pygments_lexer": "ipython3",
   "version": "3.9.7"
  }
 },
 "nbformat": 4,
 "nbformat_minor": 5
}
