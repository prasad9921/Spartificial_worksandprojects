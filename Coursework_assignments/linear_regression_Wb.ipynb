{
 "cells": [
  {
   "cell_type": "code",
   "execution_count": null,
   "id": "8135c1d1",
   "metadata": {
    "id": "8135c1d1",
    "outputId": "e497148c-9710-4ed9-fc6c-754821a893d9"
   },
   "outputs": [
    {
     "data": {
      "text/plain": [
       "<Figure size 1080x1800 with 0 Axes>"
      ]
     },
     "execution_count": 1,
     "metadata": {},
     "output_type": "execute_result"
    },
    {
     "data": {
      "image/png": "[encoded data removed]",
      "text/plain": [
       "<Figure size 432x288 with 1 Axes>"
      ]
     },
     "metadata": {
      "needs_background": "light"
     },
     "output_type": "display_data"
    },
    {
     "data": {
      "text/plain": [
       "<Figure size 1080x1800 with 0 Axes>"
      ]
     },
     "metadata": {},
     "output_type": "display_data"
    }
   ],
   "source": [
    "# Importing Libraries\n",
    "import numpy as np\n",
    "import matplotlib.pyplot as plt\n",
    "\n",
    "# Generating Randomized dataset\n",
    "X = 3*np.random.rand(100,1)\n",
    "y = 9 + 2*X+np.random.rand(100,1)\n",
    "\n",
    "# Scatter plot\n",
    "plt.scatter(X,y)\n",
    "plt.xlabel('Brightness')\n",
    "plt.ylabel('Size')\n",
    "plt.title('Brightness of Star vs Size of Star')\n",
    "plt.figure(figsize=(15,25))"
   ]
  },
  {
   "cell_type": "code",
   "execution_count": null,
   "id": "b153b442",
   "metadata": {
    "id": "b153b442",
    "outputId": "3822cbc6-8560-479d-d337-52dc4e35b11b"
   },
   "outputs": [
    {
     "data": {
      "text/plain": [
       "11.913405954674332"
      ]
     },
     "execution_count": 2,
     "metadata": {},
     "output_type": "execute_result"
    }
   ],
   "source": [
    "# getting the threshold\n",
    "\n",
    "thresh = np.median(y)\n",
    "thresh\n",
    "\n",
    "# now we are concluding that if size of star is bigger than thresh, then it is a BIG star\n",
    "# otherwise it's a SMALL star"
   ]
  },
  {
   "cell_type": "code",
   "execution_count": null,
   "id": "5282de57",
   "metadata": {
    "id": "5282de57",
    "outputId": "eccc1cc0-45ac-4ebb-941e-0624c50307ba"
   },
   "outputs": [
    {
     "data": {
      "text/plain": [
       "(100, 1)"
      ]
     },
     "execution_count": 26,
     "metadata": {},
     "output_type": "execute_result"
    }
   ],
   "source": [
    "m, n = X.shape\n",
    "m, n"
   ]
  },
  {
   "cell_type": "code",
   "execution_count": null,
   "id": "22397f92",
   "metadata": {
    "id": "22397f92"
   },
   "outputs": [],
   "source": [
    "W = np.zeros(n)\n",
    "b = 0\n",
    "\n",
    "iterations = 1000\n",
    "learning_rate = 0.01"
   ]
  },
  {
   "cell_type": "code",
   "execution_count": null,
   "id": "f6643906",
   "metadata": {
    "id": "f6643906"
   },
   "outputs": [],
   "source": [
    "def predict(X, W, b):\n",
    "    return W*X + b"
   ]
  },
  {
   "cell_type": "code",
   "execution_count": null,
   "id": "dbd852f8",
   "metadata": {
    "id": "dbd852f8"
   },
   "outputs": [],
   "source": [
    "def cost_function(X, y, W, b):\n",
    "    n = len(X)\n",
    "    total_error = 0.0\n",
    "    for i in range(n):\n",
    "        total_error += (y[i] - (W*X[i] + b))**2\n",
    "    return total_error / n"
   ]
  },
  {
   "cell_type": "code",
   "execution_count": null,
   "id": "ba1cd681",
   "metadata": {
    "id": "ba1cd681"
   },
   "outputs": [],
   "source": [
    "def update_weights(X, y, W, b, learning_rate):\n",
    "    dW = 0\n",
    "    db = 0\n",
    "    n = len(X)\n",
    "\n",
    "    for i in range(n):\n",
    "        # Calculate partial derivatives\n",
    "        # -2x(y - (mx + b))\n",
    "        dW += -2*X[i] * (y[i] - (W*X[i] + b))\n",
    "\n",
    "        # -2(y - (mx + b))\n",
    "        db += -2*(y[i] - (W*X[i] + b))\n",
    "\n",
    "    # We subtract because the derivatives point in direction of steepest ascent\n",
    "    W -= (dW / n) * learning_rate\n",
    "    b -= (db / n) * learning_rate\n",
    "\n",
    "    return W, b"
   ]
  },
  {
   "cell_type": "code",
   "execution_count": null,
   "id": "bf2d8e30",
   "metadata": {
    "id": "bf2d8e30"
   },
   "outputs": [],
   "source": [
    "def train(X, y, W, b, learning_rate, iterations):\n",
    "    costs = []\n",
    "\n",
    "    for i in range(iterations):\n",
    "        W, b = update_weights(X, y, W, b, learning_rate)\n",
    "\n",
    "        #Calculate cost for auditing purposes\n",
    "        cost = cost_function(X, y, W, b)\n",
    "        costs.append(cost)\n",
    "\n",
    "        # Log Progress\n",
    "        if i % 10 == 0:\n",
    "            print(\"iter={}, weight={}, bias={}, cost={}\".format(i, W, b, cost))\n",
    "\n",
    "    return W, b, costs"
   ]
  },
  {
   "cell_type": "code",
   "execution_count": null,
   "id": "11396b5c",
   "metadata": {
    "id": "11396b5c",
    "outputId": "57e7c435-a1c6-430b-bc67-907af3938990"
   },
   "outputs": [
    {
     "name": "stdout",
     "output_type": "stream",
     "text": [
      "iter=0, weight=[0.37205065], bias=[0.24492431], cost=[134.22243698]\n",
      "iter=10, weight=[2.87497478], bias=[2.01007483], cost=[39.81410901]\n",
      "iter=20, weight=[4.01070859], bias=[3.00080629], cost=[16.95973397]\n",
      "iter=30, weight=[4.48823411], bias=[3.61051632], cost=[10.9306398]\n",
      "iter=40, weight=[4.65051041], bias=[4.02987744], cost=[8.90265844]\n",
      "iter=50, weight=[4.66336443], bias=[4.35143886], cost=[7.86679172]\n",
      "iter=60, weight=[4.60690556], bias=[4.62024994], cost=[7.11337774]\n",
      "iter=70, weight=[4.51976622], bias=[4.85836023], cost=[6.47173098]\n",
      "iter=80, weight=[4.42051196], bias=[5.07667711], cost=[5.89780136]\n",
      "iter=90, weight=[4.31800282], bias=[5.28070479], cost=[5.37756235]\n",
      "iter=100, weight=[4.21640752], bias=[5.47332228], cost=[4.90435062]\n",
      "iter=110, weight=[4.11762981], bias=[5.65612829], cost=[4.47352904]\n",
      "iter=120, weight=[4.02248248], bias=[5.8300925], cost=[4.0812098]\n",
      "iter=130, weight=[3.93125532], bias=[5.99587125], cost=[3.72393075]\n",
      "iter=140, weight=[3.84398972], bias=[6.15396067], cost=[3.39855728]\n",
      "iter=150, weight=[3.7606114], bias=[6.3047712], cost=[3.10223902]\n",
      "iter=160, weight=[3.68099438], bias=[6.44866403], cost=[2.83238111]\n",
      "iter=170, weight=[3.60499181], bias=[6.58596909], cost=[2.58662067]\n",
      "iter=180, weight=[3.53245062], bias=[6.71699408], cost=[2.36280584]\n",
      "iter=190, weight=[3.46321851], bias=[6.8420292], cost=[2.15897696]\n",
      "iter=200, weight=[3.39714712], bias=[6.96134972], cost=[1.97334934]\n",
      "iter=210, weight=[3.3340934], bias=[7.07521749], cost=[1.80429767]\n",
      "iter=220, weight=[3.27392012], bias=[7.18388204], cost=[1.65034176]\n",
      "iter=230, weight=[3.21649599], bias=[7.28758129], cost=[1.51013362]\n",
      "iter=240, weight=[3.16169556], bias=[7.38654221], cost=[1.38244562]\n",
      "iter=250, weight=[3.10939901], bias=[7.48098134], cost=[1.26615974]\n",
      "iter=260, weight=[3.05949198], bias=[7.57110531], cost=[1.16025782]\n",
      "iter=270, weight=[3.0118653], bias=[7.6571113], cost=[1.06381259]\n",
      "iter=280, weight=[2.96641478], bias=[7.73918748], cost=[0.97597961]\n",
      "iter=290, weight=[2.92304099], bias=[7.81751341], cost=[0.89598984]\n",
      "iter=300, weight=[2.88164906], bias=[7.89226045], cost=[0.82314289]\n",
      "iter=310, weight=[2.84214841], bias=[7.96359212], cost=[0.75680094]\n",
      "iter=320, weight=[2.80445263], bias=[8.03166449], cost=[0.69638311]\n",
      "iter=330, weight=[2.76847926], bias=[8.09662648], cost=[0.6413604]\n",
      "iter=340, weight=[2.7341496], bias=[8.1586202], cost=[0.59125104]\n",
      "iter=350, weight=[2.70138854], bias=[8.21778129], cost=[0.54561629]\n",
      "iter=360, weight=[2.6701244], bias=[8.27423917], cost=[0.50405657]\n",
      "iter=370, weight=[2.64028879], bias=[8.32811737], cost=[0.46620799]\n",
      "iter=380, weight=[2.61181644], bias=[8.37953375], cost=[0.43173918]\n",
      "iter=390, weight=[2.58464506], bias=[8.4286008], cost=[0.40034832]\n",
      "iter=400, weight=[2.5587152], bias=[8.47542586], cost=[0.37176056]\n",
      "iter=410, weight=[2.53397014], bias=[8.52011137], cost=[0.34572559]\n",
      "iter=420, weight=[2.51035573], bias=[8.56275511], cost=[0.32201547]\n",
      "iter=430, weight=[2.48782032], bias=[8.60345035], cost=[0.30042258]\n",
      "iter=440, weight=[2.4663146], bias=[8.64228614], cost=[0.28075787]\n",
      "iter=450, weight=[2.44579153], bias=[8.67934743], cost=[0.26284915]\n",
      "iter=460, weight=[2.4262062], bias=[8.71471531], cost=[0.24653962]\n",
      "iter=470, weight=[2.40751577], bias=[8.74846715], cost=[0.23168648]\n",
      "iter=480, weight=[2.38967935], bias=[8.78067679], cost=[0.21815968]\n",
      "iter=490, weight=[2.37265792], bias=[8.81141469], cost=[0.20584078]\n",
      "iter=500, weight=[2.35641424], bias=[8.84074812], cost=[0.19462191]\n",
      "iter=510, weight=[2.34091276], bias=[8.86874123], cost=[0.18440486]\n",
      "iter=520, weight=[2.32611958], bias=[8.89545527], cost=[0.17510015]\n",
      "iter=530, weight=[2.31200234], bias=[8.92094869], cost=[0.16662633]\n",
      "iter=540, weight=[2.29853015], bias=[8.94527725], cost=[0.15890919]\n",
      "iter=550, weight=[2.28567353], bias=[8.96849419], cost=[0.15188116]\n",
      "iter=560, weight=[2.27340436], bias=[8.99065029], cost=[0.14548072]\n",
      "iter=570, weight=[2.2616958], bias=[9.01179403], cost=[0.13965181]\n",
      "iter=580, weight=[2.25052222], bias=[9.03197166], cost=[0.13434341]\n",
      "iter=590, weight=[2.2398592], bias=[9.05122734], cost=[0.12950903]\n",
      "iter=600, weight=[2.22968339], bias=[9.06960317], cost=[0.12510635]\n",
      "iter=610, weight=[2.21997254], bias=[9.08713937], cost=[0.12109681]\n",
      "iter=620, weight=[2.21070539], bias=[9.10387431], cost=[0.11744531]\n",
      "iter=630, weight=[2.20186169], bias=[9.11984458], cost=[0.11411987]\n",
      "iter=640, weight=[2.19342207], bias=[9.13508514], cost=[0.11109139]\n",
      "iter=650, weight=[2.18536808], bias=[9.14962932], cost=[0.10833334]\n",
      "iter=660, weight=[2.1776821], bias=[9.16350895], cost=[0.10582158]\n",
      "iter=670, weight=[2.1703473], bias=[9.17675438], cost=[0.1035341]\n",
      "iter=680, weight=[2.16334765], bias=[9.1893946], cost=[0.1014509]\n",
      "iter=690, weight=[2.15666783], bias=[9.20145726], cost=[0.09955371]\n",
      "iter=700, weight=[2.15029322], bias=[9.21296875], cost=[0.09782594]\n",
      "iter=710, weight=[2.14420989], bias=[9.22395425], cost=[0.09625245]\n",
      "iter=720, weight=[2.13840451], bias=[9.2344378], cost=[0.09481947]\n",
      "iter=730, weight=[2.1328644], bias=[9.24444234], cost=[0.09351445]\n",
      "iter=740, weight=[2.12757743], bias=[9.25398974], cost=[0.09232597]\n",
      "iter=750, weight=[2.12253203], bias=[9.2631009], cost=[0.09124361]\n",
      "iter=760, weight=[2.11771716], bias=[9.27179575], cost=[0.0902579]\n",
      "iter=770, weight=[2.1131223], bias=[9.28009331], cost=[0.08936022]\n",
      "iter=780, weight=[2.10873739], bias=[9.28801174], cost=[0.08854269]\n",
      "iter=790, weight=[2.10455284], bias=[9.29556836], cost=[0.08779817]\n",
      "iter=800, weight=[2.10055948], bias=[9.3027797], cost=[0.08712013]\n",
      "iter=810, weight=[2.0967486], bias=[9.30966153], cost=[0.08650264]\n",
      "iter=820, weight=[2.09311184], bias=[9.31622892], cost=[0.08594028]\n",
      "iter=830, weight=[2.08964125], bias=[9.32249623], cost=[0.08542815]\n",
      "iter=840, weight=[2.08632924], bias=[9.32847717], cost=[0.08496174]\n",
      "iter=850, weight=[2.08316857], bias=[9.33418483], cost=[0.08453699]\n",
      "iter=860, weight=[2.08015231], bias=[9.3396317], cost=[0.08415016]\n",
      "iter=870, weight=[2.07727387], bias=[9.34482968], cost=[0.08379787]\n",
      "iter=880, weight=[2.07452696], bias=[9.34979016], cost=[0.08347705]\n",
      "iter=890, weight=[2.07190555], bias=[9.35452398], cost=[0.08318487]\n",
      "iter=900, weight=[2.06940393], bias=[9.3590415], cost=[0.08291878]\n",
      "iter=910, weight=[2.06701661], bias=[9.36335261], cost=[0.08267646]\n",
      "iter=920, weight=[2.06473837], bias=[9.36746673], cost=[0.08245577]\n",
      "iter=930, weight=[2.06256423], bias=[9.37139287], cost=[0.08225479]\n",
      "iter=940, weight=[2.06048944], bias=[9.37513961], cost=[0.08207175]\n",
      "iter=950, weight=[2.05850944], bias=[9.37871516], cost=[0.08190507]\n",
      "iter=960, weight=[2.05661992], bias=[9.38212733], cost=[0.08175326]\n",
      "iter=970, weight=[2.05481673], bias=[9.38538359], cost=[0.08161501]\n",
      "iter=980, weight=[2.05309593], bias=[9.38849107], cost=[0.08148911]\n",
      "iter=990, weight=[2.05145376], bias=[9.39145655], cost=[0.08137445]\n"
     ]
    }
   ],
   "source": [
    "costs = np.zeros(iterations)\n",
    "\n",
    "# Running Gradient Descent\n",
    "#W, b, costs = gradient_descent(X, y, W, b, learning_rate, iterations)\n",
    "W, b, costs = train(X, y, W, b, learning_rate, iterations)"
   ]
  },
  {
   "cell_type": "code",
   "execution_count": null,
   "id": "cf36656b",
   "metadata": {
    "id": "cf36656b",
    "outputId": "afe092f9-6d51-4ecf-b0b3-60c658da92f3"
   },
   "outputs": [
    {
     "data": {
      "text/plain": [
       "array([2.05004006])"
      ]
     },
     "execution_count": 11,
     "metadata": {},
     "output_type": "execute_result"
    }
   ],
   "source": [
    "W"
   ]
  },
  {
   "cell_type": "code",
   "execution_count": null,
   "id": "d59d388b",
   "metadata": {
    "id": "d59d388b",
    "outputId": "f4f197c3-6cde-41b7-bde0-a1d33154f352"
   },
   "outputs": [
    {
     "name": "stdout",
     "output_type": "stream",
     "text": [
      "Final W value: [2.05004006]\n",
      "Final b value: [9.39400946]\n",
      "Final Cost/MSE(L2 Loss) Value: [0.08128003]\n"
     ]
    }
   ],
   "source": [
    "# printing final values.\n",
    "print('Final W value: {}\\nFinal b value: {}'.format(W, b))\n",
    "print('Final Cost/MSE(L2 Loss) Value: {}'.format(costs[-1]))"
   ]
  },
  {
   "cell_type": "code",
   "execution_count": null,
   "id": "7384e581",
   "metadata": {
    "id": "7384e581",
    "outputId": "6e69cdbf-c23b-49aa-a1e6-94071fe29f41"
   },
   "outputs": [
    {
     "data": {
      "text/plain": [
       "Text(0.5, 1.0, 'Cost vs Iterations Analysis')"
      ]
     },
     "execution_count": 14,
     "metadata": {},
     "output_type": "execute_result"
    },
    {
     "data": {
      "image/png": "[encoded data removed]",
      "text/plain": [
       "<Figure size 432x288 with 1 Axes>"
      ]
     },
     "metadata": {
      "needs_background": "light"
     },
     "output_type": "display_data"
    }
   ],
   "source": [
    "# Plotting Line Plot for Number of Iterations vs MSE\n",
    "plt.plot(range(iterations),costs)\n",
    "plt.xlabel('Number of Iterations')\n",
    "plt.ylabel('Mean Squared Error')\n",
    "plt.title('Cost vs Iterations Analysis')"
   ]
  },
  {
   "cell_type": "code",
   "execution_count": null,
   "id": "1d03bc56",
   "metadata": {
    "id": "1d03bc56",
    "outputId": "e957ed72-842d-4d14-c193-2724f8ee0d05"
   },
   "outputs": [
    {
     "name": "stdout",
     "output_type": "stream",
     "text": [
      "Data point: [[1.90019295]\n",
      " [2.49170831]\n",
      " [1.34976129]\n",
      " [1.50835349]\n",
      " [0.72884509]\n",
      " [2.8125541 ]\n",
      " [0.58919217]\n",
      " [2.59292955]\n",
      " [2.87251891]\n",
      " [0.30277162]], [[13.75499643]\n",
      " [14.03498054]\n",
      " [12.36533794]\n",
      " [12.23180643]\n",
      " [11.05548239]\n",
      " [15.09967869]\n",
      " [10.42343644]\n",
      " [15.12651411]\n",
      " [15.01648907]\n",
      " [ 9.63918871]]\n"
     ]
    }
   ],
   "source": [
    "# Prediction\n",
    "\n",
    "# Generate data points like before\n",
    "X_test = 3*np.random.rand(10,1)\n",
    "y_test = 9 + 2*X_test + np.random.rand(10,1)\n",
    "\n",
    "# Show the data point\n",
    "data_string = 'Data point: {}, {}'\n",
    "print(data_string.format(X_test, y_test))"
   ]
  },
  {
   "cell_type": "code",
   "execution_count": null,
   "id": "c9a87c0f",
   "metadata": {
    "id": "c9a87c0f",
    "outputId": "741a0f56-2971-4307-d408-296214ecdfcc"
   },
   "outputs": [
    {
     "data": {
      "text/plain": [
       "array([[13.28948114],\n",
       "       [14.50211132],\n",
       "       [12.16107418],\n",
       "       [12.48619455],\n",
       "       [10.88817109],\n",
       "       [15.15985803],\n",
       "       [10.60187702],\n",
       "       [14.70961892],\n",
       "       [15.28278831],\n",
       "       [10.01470342]])"
      ]
     },
     "execution_count": 16,
     "metadata": {},
     "output_type": "execute_result"
    }
   ],
   "source": [
    "prediction = predict(X_test, W, b)\n",
    "prediction"
   ]
  },
  {
   "cell_type": "code",
   "execution_count": null,
   "id": "b1631e94",
   "metadata": {
    "id": "b1631e94",
    "outputId": "53756ebe-f15f-49ae-d27c-3c96e8fb09f6"
   },
   "outputs": [
    {
     "data": {
      "text/plain": [
       "0.7"
      ]
     },
     "execution_count": 17,
     "metadata": {},
     "output_type": "execute_result"
    }
   ],
   "source": [
    "score = float(sum(np.round(prediction) == np.round(y_test)))/ float(len(y_test))\n",
    "score"
   ]
  },
  {
   "cell_type": "code",
   "execution_count": null,
   "id": "79de7593",
   "metadata": {
    "id": "79de7593",
    "outputId": "aed91803-ef2f-4760-a69d-3ddf4a42ddd2"
   },
   "outputs": [
    {
     "data": {
      "text/plain": [
       "[<matplotlib.lines.Line2D at 0x10945a72320>]"
      ]
     },
     "execution_count": 18,
     "metadata": {},
     "output_type": "execute_result"
    },
    {
     "data": {
      "image/png": "[encoded data removed]",
      "text/plain": [
       "<Figure size 432x288 with 1 Axes>"
      ]
     },
     "metadata": {
      "needs_background": "light"
     },
     "output_type": "display_data"
    }
   ],
   "source": [
    "plt.scatter(X_test, y_test, color=\"blue\", label=\"original\")\n",
    "plt.plot(X_test, prediction, color=\"red\", label=\"predicted\")"
   ]
  },
  {
   "cell_type": "code",
   "execution_count": null,
   "id": "fe943512",
   "metadata": {
    "id": "fe943512",
    "outputId": "5c127c9f-8f88-4c68-b034-b7882e6cc4d3"
   },
   "outputs": [
    {
     "name": "stdout",
     "output_type": "stream",
     "text": [
      "Data point: [[1.78506592]], [[13.400561]]\n"
     ]
    }
   ],
   "source": [
    "# Let's talk about one star now!\n",
    "\n",
    "#Generate one data point\n",
    "X_test = 3*np.random.rand(1,1)\n",
    "y_test = 9 + 2*X_test + np.random.rand(1,1)\n",
    "\n",
    "# Show the data point\n",
    "data_string = 'Data point: {}, {}'\n",
    "print(data_string.format(X_test, y_test))"
   ]
  },
  {
   "cell_type": "code",
   "execution_count": null,
   "id": "9dfa5f35",
   "metadata": {
    "id": "9dfa5f35",
    "outputId": "b20d7976-3007-40b2-ebb2-725b1e25e0fc"
   },
   "outputs": [
    {
     "data": {
      "text/plain": [
       "array([[13.05346611]])"
      ]
     },
     "execution_count": 20,
     "metadata": {},
     "output_type": "execute_result"
    }
   ],
   "source": [
    "prediction = predict(X_test, W, b)\n",
    "prediction"
   ]
  },
  {
   "cell_type": "code",
   "execution_count": null,
   "id": "ce158934",
   "metadata": {
    "id": "ce158934",
    "outputId": "9f49e7c0-ad15-4328-cf57-26302379513f"
   },
   "outputs": [
    {
     "data": {
      "text/plain": [
       "1.0"
      ]
     },
     "execution_count": 22,
     "metadata": {},
     "output_type": "execute_result"
    }
   ],
   "source": [
    "score = float(sum(np.round(prediction) == np.round(y_test)))/ float(len(y_test))\n",
    "score"
   ]
  },
  {
   "cell_type": "code",
   "execution_count": null,
   "id": "77dc0cad",
   "metadata": {
    "id": "77dc0cad",
    "outputId": "bc03ff02-48d2-4d77-a15e-f84ba28dd7d0"
   },
   "outputs": [
    {
     "name": "stdout",
     "output_type": "stream",
     "text": [
      "We've got a big star..\n"
     ]
    }
   ],
   "source": [
    "if prediction >= thresh:\n",
    "    print('We\\'ve got a big star..')\n",
    "else:\n",
    "    print('We\\'ve got a cute lil star!')"
   ]
  },
  {
   "cell_type": "code",
   "execution_count": null,
   "id": "ca520fc6",
   "metadata": {
    "id": "ca520fc6"
   },
   "outputs": [],
   "source": []
  }
 ],
 "metadata": {
  "colab": {
   "collapsed_sections": [],
   "name": "linear_regression_Wb.ipynb",
   "provenance": []
  },
  "kernelspec": {
   "display_name": "Python 3 (ipykernel)",
   "language": "python",
   "name": "python3"
  },
  "language_info": {
   "codemirror_mode": {
    "name": "ipython",
    "version": 3
   },
   "file_extension": ".py",
   "mimetype": "text/x-python",
   "name": "python",
   "nbconvert_exporter": "python",
   "pygments_lexer": "ipython3",
   "version": "3.9.7"
  }
 },
 "nbformat": 4,
 "nbformat_minor": 5
}
